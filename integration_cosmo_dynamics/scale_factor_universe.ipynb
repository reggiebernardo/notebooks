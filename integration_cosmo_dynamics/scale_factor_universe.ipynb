{
 "cells": [
  {
   "cell_type": "markdown",
   "metadata": {},
   "source": [
    "### Scalar factor of the Universe"
   ]
  },
  {
   "cell_type": "code",
   "execution_count": 1,
   "metadata": {},
   "outputs": [],
   "source": [
    "import numpy as np\n",
    "from pylab import *\n",
    "from scipy.integrate import odeint"
   ]
  },
  {
   "cell_type": "markdown",
   "metadata": {},
   "source": [
    "In this notebook, we solve for the scale factor of the Universe based on the Standard Model of Cosmology, often called $\\Lambda$CDM model. We take numerical values from the following:\n",
    "\n",
    "[1] Lyth, D. H., & Liddle, A. R. (2009). The primordial density perturbation: Cosmology, inflation and the origin of structure. Cambridge University Press.\n",
    "\n",
    "The Friedmann equation is given by\n",
    "\\begin{equation}\n",
    "H(a)^2 = H_0^2 \\left( \\Omega_{r0} a^{-4} + \\Omega_{m0} a^{-3} + \\Omega_{\\Lambda 0} \\right)\n",
    "\\end{equation}\n",
    "where $H$ is the Hubble parameter, and $\\Omega_{r0}$, $\\Omega_{m0}$, and $\\Omega_{\\Lambda 0}$ are the radiation, matter, and the vacuum (cosmological constant) energy densities, respectively, today. We refer to the following values tabulated in appendix B of Ref. [1]:\n",
    "\\begin{eqnarray}\n",
    "\\Omega_{r0} &=& 8.47 \\times 10^{-5} \\\\\n",
    "\\Omega_{m0} &=& 0.276 \\\\\n",
    "\\Omega_{\\Lambda 0} &=& 1 - \\Omega_{r0} - \\Omega_{m0} \\\\\n",
    "H_0 &=& 70 \\ \\text{km} / \\text{s} / \\text{Mpc}  .\n",
    "\\end{eqnarray}\n",
    "\n",
    "Noting that the Hubble parameter $H$ is related to the scale factor $a$ as\n",
    "\\begin{equation}\n",
    "H = \\frac{\\dot{a}}{a}\n",
    "\\end{equation}\n",
    "where an overdot denotes derivative with respect to the comoving time $t$, then the Friedmann equation can be written down as\n",
    "\\begin{equation}\n",
    "\\dot{a} = a H_0 \\sqrt{\\left( \\Omega_{r0} a^{-4} + \\Omega_{m0} a^{-3} + \\Omega_{\\Lambda 0} \\right)} .\n",
    "\\end{equation}\n",
    "This is the expression that we input into $odeint$. In the following code, we input this differential equation."
   ]
  },
  {
   "cell_type": "code",
   "execution_count": 2,
   "metadata": {},
   "outputs": [],
   "source": [
    "# here we setup the constants and the ode\n",
    "\n",
    "omega_r = 8.47e-5\n",
    "omega_m = 0.276\n",
    "omega_vac = 1. - omega_r - omega_m\n",
    "H_0 = 1. # rescaled to unity for efficient numerics\n",
    "\n",
    "a_0 = 1. # initial condition on the scale factor today\n",
    "\n",
    "def f(y, t):\n",
    "    return y*H_0*np.sqrt( omega_r*(y**(-4.)) + omega_m*(y**(-3.)) + omega_vac )\n",
    "\n",
    "time_points = np.linspace(1., 0.01, 100)"
   ]
  },
  {
   "cell_type": "markdown",
   "metadata": {},
   "source": [
    "Note that by setting $H_0$ to unity, we work in units where time is measured in $H_0^{-1} \\sim 14$ billion years. Also, we are integrating backwards in time, starting from the present.\n",
    "\n",
    "With this said, we obtain the scale factor $a(t)$ of the Universe as follows."
   ]
  },
  {
   "cell_type": "code",
   "execution_count": 3,
   "metadata": {
    "scrolled": false
   },
   "outputs": [
    {
     "name": "stderr",
     "output_type": "stream",
     "text": [
      "C:\\Users\\Reggie Bernardo\\AppData\\Local\\Continuum\\anaconda3\\lib\\site-packages\\scipy\\integrate\\odepack.py:236: ODEintWarning: Excess work done on this call (perhaps wrong Dfun type). Run with full_output = 1 to get quantitative information.\n",
      "  warnings.warn(warning_msg, ODEintWarning)\n"
     ]
    },
    {
     "data": {
      "image/png": "[encoded data removed]",
      "text/plain": [
       "<Figure size 432x288 with 1 Axes>"
      ]
     },
     "metadata": {},
     "output_type": "display_data"
    }
   ],
   "source": [
    "rc('xtick', labelsize = 20) # for the tick marks\n",
    "rc('ytick', labelsize = 20)\n",
    "\n",
    "a_lcdm = odeint(f, a_0, time_points) # odeint does its job\n",
    "\n",
    "plot(time_points, a_lcdm, 'r-', linewidth = 3.0)\n",
    "ylim(0.01, 1) # aesthetics\n",
    "xlim(0.01, 1)\n",
    "xlabel(r'time (14 byr)', fontsize = 20)\n",
    "ylabel('scale factor', fontsize = 20)\n",
    "show()"
   ]
  },
  {
   "cell_type": "markdown",
   "metadata": {},
   "source": [
    "So, yeah. This is the scale factor $a(t)$ of the Universe. From this, one could think of the size of the universe as $V(t) \\sim a(t)^3$.\n",
    "\n",
    "The expansion history can be divided into three eras (1) radiation (2) matter and (3) dark energy era, depending on the Universe's energy content. The first era, which comes just right after the Big Bang and primordial inflation, is radiation domination, where $a(t) \\sim t^{1/2}$. Then comes matter era, as radiation cools down much faster than matter, during which $a(t) \\sim t^{2/3}$. Finally, and today, after both radiation and matter domination, comes dark energy era, where the Universe is dominated by an invisible, negative pressure fluid that sources the observed cosmic acceleration."
   ]
  }
 ],
 "metadata": {
  "kernelspec": {
   "display_name": "Python 3",
   "language": "python",
   "name": "python3"
  },
  "language_info": {
   "codemirror_mode": {
    "name": "ipython",
    "version": 3
   },
   "file_extension": ".py",
   "mimetype": "text/x-python",
   "name": "python",
   "nbconvert_exporter": "python",
   "pygments_lexer": "ipython3",
   "version": "3.6.5"
  }
 },
 "nbformat": 4,
 "nbformat_minor": 2
}
