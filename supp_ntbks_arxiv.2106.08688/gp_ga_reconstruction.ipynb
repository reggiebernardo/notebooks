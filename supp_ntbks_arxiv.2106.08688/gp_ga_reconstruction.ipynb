{
 "cells": [
  {
   "cell_type": "markdown",
   "metadata": {},
   "source": [
    "## Gaussian processes with genetic algorithm for the reconstruction of late-time Hubble data"
   ]
  },
  {
   "cell_type": "markdown",
   "metadata": {},
   "source": [
    "This notebook uses Gaussian processes (GP) with the genetic algorithm (GA) to reconstruct the cosmic chronometers and supernovae data sets ([2106.08688](https://arxiv.org/abs/2106.08688)). We shall construct our own GP class and use it with the python package ``pygad`` (https://pygad.readthedocs.io/) for the GA.\n",
    "\n",
    "References to the data can be found at the end of the notebook."
   ]
  },
  {
   "cell_type": "code",
   "execution_count": 1,
   "metadata": {},
   "outputs": [],
   "source": [
    "%matplotlib inline\n",
    "import numpy as np\n",
    "from numpy.random import uniform as unif\n",
    "import matplotlib.pyplot as plt\n",
    "import pygad"
   ]
  },
  {
   "cell_type": "markdown",
   "metadata": {},
   "source": [
    "### 0. My GP class"
   ]
  },
  {
   "cell_type": "markdown",
   "metadata": {},
   "source": [
    "Here is the GP class (written from scratch) that we shall use in this notebook."
   ]
  },
  {
   "cell_type": "code",
   "execution_count": 2,
   "metadata": {},
   "outputs": [],
   "source": [
    "class GP:\n",
    "    '''Class for making GP predictions.\n",
    "    \n",
    "    rbf: k(r) = A^2 \\exp(-r^2/(2l^2))\n",
    "    rq : k(r) = A^2 (1 + (r^2/(2 \\alpha l^2)))^{-\\alpha}\n",
    "    m52: k(r) = A^2 \\exp(-\\sqrt{5}r/l)\n",
    "                (1 + \\sqrt{5}r/l + 5r^2/(3l^2))\n",
    "    mix: rbf + chy + m52\n",
    "    \n",
    "    Input:\n",
    "    chromosome: list of kernel hyperparameters \n",
    "    '''\n",
    "    \n",
    "    def __init__(self, chromosome):\n",
    "        self.C_rbf = chromosome[0] # rbf genes\n",
    "        self.l_rbf = chromosome[1]\n",
    "        self.n_rbf = chromosome[2]\n",
    "        self.C_rq = chromosome[3] # rq genes\n",
    "        self.l_rq = chromosome[4]\n",
    "        self.a_rq = chromosome[5]\n",
    "        self.n_rq = chromosome[6]\n",
    "        self.C_m52 = chromosome[7] # m52 genes\n",
    "        self.l_m52 = chromosome[8]\n",
    "        self.n_m52 = chromosome[9]\n",
    "        \n",
    "    def kernel(self, x, y):\n",
    "        r = x - y\n",
    "        # rbf term\n",
    "        k_rbf = np.exp(-(r**2)/(2*(self.l_rbf**2)))\n",
    "        rbf_term = (self.C_rbf**2)*(k_rbf**self.n_rbf)\n",
    "        # rq term\n",
    "        r = x - y\n",
    "        R_sq = (r**2)/(2*(self.l_rq**2))\n",
    "        k_rq = 1/((1 + R_sq/self.a_rq)**self.a_rq)\n",
    "        rq_term = (self.C_rq**2)*(k_rq**self.n_rq)\n",
    "        # m52 term\n",
    "        X = np.sqrt(5)*np.abs(r)/self.l_m52\n",
    "        B = 1 + X + ((X**2)/3)\n",
    "        k_m52 = B*np.exp(-X)\n",
    "        m52_term = (self.C_m52**2)*(k_m52**self.n_m52)\n",
    "        return rbf_term + rq_term + m52_term\n",
    "    \n",
    "    def k_plus_c_inv(self, Z, C):\n",
    "        k_ZZ = np.array([[self.kernel(z_i, z_j) \\\n",
    "                          for z_i in Z]\n",
    "                         for z_j in Z])\n",
    "        return np.linalg.inv(k_ZZ + C)\n",
    "    \n",
    "    def cov(self, Z, C, Zs):\n",
    "        '''Returns the covariance matrix at Zs.\n",
    "        \n",
    "        Note: Zs must be an array.'''\n",
    "        kpc_inv = self.k_plus_c_inv(Z, C)\n",
    "        return np.array([[self.kernel(z_i, z_j) \\\n",
    "                          -(self.kernel(z_i, Z) @ \\\n",
    "                            kpc_inv @ \\\n",
    "                            self.kernel(Z, z_j)) \\\n",
    "                          for z_i in Zs] \\\n",
    "                         for z_j in Zs])\n",
    "    \n",
    "    def var(self, Z, C, Zs):\n",
    "        '''Returns the variance at Zs.\n",
    "        \n",
    "        Note: Zs must be an array.'''\n",
    "        kpc_inv = self.k_plus_c_inv(Z, C)\n",
    "        return np.array([self.kernel(zs, zs) \\\n",
    "                         -(self.kernel(zs, Z) @ \\\n",
    "                           kpc_inv @ \\\n",
    "                           self.kernel(Z, zs)) \\\n",
    "                         for zs in Zs])\n",
    "    \n",
    "    def get_logmlike(self, Z, Y, C):\n",
    "        '''Returns the log-marginal likelihood.'''\n",
    "        kpc_inv = self.k_plus_c_inv(Z, C)\n",
    "        kpc = np.linalg.inv(kpc_inv)\n",
    "        kpc_det = np.linalg.det(kpc)\n",
    "        Ys = np.array([(self.kernel(zs, Z) @ kpc_inv \\\n",
    "                        @ Y) for zs in Z])\n",
    "        delta_y = Y\n",
    "        return -0.5*(delta_y @ kpc_inv @ delta_y) \\\n",
    "               -0.5*np.log(kpc_det) \\\n",
    "               -0.5*len(Z)*np.log(2*np.pi)\n",
    "    \n",
    "    def predict(self, Z, Y, C, Zs, with_cov = False, \\\n",
    "                k_as_cov = False):\n",
    "        kpc_inv = self.k_plus_c_inv(Z, C)\n",
    "        mean = np.array([(self.kernel(zs, Z) @ kpc_inv \\\n",
    "                          @ Y) for zs in Zs])\n",
    "        if with_cov == False:\n",
    "            var_zz = self.var(Z, C, Zs)\n",
    "            return {'z': Zs, 'Y': mean, \\\n",
    "                    'varY': var_zz}\n",
    "        elif (with_cov == True) and (k_as_cov == False):\n",
    "            cov_zz = self.cov(Z, C, Zs)\n",
    "            return {'z': Zs, 'Y': mean, \\\n",
    "                    'covY': cov_zz}\n",
    "        elif (with_cov == True) and (k_as_cov == True):\n",
    "            cov_zz = np.array([[self.kernel(z_i, z_j) \\\n",
    "                                for z_i in Zs] \\\n",
    "                               for z_j in Zs])\n",
    "            return {'z': Zs, 'Y': mean, \\\n",
    "                    'covY': cov_zz}"
   ]
  },
  {
   "cell_type": "markdown",
   "metadata": {},
   "source": [
    "This will be used for both the cosmic chronometers (Section 1) and supernovae applications (Section 2)."
   ]
  },
  {
   "cell_type": "markdown",
   "metadata": {},
   "source": [
    "### 1. Cosmic chronometers"
   ]
  },
  {
   "cell_type": "markdown",
   "metadata": {},
   "source": [
    "Importing the cosmic chronometers data set."
   ]
  },
  {
   "cell_type": "code",
   "execution_count": 3,
   "metadata": {},
   "outputs": [
    {
     "data": {
      "image/png": "[encoded data removed]",
      "text/plain": [
       "<Figure size 432x288 with 1 Axes>"
      ]
     },
     "metadata": {
      "needs_background": "light"
     },
     "output_type": "display_data"
    }
   ],
   "source": [
    "cc_data = np.loadtxt('cc_data.txt')\n",
    "\n",
    "z_cc = cc_data[:, 0]\n",
    "Hz_cc = cc_data[:, 1]\n",
    "sigHz_cc = cc_data[:, 2]\n",
    "\n",
    "fig, ax = plt.subplots()\n",
    "ax.errorbar(z_cc, Hz_cc, yerr = sigHz_cc,\n",
    "            fmt = 'ro', ecolor = 'k',\n",
    "            markersize = 7, capsize = 3)\n",
    "ax.set_xlabel('$z$')\n",
    "ax.set_ylabel('$H(z)$')\n",
    "plt.show()"
   ]
  },
  {
   "cell_type": "markdown",
   "metadata": {},
   "source": [
    "To use the GA, we setup the log-marginal likelihood as a fitness function. In addition, we consider a Bayesian-information type penalty to fine complex kernels."
   ]
  },
  {
   "cell_type": "code",
   "execution_count": 4,
   "metadata": {},
   "outputs": [],
   "source": [
    "n_data = len(z_cc)\n",
    "\n",
    "def penalty(chromosome):\n",
    "    '''Identifies a penalty term to be factored in the fitness function\n",
    "    so that longer/more complex kernels will be given a due weight.'''\n",
    "\n",
    "    c_rbf = chromosome[0]\n",
    "    l_rbf = chromosome[1]\n",
    "    A_rbf = c_rbf*l_rbf\n",
    "\n",
    "    c_rq = chromosome[3]\n",
    "    l_rq = chromosome[4]\n",
    "    A_rq = c_rq*l_rq\n",
    "    \n",
    "    c_m52 = chromosome[7]\n",
    "    l_m52 = chromosome[8]\n",
    "    A_m52 = c_m52*l_m52\n",
    "    \n",
    "    # set threshold to A_X = c_x*l_x\n",
    "    A_th = 1e-3\n",
    "    k = 0\n",
    "    if A_rbf > A_th:\n",
    "        k += 3\n",
    "    if A_rq > A_th:\n",
    "        k += 4\n",
    "    if A_m52 > A_th:\n",
    "        k += 3\n",
    "        \n",
    "    return k*np.log(n_data)/2\n",
    "\n",
    "def get_fit(chromosome):\n",
    "    '''Evaluates the fitness of the indivial with chromosome'''\n",
    "    if all(hp > 0 for hp in chromosome) == True:\n",
    "        pnl = penalty(chromosome)\n",
    "        try:\n",
    "            gp = GP(chromosome)\n",
    "            lml = gp.get_logmlike(z_cc, Hz_cc,\n",
    "                                  np.diag(sigHz_cc**2))\n",
    "            return lml - pnl\n",
    "        except:\n",
    "            lml = -1000\n",
    "            return lml\n",
    "    else:\n",
    "        lml = -1000\n",
    "        return lml\n",
    "    \n",
    "def fitness_function(chromosome, chromosome_idx):\n",
    "    return get_fit(chromosome)"
   ]
  },
  {
   "cell_type": "markdown",
   "metadata": {},
   "source": [
    "In the next line, we setup an equally uniform population of pure-bred kernels and a diverse set of kernels. It is interesting to see the evolution of the uniform population compared to one which is a lot more diverse."
   ]
  },
  {
   "cell_type": "code",
   "execution_count": 5,
   "metadata": {},
   "outputs": [],
   "source": [
    "pop_size = 1000 # population size\n",
    "\n",
    "init_uni = []\n",
    "for i in range(0, pop_size):\n",
    "    if i < int(pop_size/3):\n",
    "        init_uni.append([unif(0, 300), unif(0, 10), unif(0, 5),\n",
    "                         0, 0, 0, 0, 0, 0, 0])\n",
    "    elif (i > int(pop_size/3)) and (i < int(2*pop_size/3)):\n",
    "        init_uni.append([0, 0, 0,\n",
    "                         unif(0, 300), unif(0, 10), unif(0, 2), unif(0, 5),\n",
    "                         0, 0, 0])\n",
    "    else:\n",
    "        init_uni.append([0, 0, 0, 0, 0, 0, 0,\n",
    "                         unif(0, 300), unif(0, 10), unif(0, 5)])\n",
    "init_uni = np.array(init_uni)\n",
    "\n",
    "init_div = []\n",
    "for i in range(0, pop_size):\n",
    "    init_div.append([unif(0, 300), unif(0, 10), unif(0, 5),\n",
    "                     unif(0, 300), unif(0, 10), unif(0, 2), unif(0, 5),\n",
    "                     unif(0, 300), unif(0, 10), unif(0, 5)])\n",
    "init_div = np.array(init_div)"
   ]
  },
  {
   "cell_type": "markdown",
   "metadata": {},
   "source": [
    "Given this, we prepare the parameters of the GA."
   ]
  },
  {
   "cell_type": "code",
   "execution_count": 6,
   "metadata": {},
   "outputs": [],
   "source": [
    "gene_space = [{'low': 0, 'high': 300}, {'low': 0, 'high': 10}, {'low': 0, 'high': 5}, # rbf lims\n",
    "              {'low': 0, 'high': 300}, {'low': 0, 'high': 10}, # chy lims\n",
    "              {'low': 0, 'high': 2}, {'low': 0, 'high': 5}, \n",
    "              {'low': 0, 'high': 300}, {'low': 0, 'high': 10}, {'low': 0, 'high': 5}] # m52 lims\n",
    "\n",
    "num_genes = 10 # length of chromosome\n",
    "\n",
    "n_gen = 100 # number of generations\n",
    "sel_rate = 0.3 # selection rate\n",
    "    \n",
    "# parent selection\n",
    "parent_selection_type = \"rws\" # roulette wheel selection\n",
    "keep_parents = int(sel_rate*pop_size)\n",
    "num_parents_mating = int(sel_rate*pop_size)\n",
    "\n",
    "# crossover\n",
    "#crossover_type = \"single_point\"\n",
    "#crossover_type = \"two_points\"\n",
    "#crossover_type = \"uniform\"\n",
    "crossover_type = \"scattered\"\n",
    "crossover_prob = 1.0\n",
    "\n",
    "# mutation type options: random, swap, inversion, scramble, adaptive\n",
    "mutation_type = \"random\"\n",
    "#mutation_type = \"swap\"\n",
    "#mutation_type = \"inversion\"\n",
    "#mutation_type = \"scramble\"\n",
    "#mutation_type = \"adaptive\"\n",
    "mutation_prob = 0.5\n",
    "\n",
    "def callback_generation(ga_instance):\n",
    "    i_gen = ga_instance.generations_completed\n",
    "    if i_gen in [i for i in range(0, n_gen, int(n_gen*0.1))]:\n",
    "        last_best = ga_instance.best_solutions[-1]\n",
    "        print(\"generation = {generation}\".format(generation = i_gen))\n",
    "        print(\"fitness    = {fitness}\".format(fitness = get_fit(last_best)))"
   ]
  },
  {
   "cell_type": "markdown",
   "metadata": {},
   "source": [
    "The ``GA run`` is performed in the next line.\n",
    "\n",
    "*The next two code runs may be skipped if output have already been saved. In this case, proceed to the loading lines."
   ]
  },
  {
   "cell_type": "code",
   "execution_count": null,
   "metadata": {},
   "outputs": [],
   "source": [
    "# setup GA instance, for random initial pop.\n",
    "ga_inst_uni_cc = pygad.GA(initial_population = init_uni,\n",
    "                          num_genes = num_genes,\n",
    "                          num_generations = n_gen,\n",
    "                          num_parents_mating = num_parents_mating,\n",
    "                          fitness_func = fitness_function,\n",
    "                          parent_selection_type = parent_selection_type,\n",
    "                          keep_parents = keep_parents,\n",
    "                          crossover_type = crossover_type,\n",
    "                          crossover_probability = crossover_prob,\n",
    "                          mutation_type = mutation_type,\n",
    "                          mutation_probability = mutation_prob,\n",
    "                          mutation_by_replacement = True,\n",
    "                          on_generation = callback_generation,\n",
    "                          gene_space = gene_space,\n",
    "                          save_best_solutions = True)\n",
    "\n",
    "# perform GA run\n",
    "ga_inst_uni_cc.run()\n",
    "\n",
    "# save results\n",
    "ga_inst_uni_cc.save('gp_ga_cc_uniform_init')\n",
    "\n",
    "# best solution\n",
    "solution = ga_inst_uni_cc.best_solutions[-1]\n",
    "print(\"best chromosome: {solution}\".format(solution = solution))\n",
    "print(\"best fitness = {solution_fitness}\".format(solution_fitness = \\\n",
    "                                                 get_fit(solution)))"
   ]
  },
  {
   "cell_type": "markdown",
   "metadata": {},
   "source": [
    "Next run creates a GA instance with the same parameters as with the previous run, but a a diversified initial population."
   ]
  },
  {
   "cell_type": "code",
   "execution_count": null,
   "metadata": {},
   "outputs": [],
   "source": [
    "ga_inst_div_cc = pygad.GA(initial_population = init_div,\n",
    "                          num_genes = num_genes,\n",
    "                          num_generations = n_gen,\n",
    "                          num_parents_mating = num_parents_mating,\n",
    "                          fitness_func = fitness_function,\n",
    "                          parent_selection_type = parent_selection_type,\n",
    "                          keep_parents = keep_parents,\n",
    "                          crossover_type = crossover_type,\n",
    "                          crossover_probability = crossover_prob,\n",
    "                          mutation_type = mutation_type,\n",
    "                          mutation_probability = mutation_prob,\n",
    "                          mutation_by_replacement = True,\n",
    "                          on_generation = callback_generation,\n",
    "                          gene_space = gene_space,\n",
    "                          save_best_solutions = True)\n",
    "\n",
    "# perform GA run\n",
    "ga_inst_div_cc.run()\n",
    "\n",
    "# save results\n",
    "ga_inst_div_cc.save('gp_ga_cc_diverse_init')\n",
    "\n",
    "# best solution\n",
    "solution = ga_inst_div_cc.best_solutions[-1]\n",
    "print(\"best chromosome: {solution}\".format(solution = solution))\n",
    "print(\"best fitness = {solution_fitness}\".format(solution_fitness = \\\n",
    "                                                 get_fit(solution)))"
   ]
  },
  {
   "cell_type": "markdown",
   "metadata": {},
   "source": [
    "``Loading lines``\n",
    "\n",
    "We can load the ``pygad`` results should they have been saved already in previous runs."
   ]
  },
  {
   "cell_type": "code",
   "execution_count": 7,
   "metadata": {},
   "outputs": [],
   "source": [
    "load_ga_uniform = pygad.load('gp_ga_cc_uniform_init')\n",
    "load_ga_diverse = pygad.load('gp_ga_cc_diverse_init')"
   ]
  },
  {
   "cell_type": "markdown",
   "metadata": {},
   "source": [
    "We can view the prediction based on this superior individual below."
   ]
  },
  {
   "cell_type": "code",
   "execution_count": 8,
   "metadata": {
    "tags": []
   },
   "outputs": [
    {
     "name": "stdout",
     "output_type": "stream",
     "text": [
      "uniform\n",
      "H0 = 69.7 +/- 6.3\n",
      "log-marginal likelihood -123.7946112476086\n",
      "penalty 16.83647914993237\n",
      "fitness function -140.63109039754096\n",
      "chi^2 12.241263910472332\n",
      "\n",
      "diverse\n",
      "H0 = 67.3 +/- 5.9\n",
      "log-marginal likelihood -123.76904376987132\n",
      "penalty 16.83647914993237\n",
      "fitness function -140.6055229198037\n",
      "chi^2 12.30756281659826\n",
      "\n"
     ]
    },
    {
     "data": {
      "image/png": "[encoded data removed]",
      "text/plain": [
       "<Figure size 432x288 with 1 Axes>"
      ]
     },
     "metadata": {
      "needs_background": "light"
     },
     "output_type": "display_data"
    }
   ],
   "source": [
    "# champion chromosomes\n",
    "chr_1 = load_ga_uniform.best_solutions[-1]\n",
    "chr_2 = load_ga_diverse.best_solutions[-1]\n",
    "\n",
    "z_min = 0\n",
    "z_max = 3\n",
    "n_div = 1000\n",
    "z_rec = np.linspace(z_min, z_max, n_div)\n",
    "\n",
    "champs = {}\n",
    "champs['uniform'] = {'chromosome': chr_1}\n",
    "champs['diverse'] = {'chromosome': chr_2}\n",
    "\n",
    "for champ in champs:\n",
    "    chromosome = champs[champ]['chromosome']\n",
    "    gp = GP(chromosome)\n",
    "    rec = gp.predict(z_cc, Hz_cc, np.diag(sigHz_cc**2),\n",
    "                     z_rec)\n",
    "    Hz_rec, sigHz_rec = rec['Y'], np.sqrt(rec['varY'])\n",
    "    H0 = Hz_rec[0]\n",
    "    sigH0 = sigHz_rec[0]\n",
    "    \n",
    "    # compute chi2\n",
    "    Hz = gp.predict(z_cc, Hz_cc, np.diag(sigHz_cc**2),\n",
    "                    z_cc)['Y']\n",
    "    chi2 = np.sum(((Hz - Hz_cc)/sigHz_cc)**2)\n",
    "    \n",
    "    # print GA measures\n",
    "    print(champ)\n",
    "    print('H0 =', np.round(H0, 1), '+/-', np.round(sigH0, 1))\n",
    "    print('log-marginal likelihood',\n",
    "          gp.get_logmlike(z_cc, Hz_cc, np.diag(sigHz_cc**2)))\n",
    "    print('penalty', penalty(chromosome))\n",
    "    print('fitness function', get_fit(chromosome))\n",
    "    print('chi^2', chi2)\n",
    "    print()\n",
    "    \n",
    "    champs[champ]['z'] = z_rec\n",
    "    champs[champ]['Hz'] = Hz_rec\n",
    "    champs[champ]['sigHz'] = sigHz_rec\n",
    "\n",
    "# plot champs' predictions\n",
    "    \n",
    "fig, ax = plt.subplots()\n",
    "ax.errorbar(z_cc, Hz_cc, yerr = sigHz_cc,\n",
    "            fmt = 'kx', ecolor = 'k',\n",
    "            elinewidth = 1, capsize = 2, label = 'CC')\n",
    "# color, line style, and hatch list\n",
    "clst = ['b', 'r']\n",
    "llst = ['-', '--']\n",
    "hlst = ['|', '-']\n",
    "for champ in champs:\n",
    "    i = list(champs.keys()).index(champ)\n",
    "    Hz_rec = champs[champ]['Hz']\n",
    "    sigHz_rec = champs[champ]['sigHz']\n",
    "    ax.plot(z_rec, Hz_rec, clst[i] + llst[i],\n",
    "            label = champ)\n",
    "    ax.fill_between(z_rec,\n",
    "                    Hz_rec - 2*sigHz_rec,\n",
    "                    Hz_rec + 2*sigHz_rec,\n",
    "                    facecolor = clst[i], alpha = 0.2,\n",
    "                    edgecolor = clst[i], hatch = hlst[i])\n",
    "ax.set_xlabel('$z$')\n",
    "ax.set_xlim(z_min, z_max)\n",
    "ax.set_ylim(1, 370)\n",
    "ax.set_ylabel('$H(z)$')\n",
    "ax.legend(loc = 'upper left', prop = {'size': 9.5})\n",
    "plt.show()"
   ]
  },
  {
   "cell_type": "markdown",
   "metadata": {},
   "source": [
    "A plot of the generation vs fitness can also be shown."
   ]
  },
  {
   "cell_type": "code",
   "execution_count": 9,
   "metadata": {},
   "outputs": [
    {
     "data": {
      "image/png": "[encoded data removed]",
      "text/plain": [
       "<Figure size 432x288 with 1 Axes>"
      ]
     },
     "metadata": {
      "needs_background": "light"
     },
     "output_type": "display_data"
    }
   ],
   "source": [
    "fit_uni = [get_fit(c) for c in load_ga_uniform.best_solutions]\n",
    "fit_div = [get_fit(c) for c in load_ga_diverse.best_solutions]\n",
    "\n",
    "fig, ax = plt.subplots()\n",
    "ax.plot(fit_uni, 'b-', label = 'uniform')\n",
    "ax.plot(fit_div, 'r--', label = 'diverse')\n",
    "ax.set_xlabel('generation')\n",
    "ax.set_ylabel('best fitness')\n",
    "ax.set_xlim(1, n_gen)\n",
    "ax.set_ylim(-141.0, -140.5)\n",
    "ax.legend(loc = 'lower right', prop = {'size': 9.5})\n",
    "plt.show()"
   ]
  },
  {
   "cell_type": "markdown",
   "metadata": {},
   "source": [
    "### 2. Supernovae Type Ia"
   ]
  },
  {
   "cell_type": "markdown",
   "metadata": {},
   "source": [
    "In this section, we perform the GP reconstruction with the compressed Pantheon data set."
   ]
  },
  {
   "cell_type": "code",
   "execution_count": 10,
   "metadata": {},
   "outputs": [
    {
     "data": {
      "image/png": "[encoded data removed]",
      "text/plain": [
       "<Figure size 432x288 with 1 Axes>"
      ]
     },
     "metadata": {
      "needs_background": "light"
     },
     "output_type": "display_data"
    }
   ],
   "source": [
    "# load pantheon compressed m(z) data\n",
    "loc_lcparam = 'lcparam_DS17f.txt'\n",
    "loc_lcparam_sys = 'sys_DS17f.txt'\n",
    "lcparam = np.loadtxt(loc_lcparam, usecols = (1, 4, 5))\n",
    "lcparam_sys = np.loadtxt(loc_lcparam_sys, skiprows = 1)\n",
    "\n",
    "# setup pantheon samples\n",
    "z_ps = lcparam[:, 0]\n",
    "logz_ps = np.log(z_ps)\n",
    "mz_ps = lcparam[:, 1]\n",
    "sigmz_ps = lcparam[:, 2]\n",
    "\n",
    "# pantheon samples systematics\n",
    "covmz_ps_sys = lcparam_sys.reshape(40, 40)\n",
    "covmz_ps_tot = covmz_ps_sys + np.diag(sigmz_ps**2)\n",
    "\n",
    "# plot data set\n",
    "plt.errorbar(logz_ps, mz_ps,\n",
    "             yerr = np.sqrt(np.diag(covmz_ps_tot)),\n",
    "             fmt = 'kx', markersize = 4,\n",
    "             ecolor = 'red', elinewidth = 2, capsize = 2)\n",
    "plt.xlabel('$\\ln(z)$')\n",
    "plt.ylabel('$m(z)$')\n",
    "plt.show()"
   ]
  },
  {
   "cell_type": "markdown",
   "metadata": {},
   "source": [
    "The fitness function, now taking in the SNe data set, is prepared below for the GA."
   ]
  },
  {
   "cell_type": "code",
   "execution_count": 11,
   "metadata": {},
   "outputs": [],
   "source": [
    "n_data = len(z_ps)\n",
    "\n",
    "def get_fit(chromosome):\n",
    "    '''Evaluates the fitness of the indivial with chromosome'''\n",
    "    if all(hp > 0 for hp in chromosome) == True:\n",
    "        pnl = penalty(chromosome)\n",
    "        try:\n",
    "            gp = GP(chromosome)\n",
    "            lml = gp.get_logmlike(logz_ps, mz_ps,\n",
    "                                  covmz_ps_tot)\n",
    "            if np.isnan(lml) == False:\n",
    "                return lml - pnl\n",
    "            else:\n",
    "                return -1000\n",
    "        except:\n",
    "            lml = -1000\n",
    "            return lml\n",
    "    else:\n",
    "        lml = -1000\n",
    "        return lml\n",
    "    \n",
    "def fitness_function(chromosome, chromosome_idx):\n",
    "    return get_fit(chromosome)"
   ]
  },
  {
   "cell_type": "markdown",
   "metadata": {},
   "source": [
    "Then, we setup the initial uniform and diverse kernel populations."
   ]
  },
  {
   "cell_type": "code",
   "execution_count": 12,
   "metadata": {},
   "outputs": [],
   "source": [
    "pop_size = 1000 # population size\n",
    "\n",
    "init_uni = []\n",
    "for i in range(0, pop_size):\n",
    "    if i < int(pop_size/3):\n",
    "        init_uni.append([unif(0, 200), unif(0, 100), unif(0, 5),\n",
    "                         0, 0, 0, 0, 0, 0, 0])\n",
    "    elif (i > int(pop_size/3)) and (i < int(2*pop_size/3)):\n",
    "        init_uni.append([0, 0, 0,\n",
    "                         unif(0, 200), unif(0, 100), unif(0, 2), unif(0, 5),\n",
    "                         0, 0, 0])\n",
    "    else:\n",
    "        init_uni.append([0, 0, 0, 0, 0, 0, 0,\n",
    "                         unif(0, 200), unif(0, 100), unif(0, 5)])\n",
    "init_uni = np.array(init_uni)\n",
    "\n",
    "init_div = []\n",
    "for i in range(0, pop_size):\n",
    "    init_div.append([unif(0, 200), unif(0, 100), unif(0, 5),\n",
    "                     unif(0, 200), unif(0, 100), unif(0, 2), unif(0, 5),\n",
    "                     unif(0, 200), unif(0, 100), unif(0, 5)])\n",
    "init_div = np.array(init_div)"
   ]
  },
  {
   "cell_type": "markdown",
   "metadata": {},
   "source": [
    "The GA parameters can now be set for the SNe fitting."
   ]
  },
  {
   "cell_type": "code",
   "execution_count": 13,
   "metadata": {},
   "outputs": [],
   "source": [
    "gene_space = [{'low': 0, 'high': 200}, {'low': 0, 'high': 100}, {'low': 0, 'high': 5}, # rbf lims\n",
    "              {'low': 0, 'high': 200}, {'low': 0, 'high': 100}, # chy lims\n",
    "              {'low': 0, 'high': 2}, {'low': 0, 'high': 5}, \n",
    "              {'low': 0, 'high': 200}, {'low': 0, 'high': 100}, {'low': 0, 'high': 5}] # m52 lims\n",
    "\n",
    "num_genes = 10 # length of chromosome\n",
    "\n",
    "n_gen = 100 # number of generations\n",
    "sel_rate = 0.3 # selection rate\n",
    "    \n",
    "# parent selection\n",
    "parent_selection_type = \"rws\" # roulette wheel selection\n",
    "keep_parents = int(sel_rate*pop_size)\n",
    "num_parents_mating = int(sel_rate*pop_size)\n",
    "\n",
    "# crossover\n",
    "#crossover_type = \"single_point\"\n",
    "#crossover_type = \"two_points\"\n",
    "#crossover_type = \"uniform\"\n",
    "crossover_type = \"scattered\"\n",
    "crossover_prob = 1.0\n",
    "\n",
    "# mutation type options: random, swap, inversion, scramble, adaptive\n",
    "mutation_type = \"random\"\n",
    "#mutation_type = \"swap\"\n",
    "#mutation_type = \"inversion\"\n",
    "#mutation_type = \"scramble\"\n",
    "#mutation_type = \"adaptive\"\n",
    "mutation_prob = 0.5"
   ]
  },
  {
   "cell_type": "markdown",
   "metadata": {},
   "source": [
    "Here are the ``GA runs``. We start with the uniform population.\n",
    "\n",
    "*Skip the runs and jump ahead to loading lines if results have already been prepared."
   ]
  },
  {
   "cell_type": "code",
   "execution_count": null,
   "metadata": {},
   "outputs": [],
   "source": [
    "ga_inst_uni_sn = pygad.GA(initial_population = init_uni,\n",
    "                          num_genes = num_genes,\n",
    "                          num_generations = n_gen,\n",
    "                          num_parents_mating = num_parents_mating,\n",
    "                          fitness_func = fitness_function,\n",
    "                          parent_selection_type = parent_selection_type,\n",
    "                          keep_parents = keep_parents,\n",
    "                          crossover_type = crossover_type,\n",
    "                          crossover_probability = crossover_prob,\n",
    "                          mutation_type = mutation_type,\n",
    "                          mutation_probability = mutation_prob,\n",
    "                          mutation_by_replacement = True,\n",
    "                          on_generation = callback_generation,\n",
    "                          gene_space = gene_space,\n",
    "                          save_best_solutions = True)\n",
    "\n",
    "# perform GA run\n",
    "ga_inst_uni_sn.run()\n",
    "\n",
    "# save results\n",
    "ga_inst_uni_sn.save('gp_ga_sn_uniform_init')\n",
    "\n",
    "# best solution\n",
    "solution = ga_inst_uni_sn.best_solutions[-1]\n",
    "print(\"best chromosome: {solution}\".format(solution = solution))\n",
    "print(\"best fitness = {solution_fitness}\".format(solution_fitness = \\\n",
    "                                                 get_fit(solution)))"
   ]
  },
  {
   "cell_type": "markdown",
   "metadata": {},
   "source": [
    "Here is the GA run for a diversified initial population."
   ]
  },
  {
   "cell_type": "code",
   "execution_count": null,
   "metadata": {},
   "outputs": [],
   "source": [
    "ga_inst_div_sn = pygad.GA(initial_population = init_div,\n",
    "                          num_genes = num_genes,\n",
    "                          num_generations = n_gen,\n",
    "                          num_parents_mating = num_parents_mating,\n",
    "                          fitness_func = fitness_function,\n",
    "                          parent_selection_type = parent_selection_type,\n",
    "                          keep_parents = keep_parents,\n",
    "                          crossover_type = crossover_type,\n",
    "                          crossover_probability = crossover_prob,\n",
    "                          mutation_type = mutation_type,\n",
    "                          mutation_probability = mutation_prob,\n",
    "                          mutation_by_replacement = True,\n",
    "                          on_generation = callback_generation,\n",
    "                          gene_space = gene_space,\n",
    "                          save_best_solutions = True)\n",
    "\n",
    "# perform GA run\n",
    "ga_inst_div_sn.run()\n",
    "\n",
    "# save results\n",
    "ga_inst_div_sn.save('gp_ga_sn_diverse_init')\n",
    "\n",
    "# best solution\n",
    "solution = ga_inst_div_sn.best_solutions[-1]\n",
    "print(\"best chromosome: {solution}\".format(solution = solution))\n",
    "print(\"best fitness = {solution_fitness}\".format(solution_fitness = \\\n",
    "                                                 get_fit(solution)))"
   ]
  },
  {
   "cell_type": "markdown",
   "metadata": {},
   "source": [
    "``Load GA runs``\n",
    "\n",
    "Saved ``pygad`` output can be accessed. This is done for the SNe runs below."
   ]
  },
  {
   "cell_type": "code",
   "execution_count": 14,
   "metadata": {},
   "outputs": [],
   "source": [
    "load_ga_uniform = pygad.load('gp_ga_sn_uniform_init')\n",
    "load_ga_diverse = pygad.load('gp_ga_sn_diverse_init')"
   ]
  },
  {
   "cell_type": "markdown",
   "metadata": {},
   "source": [
    "The GP reconstructions are shown below."
   ]
  },
  {
   "cell_type": "code",
   "execution_count": 15,
   "metadata": {},
   "outputs": [
    {
     "name": "stdout",
     "output_type": "stream",
     "text": [
      "uniform\n",
      "log-marginal likelihood 62.18631886438317\n",
      "penalty 18.44439727056968\n",
      "fitness function 43.74192159381349\n",
      "chi^2 35.429040731552476\n",
      "\n",
      "diverse\n",
      "log-marginal likelihood 62.55037313828511\n",
      "penalty 18.44439727056968\n",
      "fitness function 44.10597586771543\n",
      "chi^2 34.62680636352342\n",
      "\n"
     ]
    },
    {
     "data": {
      "image/png": "[encoded data removed]",
      "text/plain": [
       "<Figure size 432x288 with 1 Axes>"
      ]
     },
     "metadata": {
      "needs_background": "light"
     },
     "output_type": "display_data"
    }
   ],
   "source": [
    "# champion chromosomes\n",
    "chr_1 = load_ga_uniform.best_solutions[-1]\n",
    "chr_2 = load_ga_diverse.best_solutions[-1]\n",
    "\n",
    "z_min = 1e-5\n",
    "z_max = 3\n",
    "n_div = 1000\n",
    "z_rec = np.logspace(np.log(z_min), np.log(z_max), n_div)\n",
    "logz_rec = np.log(z_rec)\n",
    "\n",
    "champs = {}\n",
    "champs['uniform'] = {'chromosome': chr_1}\n",
    "champs['diverse'] = {'chromosome': chr_2}\n",
    "\n",
    "for champ in champs:\n",
    "    chromosome = champs[champ]['chromosome']\n",
    "    gp = GP(chromosome)\n",
    "    rec = gp.predict(logz_ps, mz_ps, covmz_ps_tot,\n",
    "                     logz_rec)\n",
    "    mz_rec, sigmz_rec = rec['Y'], np.sqrt(rec['varY'])\n",
    "    \n",
    "    # compute chi2\n",
    "    mz = gp.predict(logz_ps, mz_ps, covmz_ps_tot,\n",
    "                    logz_ps)['Y']\n",
    "    cov_inv = np.linalg.inv(covmz_ps_tot)\n",
    "    delta_H = mz - mz_ps\n",
    "    chi2 = ( delta_H @ cov_inv @ delta_H )\n",
    "    \n",
    "    # print GA measures\n",
    "    print(champ)\n",
    "    print('log-marginal likelihood',\n",
    "          gp.get_logmlike(logz_ps, mz_ps, covmz_ps_tot))\n",
    "    print('penalty', penalty(chromosome))\n",
    "    print('fitness function', get_fit(chromosome))\n",
    "    print('chi^2', chi2)\n",
    "    print()\n",
    "    \n",
    "    champs[champ]['logz'] = logz_rec\n",
    "    champs[champ]['mz'] = mz_rec\n",
    "    champs[champ]['sigmz'] = sigmz_rec\n",
    "\n",
    "# plot champs' predictions\n",
    "    \n",
    "fig, ax = plt.subplots()\n",
    "ax.errorbar(logz_ps, mz_ps,\n",
    "            yerr = np.sqrt(np.diag(covmz_ps_tot)),\n",
    "            fmt = 'kx', ecolor = 'k',\n",
    "            elinewidth = 1, capsize = 2, label = 'SNe')\n",
    "# color, line style, and hatch list\n",
    "clst = ['b', 'r']\n",
    "llst = ['-', '--']\n",
    "hlst = ['|', '-']\n",
    "for champ in champs:\n",
    "    i = list(champs.keys()).index(champ)\n",
    "    mz_rec = champs[champ]['mz']\n",
    "    sigmz_rec = champs[champ]['sigmz']\n",
    "    ax.plot(logz_rec, mz_rec, clst[i] + llst[i],\n",
    "            label = champ)\n",
    "    ax.fill_between(logz_rec,\n",
    "                    mz_rec - 2*sigmz_rec,\n",
    "                    mz_rec + 2*sigmz_rec,\n",
    "                    facecolor = clst[i], alpha = 0.2,\n",
    "                    edgecolor = clst[i], hatch = hlst[i])\n",
    "ax.set_xlabel('$\\ln(z)$')\n",
    "ax.set_ylabel('$m(z)$')\n",
    "ax.set_xlim(np.log(z_min), np.log(z_max))\n",
    "ax.set_ylim(-10, 30)\n",
    "ax.legend(loc = 'upper left', prop = {'size': 9.5})\n",
    "plt.show()"
   ]
  },
  {
   "cell_type": "markdown",
   "metadata": {},
   "source": [
    "Here is the fitness per generation for the GPs above. "
   ]
  },
  {
   "cell_type": "code",
   "execution_count": 16,
   "metadata": {},
   "outputs": [
    {
     "data": {
      "image/png": "[encoded data removed]",
      "text/plain": [
       "<Figure size 432x288 with 1 Axes>"
      ]
     },
     "metadata": {
      "needs_background": "light"
     },
     "output_type": "display_data"
    }
   ],
   "source": [
    "fit_uni = [get_fit(c) for c in load_ga_uniform.best_solutions]\n",
    "fit_div = [get_fit(c) for c in load_ga_diverse.best_solutions]\n",
    "\n",
    "fig, ax = plt.subplots()\n",
    "ax.plot(fit_uni, 'b-', label = 'uniform')\n",
    "ax.plot(fit_div, 'r--', label = 'diverse')\n",
    "ax.set_xlabel('generation')\n",
    "ax.set_ylabel('best fitness')\n",
    "ax.set_xlim(1, n_gen)\n",
    "ax.set_ylim(41, 45)\n",
    "ax.legend(loc = 'lower right', prop = {'size': 9.5})\n",
    "plt.show()"
   ]
  },
  {
   "cell_type": "markdown",
   "metadata": {},
   "source": [
    "### References"
   ]
  },
  {
   "cell_type": "markdown",
   "metadata": {},
   "source": [
    "***Pantheon***: D. M. Scolnic et al., The Complete Light-curve Sample of Spectroscopically Confirmed SNe Ia\n",
    "from Pan-STARRS1 and Cosmological Constraints from the Combined Pantheon Sample,\n",
    "Astrophys. J. 859 (2018) 101 [[1710.00845](https://arxiv.org/abs/1710.00845)].\n",
    "\n",
    "***Cosmic Chronometers***, from *various sources*:\n",
    "\n",
    "(1) M. Moresco, L. Pozzetti, A. Cimatti, R. Jimenez, C. Maraston, L. Verde et al., A 6%\n",
    "measurement of the Hubble parameter at z ∼ 0.45: direct evidence of the epoch of cosmic\n",
    "re-acceleration, JCAP 05 (2016) 014 [[1601.01701](https://arxiv.org/abs/1601.01701)].\n",
    "\n",
    "(2) M. Moresco, Raising the bar: new constraints on the Hubble parameter with cosmic\n",
    "chronometers at z ∼ 2, Mon. Not. Roy. Astron. Soc. 450 (2015) L16 [[1503.01116](https://arxiv.org/abs/1503.01116)].\n",
    "\n",
    "(3) C. Zhang, H. Zhang, S. Yuan, S. Liu, T.-J. Zhang and Y.-C. Sun, Four new observational H(z)\n",
    "data from luminous red galaxies in the Sloan Digital Sky Survey data release seven, Research in\n",
    "Astronomy and Astrophysics 14 (2014) 1221 [[1207.4541](https://arxiv.org/abs/1207.4541)].\n",
    "\n",
    "(4) D. Stern, R. Jimenez, L. Verde, M. Kamionkowski and S. A. Stanford, Cosmic chronometers:\n",
    "constraining the equation of state of dark energy. I: H(z) measurements, JCAP 2010 (2010)\n",
    "008 [[0907.3149](https://arxiv.org/abs/0907.3149)].\n",
    "\n",
    "(5) M. Moresco et al., Improved constraints on the expansion rate of the Universe up to z ˜1.1 from\n",
    "the spectroscopic evolution of cosmic chronometers, JCAP 2012 (2012) 006 [[1201.3609](https://arxiv.org/abs/1201.3609)].\n",
    "\n",
    "(6) Ratsimbazafy et al. Age-dating Luminous Red Galaxies observed with the Southern African\n",
    "Large Telescope, Mon. Not. Roy. Astron. Soc. 467 (2017) 3239 [[1702.00418](https://arxiv.org/abs/1702.00418)]."
   ]
  }
 ],
 "metadata": {
  "kernelspec": {
   "display_name": "Python 3",
   "language": "python",
   "name": "python3"
  },
  "language_info": {
   "codemirror_mode": {
    "name": "ipython",
    "version": 3
   },
   "file_extension": ".py",
   "mimetype": "text/x-python",
   "name": "python",
   "nbconvert_exporter": "python",
   "pygments_lexer": "ipython3",
   "version": "3.8.5"
  }
 },
 "nbformat": 4,
 "nbformat_minor": 5
}
