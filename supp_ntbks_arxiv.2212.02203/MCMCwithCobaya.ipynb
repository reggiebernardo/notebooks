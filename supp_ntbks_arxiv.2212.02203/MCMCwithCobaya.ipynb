{
 "cells": [
  {
   "cell_type": "markdown",
   "metadata": {
    "id": "IYYCmO25xbU8"
   },
   "source": [
    "We use MCMC algorithm to research the Hubble Tension by the python packages __cobaya__ & __getdist__. Let's install them first."
   ]
  },
  {
   "cell_type": "code",
   "execution_count": null,
   "metadata": {
    "colab": {
     "base_uri": "https://localhost:8080/"
    },
    "id": "tSM9a632H4n-",
    "outputId": "a4052777-af98-499a-c14e-f31a6536cdf7"
   },
   "outputs": [
    {
     "name": "stdout",
     "output_type": "stream",
     "text": [
      "\u001b[K     |████████████████████████████████| 332 kB 6.9 MB/s \n",
      "\u001b[K     |████████████████████████████████| 777 kB 41.0 MB/s \n",
      "\u001b[?25h  Building wheel for cobaya (setup.py) ... \u001b[?25l\u001b[?25hdone\n",
      "  Building wheel for GetDist (setup.py) ... \u001b[?25l\u001b[?25hdone\n",
      "  Building wheel for py-bobyqa (setup.py) ... \u001b[?25l\u001b[?25hdone\n"
     ]
    }
   ],
   "source": [
    "# !pip install cobaya --quiet\n",
    "\n",
    "# !pip install getdist --quiet"
   ]
  },
  {
   "cell_type": "markdown",
   "metadata": {
    "id": "FklTu_pCldwV"
   },
   "source": [
    "Connecting the drive account to save the result."
   ]
  },
  {
   "cell_type": "code",
   "execution_count": null,
   "metadata": {
    "colab": {
     "base_uri": "https://localhost:8080/"
    },
    "id": "34VkmWXn6Eni",
    "outputId": "d6ec4b3a-f9d0-4136-9629-722c655be906"
   },
   "outputs": [
    {
     "name": "stdout",
     "output_type": "stream",
     "text": [
      "Mounted at /content/gdrive\n"
     ]
    }
   ],
   "source": [
    "# # mount drive, only need to be done once\n",
    "# from google.colab import drive\n",
    "# drive.mount('/content/gdrive')\n",
    "\n",
    "# %cd /content/gdrive/MyDrive/colab/COBAYA/"
   ]
  },
  {
   "cell_type": "markdown",
   "metadata": {
    "id": "gSaON2oTqEs2"
   },
   "source": [
    "Import some python packages to use the functions in the code."
   ]
  },
  {
   "cell_type": "code",
   "execution_count": null,
   "metadata": {
    "id": "L0r343_HFVD7"
   },
   "outputs": [],
   "source": [
    "import numpy as np\n",
    "from numpy import loadtxt\n",
    "import matplotlib.pyplot as plt\n",
    "from scipy.constants import c\n",
    "from scipy.integrate import quad\n",
    "\n",
    "# for the analytic LambdaCDM growth rate\n",
    "from scipy.special import hyp2f1\n",
    "\n",
    "# for the WiggleZ covariance in the growth data\n",
    "from scipy.linalg import block_diag"
   ]
  },
  {
   "cell_type": "markdown",
   "metadata": {
    "id": "ngZ4ZL-j6TxK"
   },
   "source": [
    "### Data sets"
   ]
  },
  {
   "cell_type": "markdown",
   "metadata": {
    "id": "H4eNWxTnxeTL"
   },
   "source": [
    "We load the hubble expansion data from Cosmic Chronometers and Baryon Acoustic Oscillations respectively, then plot their result. "
   ]
  },
  {
   "cell_type": "code",
   "execution_count": null,
   "metadata": {
    "colab": {
     "base_uri": "https://localhost:8080/",
     "height": 281
    },
    "id": "1L5gGU1aJagB",
    "outputId": "ddea8ac6-b540-426a-c3fd-1fc962edc80d"
   },
   "outputs": [
    {
     "data": {
      "image/png": "[encoded data removed]",
      "text/plain": [
       "<Figure size 432x288 with 1 Axes>"
      ]
     },
     "metadata": {
      "needs_background": "light"
     },
     "output_type": "display_data"
    }
   ],
   "source": [
    "# load CC and BAO expansion rate data\n",
    "cc_loc = 'https://raw.githubusercontent.com/reggiebernardo/\\\n",
    "datasets/main/Hdz_2020_CConly.txt'\n",
    "cc_data = np.loadtxt(cc_loc)\n",
    "\n",
    "z_cc = cc_data[:, 0]\n",
    "Hz_cc = cc_data[:, 1]\n",
    "sigHz_cc = cc_data[:, 2]\n",
    "\n",
    "bao_loc = 'https://raw.githubusercontent.com/reggiebernardo/\\\n",
    "datasets/main/Hdz_2020_BAOonly.txt'\n",
    "bao_data = np.loadtxt(bao_loc)\n",
    "\n",
    "z_bao = bao_data[:, 0]\n",
    "Hz_bao = bao_data[:, 1]\n",
    "sigHz_bao = bao_data[:, 2]\n",
    "\n",
    "fig, ax = plt.subplots()\n",
    "ax.errorbar(z_cc, Hz_cc, yerr = sigHz_cc, fmt = 'ko', ecolor = 'k', \\\n",
    "            markersize = 3, elinewidth = 1, capsize = 2, label = 'CC')\n",
    "ax.errorbar(z_bao, Hz_bao, yerr = sigHz_bao, fmt = 'rx', ecolor = 'k', \\\n",
    "            markersize = 5, elinewidth = 1, capsize = 2, label = 'BAO')\n",
    "\n",
    "ax.set_xlabel('$z$')\n",
    "ax.set_ylabel('$H(z)$')\n",
    "ax.legend(loc = 'upper left', prop = {'size': 9.5})\n",
    "plt.show()"
   ]
  },
  {
   "cell_type": "markdown",
   "metadata": {
    "id": "YjYuwulv5Pf0"
   },
   "source": [
    "Our data sets also considered observation of Type Ia Supernovae in _Pentheon+ Analysis_"
   ]
  },
  {
   "cell_type": "code",
   "execution_count": null,
   "metadata": {
    "colab": {
     "base_uri": "https://localhost:8080/",
     "height": 279
    },
    "id": "vH80Q0mcMCnq",
    "outputId": "c23727b9-be60-432a-bd82-028ee2744b18"
   },
   "outputs": [
    {
     "data": {
      "image/png": "[encoded data removed]",
      "text/plain": [
       "<Figure size 432x288 with 1 Axes>"
      ]
     },
     "metadata": {
      "needs_background": "light"
     },
     "output_type": "display_data"
    }
   ],
   "source": [
    "loc_lcparam = 'https://github.com/PantheonPlusSH0ES/DataRelease/raw/main/\\\n",
    "Pantheon%2B_Data/4_DISTANCES_AND_COVAR/Pantheon%2BSH0ES.dat'\n",
    "\n",
    "# pantheon plus systematics\n",
    "\n",
    "lcparam = np.loadtxt(loc_lcparam, skiprows = 1, usecols = (2, 8, 9, 10, 11))\n",
    "\n",
    "# setup pantheon samples\n",
    "z_pp = lcparam[:, 0][111:]\n",
    "mz_pp = lcparam[:, 1][111:]\n",
    "sigmz_pp = lcparam[:, 2][111:]\n",
    "\n",
    "#mMz_pp = lcparam[:, 3][111:]\n",
    "sigmMz_pp = lcparam[:, 4][111:]\n",
    "\n",
    "# apparent magnitudes\n",
    "plt.errorbar(z_pp, mz_pp, yerr = sigmz_pp, \\\n",
    "             fmt = 'b^', markersize = 3, \\\n",
    "             ecolor = 'blue', elinewidth = 1, capsize = 2)\n",
    "plt.xlim(min(z_pp), max(z_pp))\n",
    "plt.xlabel('redshift')\n",
    "plt.ylabel('apparent magnitude')\n",
    "plt.show()"
   ]
  },
  {
   "cell_type": "markdown",
   "metadata": {
    "id": "FjNdEdzx8V5b"
   },
   "source": [
    "Also, we have to include the data of covariance matrix."
   ]
  },
  {
   "cell_type": "code",
   "execution_count": null,
   "metadata": {
    "id": "R1kPJg9KLoH2"
   },
   "outputs": [],
   "source": [
    "# load the pantheon+ covariance matrix\n",
    "\n",
    "loc_lcparam_sys = 'https://raw.githubusercontent.com/PantheonPlusSH0ES/\\\n",
    "DataRelease/main/Pantheon%2B_Data/4_DISTANCES_AND_COVAR/Pantheon%2BSH0ES_STAT%2BSYS.cov'\n",
    "lcparam_sys = np.loadtxt(loc_lcparam_sys, skiprows = 1)\n",
    "\n",
    "# pantheon plus systematics\n",
    "cov = lcparam_sys.reshape(1701, 1701)\n",
    "cov_inv = np.linalg.inv(cov[111:, 111:])"
   ]
  },
  {
   "cell_type": "markdown",
   "metadata": {
    "id": "pg46o7G18yYO"
   },
   "source": [
    "Finally, the redshift space distorsion measurements also should be loaded in."
   ]
  },
  {
   "cell_type": "code",
   "execution_count": null,
   "metadata": {
    "colab": {
     "base_uri": "https://localhost:8080/",
     "height": 279
    },
    "id": "-rCAbfRYNsje",
    "outputId": "cc366616-4728-4049-ecde-b5243c80c138"
   },
   "outputs": [
    {
     "data": {
      "image/png": "[encoded data removed]",
      "text/plain": [
       "<Figure size 432x288 with 1 Axes>"
      ]
     },
     "metadata": {
      "needs_background": "light"
     },
     "output_type": "display_data"
    }
   ],
   "source": [
    "\n",
    "# load growth RSD data\n",
    "# loc_rsd = 'https://datasets/Growth_tableII.txt'\n",
    "loc_rsd = 'https://raw.githubusercontent.com/reggiebernardo/datasets/\\\n",
    "main/Growth_tableII.txt'\n",
    "rsd = np.loadtxt(loc_rsd, usecols = (0, 1, 2))\n",
    "\n",
    "# the WiggleZ points (3x3) covariance\n",
    "# wgz_loc = 'https://datasets/Cij_WiggleZ.txt'\n",
    "wgz_loc = 'https://raw.githubusercontent.com/reggiebernardo/datasets/\\\n",
    "main/Cij_WiggleZ.txt'\n",
    "C_wgz = np.loadtxt(wgz_loc)\n",
    "\n",
    "# setup\n",
    "z_rsd = rsd[:, 0]\n",
    "fs8_rsd = rsd[:, 1]\n",
    "sigfs8_rsd = rsd[:, 2]\n",
    "\n",
    "fig, ax = plt.subplots()\n",
    "ax.errorbar(z_rsd, fs8_rsd, yerr = sigfs8_rsd, fmt = 'ms', \\\n",
    "            ecolor = 'magenta', markersize = 3, elinewidth = 1.5, capsize = 3)\n",
    "ax.set_xlabel('$z$')\n",
    "ax.set_ylabel('$f \\sigma_8(z)$')\n",
    "plt.show()\n",
    "\n",
    "# f*sigma_8 data covariance with WiggleZ\n",
    "C_rsd_1 = np.diag(sigfs8_rsd[: 9]**2)\n",
    "C_rsd_w = C_wgz\n",
    "C_rsd_N = np.diag(sigfs8_rsd[12:]**2)\n",
    "\n",
    "C_rsd = block_diag(C_rsd_1, C_rsd_w, C_rsd_N)\n",
    "C_rsd_inv = np.linalg.inv(C_rsd)"
   ]
  },
  {
   "cell_type": "markdown",
   "metadata": {
    "id": "gBDDILhN9Yj8"
   },
   "source": [
    "### $\\Lambda$CDM cosmology"
   ]
  },
  {
   "cell_type": "markdown",
   "metadata": {
    "id": "HS0I2YcR9jjK"
   },
   "source": [
    "We use $\\Lambda$CDM as the model. And in order to build the function according to the data sets.<br> There are __Expansion Rate__ $H(z)$, __Apparant Magnitudes__ $m(z)$ and __Growth Rate__ $f\\sigma_8(z)$.<br> Then we calculate the __Likelihood__ for each data based on these functions. "
   ]
  },
  {
   "cell_type": "code",
   "execution_count": null,
   "metadata": {
    "colab": {
     "base_uri": "https://localhost:8080/"
    },
    "id": "GdGNxBItL0Vb",
    "outputId": "abfa85e9-dd1e-4358-9bcd-05b31c913b2b"
   },
   "outputs": [
    {
     "name": "stdout",
     "output_type": "stream",
     "text": [
      "check: 1564.3720896363495\n"
     ]
    }
   ],
   "source": [
    "# expansion rate\n",
    "\n",
    "def E(z, Om):\n",
    "    Or = 0\n",
    "    Ol = 1-Or-Om\n",
    "    return np.sqrt(Om*(1+z)**3+Or*(1+z)**4+Ol)\n",
    "\n",
    "# supernovae brightness\n",
    "\n",
    "def E_inv(z, Om):\n",
    "    return 1/E(z, Om)\n",
    "  \n",
    "def dL(z, Om, H0):\n",
    "    rz = quad(E_inv, 0, z, args=(Om,))[0]\n",
    "    return (1+z)*c/(H0)*rz\n",
    "\n",
    "# SNe distance modulus\n",
    "\n",
    "def mu(z, Om, H0):     \n",
    "    return 5*np.log10(dL(z,Om,H0)*100)\n",
    "\n",
    "# growth rate\n",
    "\n",
    "def dltz(z, Om):\n",
    "    '''analytic LambdaCDM density contrast \\delta(z)'''\n",
    "    a = 1/(1 + z)\n",
    "    return a*hyp2f1(1/3, 1, 11/6, (a**3)*(1 - (1/Om)))\n",
    "\n",
    "def dltpz(z, Om):\n",
    "    '''analytic LambdaCDM \\delta'(z)'''\n",
    "    a = 1/(1 + z)\n",
    "    dadz = -1/((1 + z)**2)\n",
    "    term_1 = -2*hyp2f1(1/3, 1, 11/6, (a**3)*(1 - (1/Om)))\n",
    "    term_2 = 3*hyp2f1(1/3, 2, 11/6, (a**3)*(1 - (1/Om)))\n",
    "    return (term_1 + term_2)*dadz\n",
    "\n",
    "def fs8(z, Om, s80):\n",
    "    dlt0 = dltz(0, Om)\n",
    "    return -(1 + z)*s80*dltpz(z, Om)/dlt0\n",
    "\n",
    "# chi-squared measures\n",
    "\n",
    "def like_CC(Om, H0):\n",
    "    return sum(((Hz_cc-H0*E(z_cc, Om))**2)/sigHz_cc**2)\n",
    "\n",
    "def like_BAO(Om, H0):\n",
    "    return sum(((Hz_bao-H0*E(z_bao, Om))**2)/sigHz_bao**2)\n",
    "\n",
    "#cov_inv = np.linalg.inv(cov_tot)\n",
    "\n",
    "def like_SN(Om, H0, M):\n",
    "    m_th = np.array([mu(z, Om, H0)+M for z in z_pp])\n",
    "    m = mz_pp\n",
    "    dm = m - m_th  \n",
    "    return dm.T@cov_inv@dm\n",
    "\n",
    "def like_RSD(Om, s80):\n",
    "    #chi-squared for f*sigma_8(z) observations\n",
    "    fs8_sol = fs8(z_rsd, Om, s80)\n",
    "    Delta_fs8 = fs8_sol - fs8_rsd\n",
    "    chi2 = Delta_fs8.T @ C_rsd_inv @ Delta_fs8\n",
    "    return chi2\n",
    "\n",
    "# testing the model Om = 0.3, H0 = 72, M = -19.3, s80 = 0.8\n",
    "ll_CC = like_CC(0.3, 72)\n",
    "ll_BAO = like_BAO(0.3, 72)\n",
    "ll_SN = like_SN(0.3, 72, -19.3)\n",
    "ll_RSD = like_RSD(0.3, 0.8)\n",
    "print(\"check:\", ll_CC + ll_BAO + ll_SN + ll_RSD)\n",
    "\n",
    "def loglikelihood (Om, H0, M, s80):\n",
    "\n",
    "    X_2 = like_CC(Om, H0) + like_SN(Om, H0, M) + like_BAO(Om, H0) + like_RSD(Om, s80)  \n",
    "    \n",
    "    return -0.5*X_2"
   ]
  },
  {
   "cell_type": "markdown",
   "metadata": {
    "id": "WUyApzd3cGwV"
   },
   "source": [
    "### $\\Lambda$CDM + MCMC: cosmology parameters estimation according to two priors."
   ]
  },
  {
   "cell_type": "markdown",
   "metadata": {
    "id": "KRBjhz3GLcJZ"
   },
   "source": [
    "Let's import cobaya, using MCMC to fit the data."
   ]
  },
  {
   "cell_type": "code",
   "execution_count": null,
   "metadata": {
    "id": "7eZUqyE096R3"
   },
   "outputs": [],
   "source": [
    "from cobaya.run import run  "
   ]
  },
  {
   "cell_type": "markdown",
   "metadata": {
    "id": "lbiclcHNNOoH"
   },
   "source": [
    "Now we have to make dictionaries including all the information been needed to run the MCMC.<br>\n",
    "There are __Likelihood Function__ we defined above, __priors__ setting for each parameters, and the __samplers__.<br>\n",
    "The progress would showed after starting to run it."
   ]
  },
  {
   "cell_type": "markdown",
   "metadata": {
    "id": "0EYTG1QNcxtV"
   },
   "source": [
    "The first one we use the Plank(P18) measurements as the priors."
   ]
  },
  {
   "cell_type": "code",
   "execution_count": null,
   "metadata": {
    "colab": {
     "base_uri": "https://localhost:8080/"
    },
    "collapsed": true,
    "id": "XquwdThQMu1l",
    "jupyter": {
     "outputs_hidden": true
    },
    "outputId": "30ace1e3-4956-472c-ea37-01b60b0b6ce0",
    "tags": []
   },
   "outputs": [
    {
     "name": "stderr",
     "output_type": "stream",
     "text": [
      "INFO:loglikesnia:Initialized external likelihood.\n"
     ]
    },
    {
     "name": "stdout",
     "output_type": "stream",
     "text": [
      "[loglikesnia] Initialized external likelihood.\n"
     ]
    },
    {
     "name": "stderr",
     "output_type": "stream",
     "text": [
      "INFO:mcmc:Getting initial point... (this may take a few seconds)\n"
     ]
    },
    {
     "name": "stdout",
     "output_type": "stream",
     "text": [
      "[mcmc] Getting initial point... (this may take a few seconds)\n"
     ]
    },
    {
     "name": "stderr",
     "output_type": "stream",
     "text": [
      "INFO:model:Measuring speeds... (this may take a few seconds)\n"
     ]
    },
    {
     "name": "stdout",
     "output_type": "stream",
     "text": [
      "[model] Measuring speeds... (this may take a few seconds)\n"
     ]
    },
    {
     "name": "stderr",
     "output_type": "stream",
     "text": [
      "INFO:model:Setting measured speeds (per sec): {loglikeSNIa: 6.11}\n"
     ]
    },
    {
     "name": "stdout",
     "output_type": "stream",
     "text": [
      "[model] Setting measured speeds (per sec): {loglikeSNIa: 6.11}\n"
     ]
    },
    {
     "name": "stderr",
     "output_type": "stream",
     "text": [
      "INFO:mcmc:Covariance matrix not present. We will start learning the covariance of the proposal earlier: R-1 = 30 (would be 2 if all params loaded).\n"
     ]
    },
    {
     "name": "stdout",
     "output_type": "stream",
     "text": [
      "[mcmc] Covariance matrix not present. We will start learning the covariance of the proposal earlier: R-1 = 30 (would be 2 if all params loaded).\n"
     ]
    },
    {
     "name": "stderr",
     "output_type": "stream",
     "text": [
      "INFO:mcmc:Initial point: Om:0.3042672, H0:67.4, M:-19.26802, s80:0.7\n"
     ]
    },
    {
     "name": "stdout",
     "output_type": "stream",
     "text": [
      "[mcmc] Initial point: Om:0.3042672, H0:67.4, M:-19.26802, s80:0.7\n"
     ]
    },
    {
     "name": "stderr",
     "output_type": "stream",
     "text": [
      "INFO:mcmc:Sampling!\n"
     ]
    },
    {
     "name": "stdout",
     "output_type": "stream",
     "text": [
      "[mcmc] Sampling!\n"
     ]
    },
    {
     "name": "stderr",
     "output_type": "stream",
     "text": [
      "INFO:mcmc:Progress @ 2022-11-22 15:47:26 : 1 steps taken, and 0 accepted.\n"
     ]
    },
    {
     "name": "stdout",
     "output_type": "stream",
     "text": [
      "[mcmc] Progress @ 2022-11-22 15:47:26 : 1 steps taken, and 0 accepted.\n"
     ]
    },
    {
     "name": "stderr",
     "output_type": "stream",
     "text": [
      "INFO:mcmc:Learn + convergence test @ 160 samples accepted.\n"
     ]
    },
    {
     "name": "stdout",
     "output_type": "stream",
     "text": [
      "[mcmc] Learn + convergence test @ 160 samples accepted.\n"
     ]
    },
    {
     "name": "stderr",
     "output_type": "stream",
     "text": [
      "INFO:mcmc: - Acceptance rate: 0.440\n"
     ]
    },
    {
     "name": "stdout",
     "output_type": "stream",
     "text": [
      "[mcmc]  - Acceptance rate: 0.440\n"
     ]
    },
    {
     "name": "stderr",
     "output_type": "stream",
     "text": [
      "INFO:mcmc: - Convergence of means: R-1 = 14.769622 after 128 accepted steps\n"
     ]
    },
    {
     "name": "stdout",
     "output_type": "stream",
     "text": [
      "[mcmc]  - Convergence of means: R-1 = 14.769622 after 128 accepted steps\n"
     ]
    },
    {
     "name": "stderr",
     "output_type": "stream",
     "text": [
      "INFO:mcmc: - Updated covariance matrix of proposal pdf.\n"
     ]
    },
    {
     "name": "stdout",
     "output_type": "stream",
     "text": [
      "[mcmc]  - Updated covariance matrix of proposal pdf.\n"
     ]
    },
    {
     "name": "stderr",
     "output_type": "stream",
     "text": [
      "INFO:mcmc:Progress @ 2022-11-22 15:48:26 : 355 steps taken, and 160 accepted.\n"
     ]
    },
    {
     "name": "stdout",
     "output_type": "stream",
     "text": [
      "[mcmc] Progress @ 2022-11-22 15:48:26 : 355 steps taken, and 160 accepted.\n"
     ]
    },
    {
     "name": "stderr",
     "output_type": "stream",
     "text": [
      "INFO:mcmc:Progress @ 2022-11-22 15:49:26 : 712 steps taken, and 306 accepted.\n"
     ]
    },
    {
     "name": "stdout",
     "output_type": "stream",
     "text": [
      "[mcmc] Progress @ 2022-11-22 15:49:26 : 712 steps taken, and 306 accepted.\n"
     ]
    },
    {
     "name": "stderr",
     "output_type": "stream",
     "text": [
      "INFO:mcmc:Learn + convergence test @ 320 samples accepted.\n"
     ]
    },
    {
     "name": "stdout",
     "output_type": "stream",
     "text": [
      "[mcmc] Learn + convergence test @ 320 samples accepted.\n"
     ]
    },
    {
     "name": "stderr",
     "output_type": "stream",
     "text": [
      "INFO:mcmc: - Acceptance rate: 0.428\n"
     ]
    },
    {
     "name": "stdout",
     "output_type": "stream",
     "text": [
      "[mcmc]  - Acceptance rate: 0.428\n"
     ]
    },
    {
     "name": "stderr",
     "output_type": "stream",
     "text": [
      "INFO:mcmc: - Convergence of means: R-1 = 6.333024 after 256 accepted steps\n"
     ]
    },
    {
     "name": "stdout",
     "output_type": "stream",
     "text": [
      "[mcmc]  - Convergence of means: R-1 = 6.333024 after 256 accepted steps\n"
     ]
    },
    {
     "name": "stderr",
     "output_type": "stream",
     "text": [
      "INFO:mcmc: - Updated covariance matrix of proposal pdf.\n"
     ]
    },
    {
     "name": "stdout",
     "output_type": "stream",
     "text": [
      "[mcmc]  - Updated covariance matrix of proposal pdf.\n"
     ]
    },
    {
     "name": "stderr",
     "output_type": "stream",
     "text": [
      "INFO:mcmc:Progress @ 2022-11-22 15:50:26 : 1064 steps taken, and 438 accepted.\n"
     ]
    },
    {
     "name": "stdout",
     "output_type": "stream",
     "text": [
      "[mcmc] Progress @ 2022-11-22 15:50:26 : 1064 steps taken, and 438 accepted.\n"
     ]
    },
    {
     "name": "stderr",
     "output_type": "stream",
     "text": [
      "INFO:mcmc:Learn + convergence test @ 480 samples accepted.\n"
     ]
    },
    {
     "name": "stdout",
     "output_type": "stream",
     "text": [
      "[mcmc] Learn + convergence test @ 480 samples accepted.\n"
     ]
    },
    {
     "name": "stderr",
     "output_type": "stream",
     "text": [
      "INFO:mcmc: - Acceptance rate: 0.405\n"
     ]
    },
    {
     "name": "stdout",
     "output_type": "stream",
     "text": [
      "[mcmc]  - Acceptance rate: 0.405\n"
     ]
    },
    {
     "name": "stderr",
     "output_type": "stream",
     "text": [
      "INFO:mcmc: - Convergence of means: R-1 = 1.648300 after 384 accepted steps\n"
     ]
    },
    {
     "name": "stdout",
     "output_type": "stream",
     "text": [
      "[mcmc]  - Convergence of means: R-1 = 1.648300 after 384 accepted steps\n"
     ]
    },
    {
     "name": "stderr",
     "output_type": "stream",
     "text": [
      "INFO:mcmc: - Updated covariance matrix of proposal pdf.\n"
     ]
    },
    {
     "name": "stdout",
     "output_type": "stream",
     "text": [
      "[mcmc]  - Updated covariance matrix of proposal pdf.\n"
     ]
    },
    {
     "name": "stderr",
     "output_type": "stream",
     "text": [
      "INFO:mcmc:Progress @ 2022-11-22 15:51:26 : 1417 steps taken, and 573 accepted.\n"
     ]
    },
    {
     "name": "stdout",
     "output_type": "stream",
     "text": [
      "[mcmc] Progress @ 2022-11-22 15:51:26 : 1417 steps taken, and 573 accepted.\n"
     ]
    },
    {
     "name": "stderr",
     "output_type": "stream",
     "text": [
      "INFO:mcmc:Learn + convergence test @ 640 samples accepted.\n"
     ]
    },
    {
     "name": "stdout",
     "output_type": "stream",
     "text": [
      "[mcmc] Learn + convergence test @ 640 samples accepted.\n"
     ]
    },
    {
     "name": "stderr",
     "output_type": "stream",
     "text": [
      "INFO:mcmc: - Acceptance rate: 0.395\n"
     ]
    },
    {
     "name": "stdout",
     "output_type": "stream",
     "text": [
      "[mcmc]  - Acceptance rate: 0.395\n"
     ]
    },
    {
     "name": "stderr",
     "output_type": "stream",
     "text": [
      "INFO:mcmc: - Convergence of means: R-1 = 2.298499 after 512 accepted steps\n"
     ]
    },
    {
     "name": "stdout",
     "output_type": "stream",
     "text": [
      "[mcmc]  - Convergence of means: R-1 = 2.298499 after 512 accepted steps\n"
     ]
    },
    {
     "name": "stderr",
     "output_type": "stream",
     "text": [
      "INFO:mcmc: - Updated covariance matrix of proposal pdf.\n"
     ]
    },
    {
     "name": "stdout",
     "output_type": "stream",
     "text": [
      "[mcmc]  - Updated covariance matrix of proposal pdf.\n"
     ]
    },
    {
     "name": "stderr",
     "output_type": "stream",
     "text": [
      "INFO:mcmc:Progress @ 2022-11-22 15:52:26 : 1756 steps taken, and 704 accepted.\n"
     ]
    },
    {
     "name": "stdout",
     "output_type": "stream",
     "text": [
      "[mcmc] Progress @ 2022-11-22 15:52:26 : 1756 steps taken, and 704 accepted.\n"
     ]
    },
    {
     "name": "stderr",
     "output_type": "stream",
     "text": [
      "INFO:mcmc:Learn + convergence test @ 800 samples accepted.\n"
     ]
    },
    {
     "name": "stdout",
     "output_type": "stream",
     "text": [
      "[mcmc] Learn + convergence test @ 800 samples accepted.\n"
     ]
    },
    {
     "name": "stderr",
     "output_type": "stream",
     "text": [
      "INFO:mcmc: - Acceptance rate: 0.381\n"
     ]
    },
    {
     "name": "stdout",
     "output_type": "stream",
     "text": [
      "[mcmc]  - Acceptance rate: 0.381\n"
     ]
    },
    {
     "name": "stderr",
     "output_type": "stream",
     "text": [
      "INFO:mcmc: - Convergence of means: R-1 = 0.099101 after 640 accepted steps\n"
     ]
    },
    {
     "name": "stdout",
     "output_type": "stream",
     "text": [
      "[mcmc]  - Convergence of means: R-1 = 0.099101 after 640 accepted steps\n"
     ]
    },
    {
     "name": "stderr",
     "output_type": "stream",
     "text": [
      "INFO:mcmc: - Updated covariance matrix of proposal pdf.\n"
     ]
    },
    {
     "name": "stdout",
     "output_type": "stream",
     "text": [
      "[mcmc]  - Updated covariance matrix of proposal pdf.\n"
     ]
    },
    {
     "name": "stderr",
     "output_type": "stream",
     "text": [
      "INFO:mcmc:Progress @ 2022-11-22 15:53:26 : 2110 steps taken, and 824 accepted.\n"
     ]
    },
    {
     "name": "stdout",
     "output_type": "stream",
     "text": [
      "[mcmc] Progress @ 2022-11-22 15:53:26 : 2110 steps taken, and 824 accepted.\n"
     ]
    },
    {
     "name": "stderr",
     "output_type": "stream",
     "text": [
      "INFO:mcmc:Progress @ 2022-11-22 15:54:26 : 2474 steps taken, and 954 accepted.\n"
     ]
    },
    {
     "name": "stdout",
     "output_type": "stream",
     "text": [
      "[mcmc] Progress @ 2022-11-22 15:54:26 : 2474 steps taken, and 954 accepted.\n"
     ]
    },
    {
     "name": "stderr",
     "output_type": "stream",
     "text": [
      "INFO:mcmc:Learn + convergence test @ 960 samples accepted.\n"
     ]
    },
    {
     "name": "stdout",
     "output_type": "stream",
     "text": [
      "[mcmc] Learn + convergence test @ 960 samples accepted.\n"
     ]
    },
    {
     "name": "stderr",
     "output_type": "stream",
     "text": [
      "INFO:mcmc: - Acceptance rate: 0.376\n"
     ]
    },
    {
     "name": "stdout",
     "output_type": "stream",
     "text": [
      "[mcmc]  - Acceptance rate: 0.376\n"
     ]
    },
    {
     "name": "stderr",
     "output_type": "stream",
     "text": [
      "INFO:mcmc: - Convergence of means: R-1 = 0.580337 after 768 accepted steps\n"
     ]
    },
    {
     "name": "stdout",
     "output_type": "stream",
     "text": [
      "[mcmc]  - Convergence of means: R-1 = 0.580337 after 768 accepted steps\n"
     ]
    },
    {
     "name": "stderr",
     "output_type": "stream",
     "text": [
      "INFO:mcmc: - Updated covariance matrix of proposal pdf.\n"
     ]
    },
    {
     "name": "stdout",
     "output_type": "stream",
     "text": [
      "[mcmc]  - Updated covariance matrix of proposal pdf.\n"
     ]
    },
    {
     "name": "stderr",
     "output_type": "stream",
     "text": [
      "INFO:mcmc:Progress @ 2022-11-22 15:55:26 : 2826 steps taken, and 1057 accepted.\n"
     ]
    },
    {
     "name": "stdout",
     "output_type": "stream",
     "text": [
      "[mcmc] Progress @ 2022-11-22 15:55:26 : 2826 steps taken, and 1057 accepted.\n"
     ]
    },
    {
     "name": "stderr",
     "output_type": "stream",
     "text": [
      "INFO:mcmc:Learn + convergence test @ 1120 samples accepted.\n"
     ]
    },
    {
     "name": "stdout",
     "output_type": "stream",
     "text": [
      "[mcmc] Learn + convergence test @ 1120 samples accepted.\n"
     ]
    },
    {
     "name": "stderr",
     "output_type": "stream",
     "text": [
      "INFO:mcmc: - Acceptance rate: 0.357\n"
     ]
    },
    {
     "name": "stdout",
     "output_type": "stream",
     "text": [
      "[mcmc]  - Acceptance rate: 0.357\n"
     ]
    },
    {
     "name": "stderr",
     "output_type": "stream",
     "text": [
      "INFO:mcmc: - Convergence of means: R-1 = 0.142428 after 896 accepted steps\n"
     ]
    },
    {
     "name": "stdout",
     "output_type": "stream",
     "text": [
      "[mcmc]  - Convergence of means: R-1 = 0.142428 after 896 accepted steps\n"
     ]
    },
    {
     "name": "stderr",
     "output_type": "stream",
     "text": [
      "INFO:mcmc: - Updated covariance matrix of proposal pdf.\n"
     ]
    },
    {
     "name": "stdout",
     "output_type": "stream",
     "text": [
      "[mcmc]  - Updated covariance matrix of proposal pdf.\n"
     ]
    },
    {
     "name": "stderr",
     "output_type": "stream",
     "text": [
      "INFO:mcmc:Progress @ 2022-11-22 15:56:26 : 3179 steps taken, and 1172 accepted.\n"
     ]
    },
    {
     "name": "stdout",
     "output_type": "stream",
     "text": [
      "[mcmc] Progress @ 2022-11-22 15:56:26 : 3179 steps taken, and 1172 accepted.\n"
     ]
    },
    {
     "name": "stderr",
     "output_type": "stream",
     "text": [
      "INFO:mcmc:Learn + convergence test @ 1280 samples accepted.\n"
     ]
    },
    {
     "name": "stdout",
     "output_type": "stream",
     "text": [
      "[mcmc] Learn + convergence test @ 1280 samples accepted.\n"
     ]
    },
    {
     "name": "stderr",
     "output_type": "stream",
     "text": [
      "INFO:mcmc: - Acceptance rate: 0.350\n"
     ]
    },
    {
     "name": "stdout",
     "output_type": "stream",
     "text": [
      "[mcmc]  - Acceptance rate: 0.350\n"
     ]
    },
    {
     "name": "stderr",
     "output_type": "stream",
     "text": [
      "INFO:mcmc: - Convergence of means: R-1 = 0.379590 after 1024 accepted steps\n"
     ]
    },
    {
     "name": "stdout",
     "output_type": "stream",
     "text": [
      "[mcmc]  - Convergence of means: R-1 = 0.379590 after 1024 accepted steps\n"
     ]
    },
    {
     "name": "stderr",
     "output_type": "stream",
     "text": [
      "INFO:mcmc: - Updated covariance matrix of proposal pdf.\n"
     ]
    },
    {
     "name": "stdout",
     "output_type": "stream",
     "text": [
      "[mcmc]  - Updated covariance matrix of proposal pdf.\n"
     ]
    },
    {
     "name": "stderr",
     "output_type": "stream",
     "text": [
      "INFO:mcmc:Progress @ 2022-11-22 15:57:26 : 3534 steps taken, and 1288 accepted.\n"
     ]
    },
    {
     "name": "stdout",
     "output_type": "stream",
     "text": [
      "[mcmc] Progress @ 2022-11-22 15:57:26 : 3534 steps taken, and 1288 accepted.\n"
     ]
    },
    {
     "name": "stderr",
     "output_type": "stream",
     "text": [
      "INFO:mcmc:Progress @ 2022-11-22 15:58:27 : 3877 steps taken, and 1392 accepted.\n"
     ]
    },
    {
     "name": "stdout",
     "output_type": "stream",
     "text": [
      "[mcmc] Progress @ 2022-11-22 15:58:27 : 3877 steps taken, and 1392 accepted.\n"
     ]
    },
    {
     "name": "stderr",
     "output_type": "stream",
     "text": [
      "INFO:mcmc:Learn + convergence test @ 1440 samples accepted.\n"
     ]
    },
    {
     "name": "stdout",
     "output_type": "stream",
     "text": [
      "[mcmc] Learn + convergence test @ 1440 samples accepted.\n"
     ]
    },
    {
     "name": "stderr",
     "output_type": "stream",
     "text": [
      "INFO:mcmc: - Acceptance rate: 0.343\n"
     ]
    },
    {
     "name": "stdout",
     "output_type": "stream",
     "text": [
      "[mcmc]  - Acceptance rate: 0.343\n"
     ]
    },
    {
     "name": "stderr",
     "output_type": "stream",
     "text": [
      "INFO:mcmc: - Convergence of means: R-1 = 0.145135 after 1152 accepted steps\n"
     ]
    },
    {
     "name": "stdout",
     "output_type": "stream",
     "text": [
      "[mcmc]  - Convergence of means: R-1 = 0.145135 after 1152 accepted steps\n"
     ]
    },
    {
     "name": "stderr",
     "output_type": "stream",
     "text": [
      "INFO:mcmc: - Updated covariance matrix of proposal pdf.\n"
     ]
    },
    {
     "name": "stdout",
     "output_type": "stream",
     "text": [
      "[mcmc]  - Updated covariance matrix of proposal pdf.\n"
     ]
    },
    {
     "name": "stderr",
     "output_type": "stream",
     "text": [
      "INFO:mcmc:Progress @ 2022-11-22 15:59:27 : 4242 steps taken, and 1498 accepted.\n"
     ]
    },
    {
     "name": "stdout",
     "output_type": "stream",
     "text": [
      "[mcmc] Progress @ 2022-11-22 15:59:27 : 4242 steps taken, and 1498 accepted.\n"
     ]
    },
    {
     "name": "stderr",
     "output_type": "stream",
     "text": [
      "INFO:mcmc:Learn + convergence test @ 1600 samples accepted.\n"
     ]
    },
    {
     "name": "stdout",
     "output_type": "stream",
     "text": [
      "[mcmc] Learn + convergence test @ 1600 samples accepted.\n"
     ]
    },
    {
     "name": "stderr",
     "output_type": "stream",
     "text": [
      "INFO:mcmc: - Acceptance rate: 0.336\n"
     ]
    },
    {
     "name": "stdout",
     "output_type": "stream",
     "text": [
      "[mcmc]  - Acceptance rate: 0.336\n"
     ]
    },
    {
     "name": "stderr",
     "output_type": "stream",
     "text": [
      "INFO:mcmc: - Convergence of means: R-1 = 0.169642 after 1280 accepted steps\n"
     ]
    },
    {
     "name": "stdout",
     "output_type": "stream",
     "text": [
      "[mcmc]  - Convergence of means: R-1 = 0.169642 after 1280 accepted steps\n"
     ]
    },
    {
     "name": "stderr",
     "output_type": "stream",
     "text": [
      "INFO:mcmc: - Updated covariance matrix of proposal pdf.\n"
     ]
    },
    {
     "name": "stdout",
     "output_type": "stream",
     "text": [
      "[mcmc]  - Updated covariance matrix of proposal pdf.\n"
     ]
    },
    {
     "name": "stderr",
     "output_type": "stream",
     "text": [
      "INFO:mcmc:Progress @ 2022-11-22 16:00:27 : 4599 steps taken, and 1614 accepted.\n"
     ]
    },
    {
     "name": "stdout",
     "output_type": "stream",
     "text": [
      "[mcmc] Progress @ 2022-11-22 16:00:27 : 4599 steps taken, and 1614 accepted.\n"
     ]
    },
    {
     "name": "stderr",
     "output_type": "stream",
     "text": [
      "INFO:mcmc:Progress @ 2022-11-22 16:01:27 : 4954 steps taken, and 1708 accepted.\n"
     ]
    },
    {
     "name": "stdout",
     "output_type": "stream",
     "text": [
      "[mcmc] Progress @ 2022-11-22 16:01:27 : 4954 steps taken, and 1708 accepted.\n"
     ]
    },
    {
     "name": "stderr",
     "output_type": "stream",
     "text": [
      "INFO:mcmc:Learn + convergence test @ 1760 samples accepted.\n"
     ]
    },
    {
     "name": "stdout",
     "output_type": "stream",
     "text": [
      "[mcmc] Learn + convergence test @ 1760 samples accepted.\n"
     ]
    },
    {
     "name": "stderr",
     "output_type": "stream",
     "text": [
      "INFO:mcmc: - Acceptance rate: 0.330\n"
     ]
    },
    {
     "name": "stdout",
     "output_type": "stream",
     "text": [
      "[mcmc]  - Acceptance rate: 0.330\n"
     ]
    },
    {
     "name": "stderr",
     "output_type": "stream",
     "text": [
      "INFO:mcmc: - Convergence of means: R-1 = 0.333424 after 1408 accepted steps\n"
     ]
    },
    {
     "name": "stdout",
     "output_type": "stream",
     "text": [
      "[mcmc]  - Convergence of means: R-1 = 0.333424 after 1408 accepted steps\n"
     ]
    },
    {
     "name": "stderr",
     "output_type": "stream",
     "text": [
      "INFO:mcmc: - Updated covariance matrix of proposal pdf.\n"
     ]
    },
    {
     "name": "stdout",
     "output_type": "stream",
     "text": [
      "[mcmc]  - Updated covariance matrix of proposal pdf.\n"
     ]
    },
    {
     "name": "stderr",
     "output_type": "stream",
     "text": [
      "INFO:mcmc:Progress @ 2022-11-22 16:02:27 : 5307 steps taken, and 1823 accepted.\n"
     ]
    },
    {
     "name": "stdout",
     "output_type": "stream",
     "text": [
      "[mcmc] Progress @ 2022-11-22 16:02:27 : 5307 steps taken, and 1823 accepted.\n"
     ]
    },
    {
     "name": "stderr",
     "output_type": "stream",
     "text": [
      "INFO:mcmc:Learn + convergence test @ 1920 samples accepted.\n"
     ]
    },
    {
     "name": "stdout",
     "output_type": "stream",
     "text": [
      "[mcmc] Learn + convergence test @ 1920 samples accepted.\n"
     ]
    },
    {
     "name": "stderr",
     "output_type": "stream",
     "text": [
      "INFO:mcmc: - Acceptance rate: 0.327\n"
     ]
    },
    {
     "name": "stdout",
     "output_type": "stream",
     "text": [
      "[mcmc]  - Acceptance rate: 0.327\n"
     ]
    },
    {
     "name": "stderr",
     "output_type": "stream",
     "text": [
      "INFO:mcmc: - Convergence of means: R-1 = 0.282361 after 1536 accepted steps\n"
     ]
    },
    {
     "name": "stdout",
     "output_type": "stream",
     "text": [
      "[mcmc]  - Convergence of means: R-1 = 0.282361 after 1536 accepted steps\n"
     ]
    },
    {
     "name": "stderr",
     "output_type": "stream",
     "text": [
      "INFO:mcmc: - Updated covariance matrix of proposal pdf.\n"
     ]
    },
    {
     "name": "stdout",
     "output_type": "stream",
     "text": [
      "[mcmc]  - Updated covariance matrix of proposal pdf.\n"
     ]
    },
    {
     "name": "stderr",
     "output_type": "stream",
     "text": [
      "INFO:mcmc:Progress @ 2022-11-22 16:03:27 : 5663 steps taken, and 1946 accepted.\n"
     ]
    },
    {
     "name": "stdout",
     "output_type": "stream",
     "text": [
      "[mcmc] Progress @ 2022-11-22 16:03:27 : 5663 steps taken, and 1946 accepted.\n"
     ]
    },
    {
     "name": "stderr",
     "output_type": "stream",
     "text": [
      "INFO:mcmc:Progress @ 2022-11-22 16:04:27 : 6018 steps taken, and 2054 accepted.\n"
     ]
    },
    {
     "name": "stdout",
     "output_type": "stream",
     "text": [
      "[mcmc] Progress @ 2022-11-22 16:04:27 : 6018 steps taken, and 2054 accepted.\n"
     ]
    },
    {
     "name": "stderr",
     "output_type": "stream",
     "text": [
      "INFO:mcmc:Learn + convergence test @ 2080 samples accepted.\n"
     ]
    },
    {
     "name": "stdout",
     "output_type": "stream",
     "text": [
      "[mcmc] Learn + convergence test @ 2080 samples accepted.\n"
     ]
    },
    {
     "name": "stderr",
     "output_type": "stream",
     "text": [
      "INFO:mcmc: - Acceptance rate: 0.326\n"
     ]
    },
    {
     "name": "stdout",
     "output_type": "stream",
     "text": [
      "[mcmc]  - Acceptance rate: 0.326\n"
     ]
    },
    {
     "name": "stderr",
     "output_type": "stream",
     "text": [
      "INFO:mcmc: - Convergence of means: R-1 = 0.155167 after 1664 accepted steps\n"
     ]
    },
    {
     "name": "stdout",
     "output_type": "stream",
     "text": [
      "[mcmc]  - Convergence of means: R-1 = 0.155167 after 1664 accepted steps\n"
     ]
    },
    {
     "name": "stderr",
     "output_type": "stream",
     "text": [
      "INFO:mcmc: - Updated covariance matrix of proposal pdf.\n"
     ]
    },
    {
     "name": "stdout",
     "output_type": "stream",
     "text": [
      "[mcmc]  - Updated covariance matrix of proposal pdf.\n"
     ]
    },
    {
     "name": "stderr",
     "output_type": "stream",
     "text": [
      "INFO:mcmc:Progress @ 2022-11-22 16:05:27 : 6377 steps taken, and 2149 accepted.\n"
     ]
    },
    {
     "name": "stdout",
     "output_type": "stream",
     "text": [
      "[mcmc] Progress @ 2022-11-22 16:05:27 : 6377 steps taken, and 2149 accepted.\n"
     ]
    },
    {
     "name": "stderr",
     "output_type": "stream",
     "text": [
      "INFO:mcmc:Learn + convergence test @ 2240 samples accepted.\n"
     ]
    },
    {
     "name": "stdout",
     "output_type": "stream",
     "text": [
      "[mcmc] Learn + convergence test @ 2240 samples accepted.\n"
     ]
    },
    {
     "name": "stderr",
     "output_type": "stream",
     "text": [
      "INFO:mcmc: - Acceptance rate: 0.320\n"
     ]
    },
    {
     "name": "stdout",
     "output_type": "stream",
     "text": [
      "[mcmc]  - Acceptance rate: 0.320\n"
     ]
    },
    {
     "name": "stderr",
     "output_type": "stream",
     "text": [
      "INFO:mcmc: - Convergence of means: R-1 = 0.140022 after 1792 accepted steps\n"
     ]
    },
    {
     "name": "stdout",
     "output_type": "stream",
     "text": [
      "[mcmc]  - Convergence of means: R-1 = 0.140022 after 1792 accepted steps\n"
     ]
    },
    {
     "name": "stderr",
     "output_type": "stream",
     "text": [
      "INFO:mcmc: - Updated covariance matrix of proposal pdf.\n"
     ]
    },
    {
     "name": "stdout",
     "output_type": "stream",
     "text": [
      "[mcmc]  - Updated covariance matrix of proposal pdf.\n"
     ]
    },
    {
     "name": "stderr",
     "output_type": "stream",
     "text": [
      "INFO:mcmc:Progress @ 2022-11-22 16:06:27 : 6734 steps taken, and 2251 accepted.\n"
     ]
    },
    {
     "name": "stdout",
     "output_type": "stream",
     "text": [
      "[mcmc] Progress @ 2022-11-22 16:06:27 : 6734 steps taken, and 2251 accepted.\n"
     ]
    },
    {
     "name": "stderr",
     "output_type": "stream",
     "text": [
      "INFO:mcmc:Progress @ 2022-11-22 16:07:27 : 7098 steps taken, and 2351 accepted.\n"
     ]
    },
    {
     "name": "stdout",
     "output_type": "stream",
     "text": [
      "[mcmc] Progress @ 2022-11-22 16:07:27 : 7098 steps taken, and 2351 accepted.\n"
     ]
    },
    {
     "name": "stderr",
     "output_type": "stream",
     "text": [
      "INFO:mcmc:Learn + convergence test @ 2400 samples accepted.\n"
     ]
    },
    {
     "name": "stdout",
     "output_type": "stream",
     "text": [
      "[mcmc] Learn + convergence test @ 2400 samples accepted.\n"
     ]
    },
    {
     "name": "stderr",
     "output_type": "stream",
     "text": [
      "INFO:mcmc: - Acceptance rate: 0.317\n"
     ]
    },
    {
     "name": "stdout",
     "output_type": "stream",
     "text": [
      "[mcmc]  - Acceptance rate: 0.317\n"
     ]
    },
    {
     "name": "stderr",
     "output_type": "stream",
     "text": [
      "INFO:mcmc: - Convergence of means: R-1 = 0.114063 after 1920 accepted steps\n"
     ]
    },
    {
     "name": "stdout",
     "output_type": "stream",
     "text": [
      "[mcmc]  - Convergence of means: R-1 = 0.114063 after 1920 accepted steps\n"
     ]
    },
    {
     "name": "stderr",
     "output_type": "stream",
     "text": [
      "INFO:mcmc: - Updated covariance matrix of proposal pdf.\n"
     ]
    },
    {
     "name": "stdout",
     "output_type": "stream",
     "text": [
      "[mcmc]  - Updated covariance matrix of proposal pdf.\n"
     ]
    },
    {
     "name": "stderr",
     "output_type": "stream",
     "text": [
      "INFO:mcmc:Progress @ 2022-11-22 16:08:27 : 7453 steps taken, and 2470 accepted.\n"
     ]
    },
    {
     "name": "stdout",
     "output_type": "stream",
     "text": [
      "[mcmc] Progress @ 2022-11-22 16:08:27 : 7453 steps taken, and 2470 accepted.\n"
     ]
    },
    {
     "name": "stderr",
     "output_type": "stream",
     "text": [
      "INFO:mcmc:Learn + convergence test @ 2560 samples accepted.\n"
     ]
    },
    {
     "name": "stdout",
     "output_type": "stream",
     "text": [
      "[mcmc] Learn + convergence test @ 2560 samples accepted.\n"
     ]
    },
    {
     "name": "stderr",
     "output_type": "stream",
     "text": [
      "INFO:mcmc: - Acceptance rate: 0.317\n"
     ]
    },
    {
     "name": "stdout",
     "output_type": "stream",
     "text": [
      "[mcmc]  - Acceptance rate: 0.317\n"
     ]
    },
    {
     "name": "stderr",
     "output_type": "stream",
     "text": [
      "INFO:mcmc: - Convergence of means: R-1 = 0.106512 after 2048 accepted steps\n"
     ]
    },
    {
     "name": "stdout",
     "output_type": "stream",
     "text": [
      "[mcmc]  - Convergence of means: R-1 = 0.106512 after 2048 accepted steps\n"
     ]
    },
    {
     "name": "stderr",
     "output_type": "stream",
     "text": [
      "INFO:mcmc: - Updated covariance matrix of proposal pdf.\n"
     ]
    },
    {
     "name": "stdout",
     "output_type": "stream",
     "text": [
      "[mcmc]  - Updated covariance matrix of proposal pdf.\n"
     ]
    },
    {
     "name": "stderr",
     "output_type": "stream",
     "text": [
      "INFO:mcmc:Progress @ 2022-11-22 16:09:27 : 7809 steps taken, and 2588 accepted.\n"
     ]
    },
    {
     "name": "stdout",
     "output_type": "stream",
     "text": [
      "[mcmc] Progress @ 2022-11-22 16:09:27 : 7809 steps taken, and 2588 accepted.\n"
     ]
    },
    {
     "name": "stderr",
     "output_type": "stream",
     "text": [
      "INFO:mcmc:Progress @ 2022-11-22 16:10:27 : 8156 steps taken, and 2680 accepted.\n"
     ]
    },
    {
     "name": "stdout",
     "output_type": "stream",
     "text": [
      "[mcmc] Progress @ 2022-11-22 16:10:27 : 8156 steps taken, and 2680 accepted.\n"
     ]
    },
    {
     "name": "stderr",
     "output_type": "stream",
     "text": [
      "INFO:mcmc:Learn + convergence test @ 2720 samples accepted.\n"
     ]
    },
    {
     "name": "stdout",
     "output_type": "stream",
     "text": [
      "[mcmc] Learn + convergence test @ 2720 samples accepted.\n"
     ]
    },
    {
     "name": "stderr",
     "output_type": "stream",
     "text": [
      "INFO:mcmc: - Acceptance rate: 0.314\n"
     ]
    },
    {
     "name": "stdout",
     "output_type": "stream",
     "text": [
      "[mcmc]  - Acceptance rate: 0.314\n"
     ]
    },
    {
     "name": "stderr",
     "output_type": "stream",
     "text": [
      "INFO:mcmc: - Convergence of means: R-1 = 0.071430 after 2176 accepted steps\n"
     ]
    },
    {
     "name": "stdout",
     "output_type": "stream",
     "text": [
      "[mcmc]  - Convergence of means: R-1 = 0.071430 after 2176 accepted steps\n"
     ]
    },
    {
     "name": "stderr",
     "output_type": "stream",
     "text": [
      "INFO:mcmc: - Updated covariance matrix of proposal pdf.\n"
     ]
    },
    {
     "name": "stdout",
     "output_type": "stream",
     "text": [
      "[mcmc]  - Updated covariance matrix of proposal pdf.\n"
     ]
    },
    {
     "name": "stderr",
     "output_type": "stream",
     "text": [
      "INFO:mcmc:Progress @ 2022-11-22 16:11:27 : 8522 steps taken, and 2812 accepted.\n"
     ]
    },
    {
     "name": "stdout",
     "output_type": "stream",
     "text": [
      "[mcmc] Progress @ 2022-11-22 16:11:27 : 8522 steps taken, and 2812 accepted.\n"
     ]
    },
    {
     "name": "stderr",
     "output_type": "stream",
     "text": [
      "INFO:mcmc:Learn + convergence test @ 2880 samples accepted.\n"
     ]
    },
    {
     "name": "stdout",
     "output_type": "stream",
     "text": [
      "[mcmc] Learn + convergence test @ 2880 samples accepted.\n"
     ]
    },
    {
     "name": "stderr",
     "output_type": "stream",
     "text": [
      "INFO:mcmc: - Acceptance rate: 0.314\n"
     ]
    },
    {
     "name": "stdout",
     "output_type": "stream",
     "text": [
      "[mcmc]  - Acceptance rate: 0.314\n"
     ]
    },
    {
     "name": "stderr",
     "output_type": "stream",
     "text": [
      "INFO:mcmc: - Convergence of means: R-1 = 0.056702 after 2304 accepted steps\n"
     ]
    },
    {
     "name": "stdout",
     "output_type": "stream",
     "text": [
      "[mcmc]  - Convergence of means: R-1 = 0.056702 after 2304 accepted steps\n"
     ]
    },
    {
     "name": "stderr",
     "output_type": "stream",
     "text": [
      "INFO:mcmc: - Updated covariance matrix of proposal pdf.\n"
     ]
    },
    {
     "name": "stdout",
     "output_type": "stream",
     "text": [
      "[mcmc]  - Updated covariance matrix of proposal pdf.\n"
     ]
    },
    {
     "name": "stderr",
     "output_type": "stream",
     "text": [
      "INFO:mcmc:Progress @ 2022-11-22 16:12:27 : 8879 steps taken, and 2915 accepted.\n"
     ]
    },
    {
     "name": "stdout",
     "output_type": "stream",
     "text": [
      "[mcmc] Progress @ 2022-11-22 16:12:27 : 8879 steps taken, and 2915 accepted.\n"
     ]
    },
    {
     "name": "stderr",
     "output_type": "stream",
     "text": [
      "INFO:mcmc:Progress @ 2022-11-22 16:13:28 : 9236 steps taken, and 3030 accepted.\n"
     ]
    },
    {
     "name": "stdout",
     "output_type": "stream",
     "text": [
      "[mcmc] Progress @ 2022-11-22 16:13:28 : 9236 steps taken, and 3030 accepted.\n"
     ]
    },
    {
     "name": "stderr",
     "output_type": "stream",
     "text": [
      "INFO:mcmc:Learn + convergence test @ 3040 samples accepted.\n"
     ]
    },
    {
     "name": "stdout",
     "output_type": "stream",
     "text": [
      "[mcmc] Learn + convergence test @ 3040 samples accepted.\n"
     ]
    },
    {
     "name": "stderr",
     "output_type": "stream",
     "text": [
      "INFO:mcmc: - Acceptance rate: 0.314\n"
     ]
    },
    {
     "name": "stdout",
     "output_type": "stream",
     "text": [
      "[mcmc]  - Acceptance rate: 0.314\n"
     ]
    },
    {
     "name": "stderr",
     "output_type": "stream",
     "text": [
      "INFO:mcmc: - Convergence of means: R-1 = 0.043581 after 2432 accepted steps\n"
     ]
    },
    {
     "name": "stdout",
     "output_type": "stream",
     "text": [
      "[mcmc]  - Convergence of means: R-1 = 0.043581 after 2432 accepted steps\n"
     ]
    },
    {
     "name": "stderr",
     "output_type": "stream",
     "text": [
      "INFO:mcmc: - Updated covariance matrix of proposal pdf.\n"
     ]
    },
    {
     "name": "stdout",
     "output_type": "stream",
     "text": [
      "[mcmc]  - Updated covariance matrix of proposal pdf.\n"
     ]
    },
    {
     "name": "stderr",
     "output_type": "stream",
     "text": [
      "INFO:mcmc:Progress @ 2022-11-22 16:14:28 : 9601 steps taken, and 3137 accepted.\n"
     ]
    },
    {
     "name": "stdout",
     "output_type": "stream",
     "text": [
      "[mcmc] Progress @ 2022-11-22 16:14:28 : 9601 steps taken, and 3137 accepted.\n"
     ]
    },
    {
     "name": "stderr",
     "output_type": "stream",
     "text": [
      "INFO:mcmc:Learn + convergence test @ 3200 samples accepted.\n"
     ]
    },
    {
     "name": "stdout",
     "output_type": "stream",
     "text": [
      "[mcmc] Learn + convergence test @ 3200 samples accepted.\n"
     ]
    },
    {
     "name": "stderr",
     "output_type": "stream",
     "text": [
      "INFO:mcmc: - Acceptance rate: 0.310\n"
     ]
    },
    {
     "name": "stdout",
     "output_type": "stream",
     "text": [
      "[mcmc]  - Acceptance rate: 0.310\n"
     ]
    },
    {
     "name": "stderr",
     "output_type": "stream",
     "text": [
      "INFO:mcmc: - Convergence of means: R-1 = 0.037056 after 2560 accepted steps\n"
     ]
    },
    {
     "name": "stdout",
     "output_type": "stream",
     "text": [
      "[mcmc]  - Convergence of means: R-1 = 0.037056 after 2560 accepted steps\n"
     ]
    },
    {
     "name": "stderr",
     "output_type": "stream",
     "text": [
      "INFO:mcmc: - Updated covariance matrix of proposal pdf.\n"
     ]
    },
    {
     "name": "stdout",
     "output_type": "stream",
     "text": [
      "[mcmc]  - Updated covariance matrix of proposal pdf.\n"
     ]
    },
    {
     "name": "stderr",
     "output_type": "stream",
     "text": [
      "INFO:mcmc:Progress @ 2022-11-22 16:15:28 : 9958 steps taken, and 3233 accepted.\n"
     ]
    },
    {
     "name": "stdout",
     "output_type": "stream",
     "text": [
      "[mcmc] Progress @ 2022-11-22 16:15:28 : 9958 steps taken, and 3233 accepted.\n"
     ]
    },
    {
     "name": "stderr",
     "output_type": "stream",
     "text": [
      "INFO:mcmc:Progress @ 2022-11-22 16:16:28 : 10302 steps taken, and 3329 accepted.\n"
     ]
    },
    {
     "name": "stdout",
     "output_type": "stream",
     "text": [
      "[mcmc] Progress @ 2022-11-22 16:16:28 : 10302 steps taken, and 3329 accepted.\n"
     ]
    },
    {
     "name": "stderr",
     "output_type": "stream",
     "text": [
      "INFO:mcmc:Learn + convergence test @ 3360 samples accepted.\n"
     ]
    },
    {
     "name": "stdout",
     "output_type": "stream",
     "text": [
      "[mcmc] Learn + convergence test @ 3360 samples accepted.\n"
     ]
    },
    {
     "name": "stderr",
     "output_type": "stream",
     "text": [
      "INFO:mcmc: - Acceptance rate: 0.308\n"
     ]
    },
    {
     "name": "stdout",
     "output_type": "stream",
     "text": [
      "[mcmc]  - Acceptance rate: 0.308\n"
     ]
    },
    {
     "name": "stderr",
     "output_type": "stream",
     "text": [
      "INFO:mcmc: - Convergence of means: R-1 = 0.025812 after 2688 accepted steps\n"
     ]
    },
    {
     "name": "stdout",
     "output_type": "stream",
     "text": [
      "[mcmc]  - Convergence of means: R-1 = 0.025812 after 2688 accepted steps\n"
     ]
    },
    {
     "name": "stderr",
     "output_type": "stream",
     "text": [
      "INFO:mcmc: - Updated covariance matrix of proposal pdf.\n"
     ]
    },
    {
     "name": "stdout",
     "output_type": "stream",
     "text": [
      "[mcmc]  - Updated covariance matrix of proposal pdf.\n"
     ]
    },
    {
     "name": "stderr",
     "output_type": "stream",
     "text": [
      "INFO:mcmc:Progress @ 2022-11-22 16:17:28 : 10668 steps taken, and 3432 accepted.\n"
     ]
    },
    {
     "name": "stdout",
     "output_type": "stream",
     "text": [
      "[mcmc] Progress @ 2022-11-22 16:17:28 : 10668 steps taken, and 3432 accepted.\n"
     ]
    },
    {
     "name": "stderr",
     "output_type": "stream",
     "text": [
      "INFO:mcmc:Learn + convergence test @ 3520 samples accepted.\n"
     ]
    },
    {
     "name": "stdout",
     "output_type": "stream",
     "text": [
      "[mcmc] Learn + convergence test @ 3520 samples accepted.\n"
     ]
    },
    {
     "name": "stderr",
     "output_type": "stream",
     "text": [
      "INFO:mcmc: - Acceptance rate: 0.305\n"
     ]
    },
    {
     "name": "stdout",
     "output_type": "stream",
     "text": [
      "[mcmc]  - Acceptance rate: 0.305\n"
     ]
    },
    {
     "name": "stderr",
     "output_type": "stream",
     "text": [
      "INFO:mcmc: - Convergence of means: R-1 = 0.027785 after 2816 accepted steps\n"
     ]
    },
    {
     "name": "stdout",
     "output_type": "stream",
     "text": [
      "[mcmc]  - Convergence of means: R-1 = 0.027785 after 2816 accepted steps\n"
     ]
    },
    {
     "name": "stderr",
     "output_type": "stream",
     "text": [
      "INFO:mcmc: - Updated covariance matrix of proposal pdf.\n"
     ]
    },
    {
     "name": "stdout",
     "output_type": "stream",
     "text": [
      "[mcmc]  - Updated covariance matrix of proposal pdf.\n"
     ]
    },
    {
     "name": "stderr",
     "output_type": "stream",
     "text": [
      "INFO:mcmc:Progress @ 2022-11-22 16:18:28 : 11036 steps taken, and 3533 accepted.\n"
     ]
    },
    {
     "name": "stdout",
     "output_type": "stream",
     "text": [
      "[mcmc] Progress @ 2022-11-22 16:18:28 : 11036 steps taken, and 3533 accepted.\n"
     ]
    },
    {
     "name": "stderr",
     "output_type": "stream",
     "text": [
      "INFO:mcmc:Progress @ 2022-11-22 16:19:28 : 11401 steps taken, and 3644 accepted.\n"
     ]
    },
    {
     "name": "stdout",
     "output_type": "stream",
     "text": [
      "[mcmc] Progress @ 2022-11-22 16:19:28 : 11401 steps taken, and 3644 accepted.\n"
     ]
    },
    {
     "name": "stderr",
     "output_type": "stream",
     "text": [
      "INFO:mcmc:Learn + convergence test @ 3680 samples accepted.\n"
     ]
    },
    {
     "name": "stdout",
     "output_type": "stream",
     "text": [
      "[mcmc] Learn + convergence test @ 3680 samples accepted.\n"
     ]
    },
    {
     "name": "stderr",
     "output_type": "stream",
     "text": [
      "INFO:mcmc: - Acceptance rate: 0.305\n"
     ]
    },
    {
     "name": "stdout",
     "output_type": "stream",
     "text": [
      "[mcmc]  - Acceptance rate: 0.305\n"
     ]
    },
    {
     "name": "stderr",
     "output_type": "stream",
     "text": [
      "INFO:mcmc: - Convergence of means: R-1 = 0.027431 after 2944 accepted steps\n"
     ]
    },
    {
     "name": "stdout",
     "output_type": "stream",
     "text": [
      "[mcmc]  - Convergence of means: R-1 = 0.027431 after 2944 accepted steps\n"
     ]
    },
    {
     "name": "stderr",
     "output_type": "stream",
     "text": [
      "INFO:mcmc: - Updated covariance matrix of proposal pdf.\n"
     ]
    },
    {
     "name": "stdout",
     "output_type": "stream",
     "text": [
      "[mcmc]  - Updated covariance matrix of proposal pdf.\n"
     ]
    },
    {
     "name": "stderr",
     "output_type": "stream",
     "text": [
      "INFO:mcmc:Progress @ 2022-11-22 16:20:28 : 11758 steps taken, and 3764 accepted.\n"
     ]
    },
    {
     "name": "stdout",
     "output_type": "stream",
     "text": [
      "[mcmc] Progress @ 2022-11-22 16:20:28 : 11758 steps taken, and 3764 accepted.\n"
     ]
    },
    {
     "name": "stderr",
     "output_type": "stream",
     "text": [
      "INFO:mcmc:Learn + convergence test @ 3840 samples accepted.\n"
     ]
    },
    {
     "name": "stdout",
     "output_type": "stream",
     "text": [
      "[mcmc] Learn + convergence test @ 3840 samples accepted.\n"
     ]
    },
    {
     "name": "stderr",
     "output_type": "stream",
     "text": [
      "INFO:mcmc: - Acceptance rate: 0.305\n"
     ]
    },
    {
     "name": "stdout",
     "output_type": "stream",
     "text": [
      "[mcmc]  - Acceptance rate: 0.305\n"
     ]
    },
    {
     "name": "stderr",
     "output_type": "stream",
     "text": [
      "INFO:mcmc: - Convergence of means: R-1 = 0.026095 after 3072 accepted steps\n"
     ]
    },
    {
     "name": "stdout",
     "output_type": "stream",
     "text": [
      "[mcmc]  - Convergence of means: R-1 = 0.026095 after 3072 accepted steps\n"
     ]
    },
    {
     "name": "stderr",
     "output_type": "stream",
     "text": [
      "INFO:mcmc: - Updated covariance matrix of proposal pdf.\n"
     ]
    },
    {
     "name": "stdout",
     "output_type": "stream",
     "text": [
      "[mcmc]  - Updated covariance matrix of proposal pdf.\n"
     ]
    },
    {
     "name": "stderr",
     "output_type": "stream",
     "text": [
      "INFO:mcmc:Progress @ 2022-11-22 16:21:28 : 12114 steps taken, and 3873 accepted.\n"
     ]
    },
    {
     "name": "stdout",
     "output_type": "stream",
     "text": [
      "[mcmc] Progress @ 2022-11-22 16:21:28 : 12114 steps taken, and 3873 accepted.\n"
     ]
    },
    {
     "name": "stderr",
     "output_type": "stream",
     "text": [
      "INFO:mcmc:Progress @ 2022-11-22 16:22:28 : 12456 steps taken, and 3974 accepted.\n"
     ]
    },
    {
     "name": "stdout",
     "output_type": "stream",
     "text": [
      "[mcmc] Progress @ 2022-11-22 16:22:28 : 12456 steps taken, and 3974 accepted.\n"
     ]
    },
    {
     "name": "stderr",
     "output_type": "stream",
     "text": [
      "INFO:mcmc:Learn + convergence test @ 4000 samples accepted.\n"
     ]
    },
    {
     "name": "stdout",
     "output_type": "stream",
     "text": [
      "[mcmc] Learn + convergence test @ 4000 samples accepted.\n"
     ]
    },
    {
     "name": "stderr",
     "output_type": "stream",
     "text": [
      "INFO:mcmc: - Acceptance rate: 0.304\n"
     ]
    },
    {
     "name": "stdout",
     "output_type": "stream",
     "text": [
      "[mcmc]  - Acceptance rate: 0.304\n"
     ]
    },
    {
     "name": "stderr",
     "output_type": "stream",
     "text": [
      "INFO:mcmc: - Convergence of means: R-1 = 0.023688 after 3200 accepted steps\n"
     ]
    },
    {
     "name": "stdout",
     "output_type": "stream",
     "text": [
      "[mcmc]  - Convergence of means: R-1 = 0.023688 after 3200 accepted steps\n"
     ]
    },
    {
     "name": "stderr",
     "output_type": "stream",
     "text": [
      "INFO:mcmc: - Updated covariance matrix of proposal pdf.\n"
     ]
    },
    {
     "name": "stdout",
     "output_type": "stream",
     "text": [
      "[mcmc]  - Updated covariance matrix of proposal pdf.\n"
     ]
    },
    {
     "name": "stderr",
     "output_type": "stream",
     "text": [
      "INFO:mcmc:Progress @ 2022-11-22 16:23:28 : 12810 steps taken, and 4085 accepted.\n"
     ]
    },
    {
     "name": "stdout",
     "output_type": "stream",
     "text": [
      "[mcmc] Progress @ 2022-11-22 16:23:28 : 12810 steps taken, and 4085 accepted.\n"
     ]
    },
    {
     "name": "stderr",
     "output_type": "stream",
     "text": [
      "INFO:mcmc:Learn + convergence test @ 4160 samples accepted.\n"
     ]
    },
    {
     "name": "stdout",
     "output_type": "stream",
     "text": [
      "[mcmc] Learn + convergence test @ 4160 samples accepted.\n"
     ]
    },
    {
     "name": "stderr",
     "output_type": "stream",
     "text": [
      "INFO:mcmc: - Acceptance rate: 0.305\n"
     ]
    },
    {
     "name": "stdout",
     "output_type": "stream",
     "text": [
      "[mcmc]  - Acceptance rate: 0.305\n"
     ]
    },
    {
     "name": "stderr",
     "output_type": "stream",
     "text": [
      "INFO:mcmc: - Convergence of means: R-1 = 0.018182 after 3328 accepted steps\n"
     ]
    },
    {
     "name": "stdout",
     "output_type": "stream",
     "text": [
      "[mcmc]  - Convergence of means: R-1 = 0.018182 after 3328 accepted steps\n"
     ]
    },
    {
     "name": "stderr",
     "output_type": "stream",
     "text": [
      "INFO:mcmc: - Updated covariance matrix of proposal pdf.\n"
     ]
    },
    {
     "name": "stdout",
     "output_type": "stream",
     "text": [
      "[mcmc]  - Updated covariance matrix of proposal pdf.\n"
     ]
    },
    {
     "name": "stderr",
     "output_type": "stream",
     "text": [
      "INFO:mcmc:Progress @ 2022-11-22 16:24:29 : 13167 steps taken, and 4188 accepted.\n"
     ]
    },
    {
     "name": "stdout",
     "output_type": "stream",
     "text": [
      "[mcmc] Progress @ 2022-11-22 16:24:29 : 13167 steps taken, and 4188 accepted.\n"
     ]
    },
    {
     "name": "stderr",
     "output_type": "stream",
     "text": [
      "INFO:mcmc:Progress @ 2022-11-22 16:25:29 : 13526 steps taken, and 4288 accepted.\n"
     ]
    },
    {
     "name": "stdout",
     "output_type": "stream",
     "text": [
      "[mcmc] Progress @ 2022-11-22 16:25:29 : 13526 steps taken, and 4288 accepted.\n"
     ]
    },
    {
     "name": "stderr",
     "output_type": "stream",
     "text": [
      "INFO:mcmc:Learn + convergence test @ 4320 samples accepted.\n"
     ]
    },
    {
     "name": "stdout",
     "output_type": "stream",
     "text": [
      "[mcmc] Learn + convergence test @ 4320 samples accepted.\n"
     ]
    },
    {
     "name": "stderr",
     "output_type": "stream",
     "text": [
      "INFO:mcmc: - Acceptance rate: 0.303\n"
     ]
    },
    {
     "name": "stdout",
     "output_type": "stream",
     "text": [
      "[mcmc]  - Acceptance rate: 0.303\n"
     ]
    },
    {
     "name": "stderr",
     "output_type": "stream",
     "text": [
      "INFO:mcmc: - Convergence of means: R-1 = 0.018927 after 3456 accepted steps\n"
     ]
    },
    {
     "name": "stdout",
     "output_type": "stream",
     "text": [
      "[mcmc]  - Convergence of means: R-1 = 0.018927 after 3456 accepted steps\n"
     ]
    },
    {
     "name": "stderr",
     "output_type": "stream",
     "text": [
      "INFO:mcmc: - Updated covariance matrix of proposal pdf.\n"
     ]
    },
    {
     "name": "stdout",
     "output_type": "stream",
     "text": [
      "[mcmc]  - Updated covariance matrix of proposal pdf.\n"
     ]
    },
    {
     "name": "stderr",
     "output_type": "stream",
     "text": [
      "INFO:mcmc:Progress @ 2022-11-22 16:26:29 : 13880 steps taken, and 4392 accepted.\n"
     ]
    },
    {
     "name": "stdout",
     "output_type": "stream",
     "text": [
      "[mcmc] Progress @ 2022-11-22 16:26:29 : 13880 steps taken, and 4392 accepted.\n"
     ]
    },
    {
     "name": "stderr",
     "output_type": "stream",
     "text": [
      "INFO:mcmc:Learn + convergence test @ 4480 samples accepted.\n"
     ]
    },
    {
     "name": "stdout",
     "output_type": "stream",
     "text": [
      "[mcmc] Learn + convergence test @ 4480 samples accepted.\n"
     ]
    },
    {
     "name": "stderr",
     "output_type": "stream",
     "text": [
      "INFO:mcmc: - Acceptance rate: 0.302\n"
     ]
    },
    {
     "name": "stdout",
     "output_type": "stream",
     "text": [
      "[mcmc]  - Acceptance rate: 0.302\n"
     ]
    },
    {
     "name": "stderr",
     "output_type": "stream",
     "text": [
      "INFO:mcmc: - Convergence of means: R-1 = 0.016732 after 3584 accepted steps\n"
     ]
    },
    {
     "name": "stdout",
     "output_type": "stream",
     "text": [
      "[mcmc]  - Convergence of means: R-1 = 0.016732 after 3584 accepted steps\n"
     ]
    },
    {
     "name": "stderr",
     "output_type": "stream",
     "text": [
      "INFO:mcmc: - Updated covariance matrix of proposal pdf.\n"
     ]
    },
    {
     "name": "stdout",
     "output_type": "stream",
     "text": [
      "[mcmc]  - Updated covariance matrix of proposal pdf.\n"
     ]
    },
    {
     "name": "stderr",
     "output_type": "stream",
     "text": [
      "INFO:mcmc:Progress @ 2022-11-22 16:27:29 : 14223 steps taken, and 4496 accepted.\n"
     ]
    },
    {
     "name": "stdout",
     "output_type": "stream",
     "text": [
      "[mcmc] Progress @ 2022-11-22 16:27:29 : 14223 steps taken, and 4496 accepted.\n"
     ]
    },
    {
     "name": "stderr",
     "output_type": "stream",
     "text": [
      "INFO:mcmc:Progress @ 2022-11-22 16:28:29 : 14579 steps taken, and 4611 accepted.\n"
     ]
    },
    {
     "name": "stdout",
     "output_type": "stream",
     "text": [
      "[mcmc] Progress @ 2022-11-22 16:28:29 : 14579 steps taken, and 4611 accepted.\n"
     ]
    },
    {
     "name": "stderr",
     "output_type": "stream",
     "text": [
      "INFO:mcmc:Learn + convergence test @ 4640 samples accepted.\n"
     ]
    },
    {
     "name": "stdout",
     "output_type": "stream",
     "text": [
      "[mcmc] Learn + convergence test @ 4640 samples accepted.\n"
     ]
    },
    {
     "name": "stderr",
     "output_type": "stream",
     "text": [
      "INFO:mcmc: - Acceptance rate: 0.302\n"
     ]
    },
    {
     "name": "stdout",
     "output_type": "stream",
     "text": [
      "[mcmc]  - Acceptance rate: 0.302\n"
     ]
    },
    {
     "name": "stderr",
     "output_type": "stream",
     "text": [
      "INFO:mcmc: - Convergence of means: R-1 = 0.016191 after 3712 accepted steps\n"
     ]
    },
    {
     "name": "stdout",
     "output_type": "stream",
     "text": [
      "[mcmc]  - Convergence of means: R-1 = 0.016191 after 3712 accepted steps\n"
     ]
    },
    {
     "name": "stderr",
     "output_type": "stream",
     "text": [
      "INFO:mcmc: - Updated covariance matrix of proposal pdf.\n"
     ]
    },
    {
     "name": "stdout",
     "output_type": "stream",
     "text": [
      "[mcmc]  - Updated covariance matrix of proposal pdf.\n"
     ]
    },
    {
     "name": "stderr",
     "output_type": "stream",
     "text": [
      "INFO:mcmc:Progress @ 2022-11-22 16:29:29 : 14929 steps taken, and 4707 accepted.\n"
     ]
    },
    {
     "name": "stdout",
     "output_type": "stream",
     "text": [
      "[mcmc] Progress @ 2022-11-22 16:29:29 : 14929 steps taken, and 4707 accepted.\n"
     ]
    },
    {
     "name": "stderr",
     "output_type": "stream",
     "text": [
      "INFO:mcmc:Learn + convergence test @ 4800 samples accepted.\n"
     ]
    },
    {
     "name": "stdout",
     "output_type": "stream",
     "text": [
      "[mcmc] Learn + convergence test @ 4800 samples accepted.\n"
     ]
    },
    {
     "name": "stderr",
     "output_type": "stream",
     "text": [
      "INFO:mcmc: - Acceptance rate: 0.300\n"
     ]
    },
    {
     "name": "stdout",
     "output_type": "stream",
     "text": [
      "[mcmc]  - Acceptance rate: 0.300\n"
     ]
    },
    {
     "name": "stderr",
     "output_type": "stream",
     "text": [
      "INFO:mcmc: - Convergence of means: R-1 = 0.015994 after 3840 accepted steps\n"
     ]
    },
    {
     "name": "stdout",
     "output_type": "stream",
     "text": [
      "[mcmc]  - Convergence of means: R-1 = 0.015994 after 3840 accepted steps\n"
     ]
    },
    {
     "name": "stderr",
     "output_type": "stream",
     "text": [
      "INFO:mcmc: - Updated covariance matrix of proposal pdf.\n"
     ]
    },
    {
     "name": "stdout",
     "output_type": "stream",
     "text": [
      "[mcmc]  - Updated covariance matrix of proposal pdf.\n"
     ]
    },
    {
     "name": "stderr",
     "output_type": "stream",
     "text": [
      "INFO:mcmc:Progress @ 2022-11-22 16:30:29 : 15284 steps taken, and 4801 accepted.\n"
     ]
    },
    {
     "name": "stdout",
     "output_type": "stream",
     "text": [
      "[mcmc] Progress @ 2022-11-22 16:30:29 : 15284 steps taken, and 4801 accepted.\n"
     ]
    },
    {
     "name": "stderr",
     "output_type": "stream",
     "text": [
      "INFO:mcmc:Progress @ 2022-11-22 16:31:29 : 15645 steps taken, and 4901 accepted.\n"
     ]
    },
    {
     "name": "stdout",
     "output_type": "stream",
     "text": [
      "[mcmc] Progress @ 2022-11-22 16:31:29 : 15645 steps taken, and 4901 accepted.\n"
     ]
    },
    {
     "name": "stderr",
     "output_type": "stream",
     "text": [
      "INFO:mcmc:Learn + convergence test @ 4960 samples accepted.\n"
     ]
    },
    {
     "name": "stdout",
     "output_type": "stream",
     "text": [
      "[mcmc] Learn + convergence test @ 4960 samples accepted.\n"
     ]
    },
    {
     "name": "stderr",
     "output_type": "stream",
     "text": [
      "INFO:mcmc: - Acceptance rate: 0.299\n"
     ]
    },
    {
     "name": "stdout",
     "output_type": "stream",
     "text": [
      "[mcmc]  - Acceptance rate: 0.299\n"
     ]
    },
    {
     "name": "stderr",
     "output_type": "stream",
     "text": [
      "INFO:mcmc: - Convergence of means: R-1 = 0.015230 after 3968 accepted steps\n"
     ]
    },
    {
     "name": "stdout",
     "output_type": "stream",
     "text": [
      "[mcmc]  - Convergence of means: R-1 = 0.015230 after 3968 accepted steps\n"
     ]
    },
    {
     "name": "stderr",
     "output_type": "stream",
     "text": [
      "INFO:mcmc: - Updated covariance matrix of proposal pdf.\n"
     ]
    },
    {
     "name": "stdout",
     "output_type": "stream",
     "text": [
      "[mcmc]  - Updated covariance matrix of proposal pdf.\n"
     ]
    },
    {
     "name": "stderr",
     "output_type": "stream",
     "text": [
      "INFO:mcmc:Progress @ 2022-11-22 16:32:29 : 16003 steps taken, and 4996 accepted.\n"
     ]
    },
    {
     "name": "stdout",
     "output_type": "stream",
     "text": [
      "[mcmc] Progress @ 2022-11-22 16:32:29 : 16003 steps taken, and 4996 accepted.\n"
     ]
    },
    {
     "name": "stderr",
     "output_type": "stream",
     "text": [
      "INFO:mcmc:Progress @ 2022-11-22 16:33:29 : 16348 steps taken, and 5108 accepted.\n"
     ]
    },
    {
     "name": "stdout",
     "output_type": "stream",
     "text": [
      "[mcmc] Progress @ 2022-11-22 16:33:29 : 16348 steps taken, and 5108 accepted.\n"
     ]
    },
    {
     "name": "stderr",
     "output_type": "stream",
     "text": [
      "INFO:mcmc:Learn + convergence test @ 5120 samples accepted.\n"
     ]
    },
    {
     "name": "stdout",
     "output_type": "stream",
     "text": [
      "[mcmc] Learn + convergence test @ 5120 samples accepted.\n"
     ]
    },
    {
     "name": "stderr",
     "output_type": "stream",
     "text": [
      "INFO:mcmc: - Acceptance rate: 0.300\n"
     ]
    },
    {
     "name": "stdout",
     "output_type": "stream",
     "text": [
      "[mcmc]  - Acceptance rate: 0.300\n"
     ]
    },
    {
     "name": "stderr",
     "output_type": "stream",
     "text": [
      "INFO:mcmc: - Convergence of means: R-1 = 0.014595 after 4096 accepted steps\n"
     ]
    },
    {
     "name": "stdout",
     "output_type": "stream",
     "text": [
      "[mcmc]  - Convergence of means: R-1 = 0.014595 after 4096 accepted steps\n"
     ]
    },
    {
     "name": "stderr",
     "output_type": "stream",
     "text": [
      "INFO:mcmc: - Updated covariance matrix of proposal pdf.\n"
     ]
    },
    {
     "name": "stdout",
     "output_type": "stream",
     "text": [
      "[mcmc]  - Updated covariance matrix of proposal pdf.\n"
     ]
    },
    {
     "name": "stderr",
     "output_type": "stream",
     "text": [
      "INFO:mcmc:Progress @ 2022-11-22 16:34:30 : 16705 steps taken, and 5202 accepted.\n"
     ]
    },
    {
     "name": "stdout",
     "output_type": "stream",
     "text": [
      "[mcmc] Progress @ 2022-11-22 16:34:30 : 16705 steps taken, and 5202 accepted.\n"
     ]
    },
    {
     "name": "stderr",
     "output_type": "stream",
     "text": [
      "INFO:mcmc:Learn + convergence test @ 5280 samples accepted.\n"
     ]
    },
    {
     "name": "stdout",
     "output_type": "stream",
     "text": [
      "[mcmc] Learn + convergence test @ 5280 samples accepted.\n"
     ]
    },
    {
     "name": "stderr",
     "output_type": "stream",
     "text": [
      "INFO:mcmc: - Acceptance rate: 0.298\n"
     ]
    },
    {
     "name": "stdout",
     "output_type": "stream",
     "text": [
      "[mcmc]  - Acceptance rate: 0.298\n"
     ]
    },
    {
     "name": "stderr",
     "output_type": "stream",
     "text": [
      "INFO:mcmc: - Convergence of means: R-1 = 0.014416 after 4224 accepted steps\n"
     ]
    },
    {
     "name": "stdout",
     "output_type": "stream",
     "text": [
      "[mcmc]  - Convergence of means: R-1 = 0.014416 after 4224 accepted steps\n"
     ]
    },
    {
     "name": "stderr",
     "output_type": "stream",
     "text": [
      "INFO:mcmc: - Updated covariance matrix of proposal pdf.\n"
     ]
    },
    {
     "name": "stdout",
     "output_type": "stream",
     "text": [
      "[mcmc]  - Updated covariance matrix of proposal pdf.\n"
     ]
    },
    {
     "name": "stderr",
     "output_type": "stream",
     "text": [
      "INFO:mcmc:Progress @ 2022-11-22 16:35:30 : 17058 steps taken, and 5291 accepted.\n"
     ]
    },
    {
     "name": "stdout",
     "output_type": "stream",
     "text": [
      "[mcmc] Progress @ 2022-11-22 16:35:30 : 17058 steps taken, and 5291 accepted.\n"
     ]
    },
    {
     "name": "stderr",
     "output_type": "stream",
     "text": [
      "INFO:mcmc:Progress @ 2022-11-22 16:36:30 : 17412 steps taken, and 5395 accepted.\n"
     ]
    },
    {
     "name": "stdout",
     "output_type": "stream",
     "text": [
      "[mcmc] Progress @ 2022-11-22 16:36:30 : 17412 steps taken, and 5395 accepted.\n"
     ]
    },
    {
     "name": "stderr",
     "output_type": "stream",
     "text": [
      "INFO:mcmc:Learn + convergence test @ 5440 samples accepted.\n"
     ]
    },
    {
     "name": "stdout",
     "output_type": "stream",
     "text": [
      "[mcmc] Learn + convergence test @ 5440 samples accepted.\n"
     ]
    },
    {
     "name": "stderr",
     "output_type": "stream",
     "text": [
      "INFO:mcmc: - Acceptance rate: 0.296\n"
     ]
    },
    {
     "name": "stdout",
     "output_type": "stream",
     "text": [
      "[mcmc]  - Acceptance rate: 0.296\n"
     ]
    },
    {
     "name": "stderr",
     "output_type": "stream",
     "text": [
      "INFO:mcmc: - Convergence of means: R-1 = 0.016901 after 4352 accepted steps\n"
     ]
    },
    {
     "name": "stdout",
     "output_type": "stream",
     "text": [
      "[mcmc]  - Convergence of means: R-1 = 0.016901 after 4352 accepted steps\n"
     ]
    },
    {
     "name": "stderr",
     "output_type": "stream",
     "text": [
      "INFO:mcmc: - Updated covariance matrix of proposal pdf.\n"
     ]
    },
    {
     "name": "stdout",
     "output_type": "stream",
     "text": [
      "[mcmc]  - Updated covariance matrix of proposal pdf.\n"
     ]
    },
    {
     "name": "stderr",
     "output_type": "stream",
     "text": [
      "INFO:mcmc:Progress @ 2022-11-22 16:37:30 : 17758 steps taken, and 5488 accepted.\n"
     ]
    },
    {
     "name": "stdout",
     "output_type": "stream",
     "text": [
      "[mcmc] Progress @ 2022-11-22 16:37:30 : 17758 steps taken, and 5488 accepted.\n"
     ]
    },
    {
     "name": "stderr",
     "output_type": "stream",
     "text": [
      "INFO:mcmc:Learn + convergence test @ 5600 samples accepted.\n"
     ]
    },
    {
     "name": "stdout",
     "output_type": "stream",
     "text": [
      "[mcmc] Learn + convergence test @ 5600 samples accepted.\n"
     ]
    },
    {
     "name": "stderr",
     "output_type": "stream",
     "text": [
      "INFO:mcmc: - Acceptance rate: 0.298\n"
     ]
    },
    {
     "name": "stdout",
     "output_type": "stream",
     "text": [
      "[mcmc]  - Acceptance rate: 0.298\n"
     ]
    },
    {
     "name": "stderr",
     "output_type": "stream",
     "text": [
      "INFO:mcmc: - Convergence of means: R-1 = 0.014015 after 4480 accepted steps\n"
     ]
    },
    {
     "name": "stdout",
     "output_type": "stream",
     "text": [
      "[mcmc]  - Convergence of means: R-1 = 0.014015 after 4480 accepted steps\n"
     ]
    },
    {
     "name": "stderr",
     "output_type": "stream",
     "text": [
      "INFO:mcmc: - Updated covariance matrix of proposal pdf.\n"
     ]
    },
    {
     "name": "stdout",
     "output_type": "stream",
     "text": [
      "[mcmc]  - Updated covariance matrix of proposal pdf.\n"
     ]
    },
    {
     "name": "stderr",
     "output_type": "stream",
     "text": [
      "INFO:mcmc:Progress @ 2022-11-22 16:38:30 : 18097 steps taken, and 5611 accepted.\n"
     ]
    },
    {
     "name": "stdout",
     "output_type": "stream",
     "text": [
      "[mcmc] Progress @ 2022-11-22 16:38:30 : 18097 steps taken, and 5611 accepted.\n"
     ]
    },
    {
     "name": "stderr",
     "output_type": "stream",
     "text": [
      "INFO:mcmc:Progress @ 2022-11-22 16:39:30 : 18454 steps taken, and 5711 accepted.\n"
     ]
    },
    {
     "name": "stdout",
     "output_type": "stream",
     "text": [
      "[mcmc] Progress @ 2022-11-22 16:39:30 : 18454 steps taken, and 5711 accepted.\n"
     ]
    },
    {
     "name": "stderr",
     "output_type": "stream",
     "text": [
      "INFO:mcmc:Learn + convergence test @ 5760 samples accepted.\n"
     ]
    },
    {
     "name": "stdout",
     "output_type": "stream",
     "text": [
      "[mcmc] Learn + convergence test @ 5760 samples accepted.\n"
     ]
    },
    {
     "name": "stderr",
     "output_type": "stream",
     "text": [
      "INFO:mcmc: - Acceptance rate: 0.298\n"
     ]
    },
    {
     "name": "stdout",
     "output_type": "stream",
     "text": [
      "[mcmc]  - Acceptance rate: 0.298\n"
     ]
    },
    {
     "name": "stderr",
     "output_type": "stream",
     "text": [
      "INFO:mcmc: - Convergence of means: R-1 = 0.010633 after 4608 accepted steps\n"
     ]
    },
    {
     "name": "stdout",
     "output_type": "stream",
     "text": [
      "[mcmc]  - Convergence of means: R-1 = 0.010633 after 4608 accepted steps\n"
     ]
    },
    {
     "name": "stderr",
     "output_type": "stream",
     "text": [
      "INFO:mcmc: - Updated covariance matrix of proposal pdf.\n"
     ]
    },
    {
     "name": "stdout",
     "output_type": "stream",
     "text": [
      "[mcmc]  - Updated covariance matrix of proposal pdf.\n"
     ]
    },
    {
     "name": "stderr",
     "output_type": "stream",
     "text": [
      "INFO:mcmc:Progress @ 2022-11-22 16:40:30 : 18808 steps taken, and 5824 accepted.\n"
     ]
    },
    {
     "name": "stdout",
     "output_type": "stream",
     "text": [
      "[mcmc] Progress @ 2022-11-22 16:40:30 : 18808 steps taken, and 5824 accepted.\n"
     ]
    },
    {
     "name": "stderr",
     "output_type": "stream",
     "text": [
      "INFO:mcmc:Learn + convergence test @ 5920 samples accepted.\n"
     ]
    },
    {
     "name": "stdout",
     "output_type": "stream",
     "text": [
      "[mcmc] Learn + convergence test @ 5920 samples accepted.\n"
     ]
    },
    {
     "name": "stderr",
     "output_type": "stream",
     "text": [
      "INFO:mcmc: - Acceptance rate: 0.297\n"
     ]
    },
    {
     "name": "stdout",
     "output_type": "stream",
     "text": [
      "[mcmc]  - Acceptance rate: 0.297\n"
     ]
    },
    {
     "name": "stderr",
     "output_type": "stream",
     "text": [
      "INFO:mcmc: - Convergence of means: R-1 = 0.010535 after 4736 accepted steps\n"
     ]
    },
    {
     "name": "stdout",
     "output_type": "stream",
     "text": [
      "[mcmc]  - Convergence of means: R-1 = 0.010535 after 4736 accepted steps\n"
     ]
    },
    {
     "name": "stderr",
     "output_type": "stream",
     "text": [
      "INFO:mcmc: - Updated covariance matrix of proposal pdf.\n"
     ]
    },
    {
     "name": "stdout",
     "output_type": "stream",
     "text": [
      "[mcmc]  - Updated covariance matrix of proposal pdf.\n"
     ]
    },
    {
     "name": "stderr",
     "output_type": "stream",
     "text": [
      "INFO:mcmc:Progress @ 2022-11-22 16:41:30 : 19167 steps taken, and 5920 accepted.\n"
     ]
    },
    {
     "name": "stdout",
     "output_type": "stream",
     "text": [
      "[mcmc] Progress @ 2022-11-22 16:41:30 : 19167 steps taken, and 5920 accepted.\n"
     ]
    },
    {
     "name": "stderr",
     "output_type": "stream",
     "text": [
      "INFO:mcmc:Progress @ 2022-11-22 16:42:30 : 19526 steps taken, and 6020 accepted.\n"
     ]
    },
    {
     "name": "stdout",
     "output_type": "stream",
     "text": [
      "[mcmc] Progress @ 2022-11-22 16:42:30 : 19526 steps taken, and 6020 accepted.\n"
     ]
    },
    {
     "name": "stderr",
     "output_type": "stream",
     "text": [
      "INFO:mcmc:Learn + convergence test @ 6080 samples accepted.\n"
     ]
    },
    {
     "name": "stdout",
     "output_type": "stream",
     "text": [
      "[mcmc] Learn + convergence test @ 6080 samples accepted.\n"
     ]
    },
    {
     "name": "stderr",
     "output_type": "stream",
     "text": [
      "INFO:mcmc: - Acceptance rate: 0.296\n"
     ]
    },
    {
     "name": "stdout",
     "output_type": "stream",
     "text": [
      "[mcmc]  - Acceptance rate: 0.296\n"
     ]
    },
    {
     "name": "stderr",
     "output_type": "stream",
     "text": [
      "INFO:mcmc: - Convergence of means: R-1 = 0.012464 after 4864 accepted steps\n"
     ]
    },
    {
     "name": "stdout",
     "output_type": "stream",
     "text": [
      "[mcmc]  - Convergence of means: R-1 = 0.012464 after 4864 accepted steps\n"
     ]
    },
    {
     "name": "stderr",
     "output_type": "stream",
     "text": [
      "INFO:mcmc: - Updated covariance matrix of proposal pdf.\n"
     ]
    },
    {
     "name": "stdout",
     "output_type": "stream",
     "text": [
      "[mcmc]  - Updated covariance matrix of proposal pdf.\n"
     ]
    },
    {
     "name": "stderr",
     "output_type": "stream",
     "text": [
      "INFO:mcmc:Progress @ 2022-11-22 16:43:30 : 19883 steps taken, and 6122 accepted.\n"
     ]
    },
    {
     "name": "stdout",
     "output_type": "stream",
     "text": [
      "[mcmc] Progress @ 2022-11-22 16:43:30 : 19883 steps taken, and 6122 accepted.\n"
     ]
    },
    {
     "name": "stderr",
     "output_type": "stream",
     "text": [
      "INFO:mcmc:Progress @ 2022-11-22 16:44:30 : 20229 steps taken, and 6219 accepted.\n"
     ]
    },
    {
     "name": "stdout",
     "output_type": "stream",
     "text": [
      "[mcmc] Progress @ 2022-11-22 16:44:30 : 20229 steps taken, and 6219 accepted.\n"
     ]
    },
    {
     "name": "stderr",
     "output_type": "stream",
     "text": [
      "INFO:mcmc:Learn + convergence test @ 6240 samples accepted.\n"
     ]
    },
    {
     "name": "stdout",
     "output_type": "stream",
     "text": [
      "[mcmc] Learn + convergence test @ 6240 samples accepted.\n"
     ]
    },
    {
     "name": "stderr",
     "output_type": "stream",
     "text": [
      "INFO:mcmc: - Acceptance rate: 0.296\n"
     ]
    },
    {
     "name": "stdout",
     "output_type": "stream",
     "text": [
      "[mcmc]  - Acceptance rate: 0.296\n"
     ]
    },
    {
     "name": "stderr",
     "output_type": "stream",
     "text": [
      "INFO:mcmc: - Convergence of means: R-1 = 0.014600 after 4992 accepted steps\n"
     ]
    },
    {
     "name": "stdout",
     "output_type": "stream",
     "text": [
      "[mcmc]  - Convergence of means: R-1 = 0.014600 after 4992 accepted steps\n"
     ]
    },
    {
     "name": "stderr",
     "output_type": "stream",
     "text": [
      "INFO:mcmc: - Updated covariance matrix of proposal pdf.\n"
     ]
    },
    {
     "name": "stdout",
     "output_type": "stream",
     "text": [
      "[mcmc]  - Updated covariance matrix of proposal pdf.\n"
     ]
    },
    {
     "name": "stderr",
     "output_type": "stream",
     "text": [
      "INFO:mcmc:Progress @ 2022-11-22 16:45:30 : 20584 steps taken, and 6346 accepted.\n"
     ]
    },
    {
     "name": "stdout",
     "output_type": "stream",
     "text": [
      "[mcmc] Progress @ 2022-11-22 16:45:30 : 20584 steps taken, and 6346 accepted.\n"
     ]
    },
    {
     "name": "stderr",
     "output_type": "stream",
     "text": [
      "INFO:mcmc:Learn + convergence test @ 6400 samples accepted.\n"
     ]
    },
    {
     "name": "stdout",
     "output_type": "stream",
     "text": [
      "[mcmc] Learn + convergence test @ 6400 samples accepted.\n"
     ]
    },
    {
     "name": "stderr",
     "output_type": "stream",
     "text": [
      "INFO:mcmc: - Acceptance rate: 0.297\n"
     ]
    },
    {
     "name": "stdout",
     "output_type": "stream",
     "text": [
      "[mcmc]  - Acceptance rate: 0.297\n"
     ]
    },
    {
     "name": "stderr",
     "output_type": "stream",
     "text": [
      "INFO:mcmc: - Convergence of means: R-1 = 0.017051 after 5120 accepted steps\n"
     ]
    },
    {
     "name": "stdout",
     "output_type": "stream",
     "text": [
      "[mcmc]  - Convergence of means: R-1 = 0.017051 after 5120 accepted steps\n"
     ]
    },
    {
     "name": "stderr",
     "output_type": "stream",
     "text": [
      "INFO:mcmc: - Updated covariance matrix of proposal pdf.\n"
     ]
    },
    {
     "name": "stdout",
     "output_type": "stream",
     "text": [
      "[mcmc]  - Updated covariance matrix of proposal pdf.\n"
     ]
    },
    {
     "name": "stderr",
     "output_type": "stream",
     "text": [
      "INFO:mcmc:Progress @ 2022-11-22 16:46:30 : 20939 steps taken, and 6445 accepted.\n"
     ]
    },
    {
     "name": "stdout",
     "output_type": "stream",
     "text": [
      "[mcmc] Progress @ 2022-11-22 16:46:30 : 20939 steps taken, and 6445 accepted.\n"
     ]
    },
    {
     "name": "stderr",
     "output_type": "stream",
     "text": [
      "INFO:mcmc:Progress @ 2022-11-22 16:47:30 : 21295 steps taken, and 6558 accepted.\n"
     ]
    },
    {
     "name": "stdout",
     "output_type": "stream",
     "text": [
      "[mcmc] Progress @ 2022-11-22 16:47:30 : 21295 steps taken, and 6558 accepted.\n"
     ]
    },
    {
     "name": "stderr",
     "output_type": "stream",
     "text": [
      "INFO:mcmc:Learn + convergence test @ 6560 samples accepted.\n"
     ]
    },
    {
     "name": "stdout",
     "output_type": "stream",
     "text": [
      "[mcmc] Learn + convergence test @ 6560 samples accepted.\n"
     ]
    },
    {
     "name": "stderr",
     "output_type": "stream",
     "text": [
      "INFO:mcmc: - Acceptance rate: 0.297\n"
     ]
    },
    {
     "name": "stdout",
     "output_type": "stream",
     "text": [
      "[mcmc]  - Acceptance rate: 0.297\n"
     ]
    },
    {
     "name": "stderr",
     "output_type": "stream",
     "text": [
      "INFO:mcmc: - Convergence of means: R-1 = 0.014288 after 5248 accepted steps\n"
     ]
    },
    {
     "name": "stdout",
     "output_type": "stream",
     "text": [
      "[mcmc]  - Convergence of means: R-1 = 0.014288 after 5248 accepted steps\n"
     ]
    },
    {
     "name": "stderr",
     "output_type": "stream",
     "text": [
      "INFO:mcmc: - Updated covariance matrix of proposal pdf.\n"
     ]
    },
    {
     "name": "stdout",
     "output_type": "stream",
     "text": [
      "[mcmc]  - Updated covariance matrix of proposal pdf.\n"
     ]
    },
    {
     "name": "stderr",
     "output_type": "stream",
     "text": [
      "INFO:mcmc:Progress @ 2022-11-22 16:48:30 : 21648 steps taken, and 6668 accepted.\n"
     ]
    },
    {
     "name": "stdout",
     "output_type": "stream",
     "text": [
      "[mcmc] Progress @ 2022-11-22 16:48:30 : 21648 steps taken, and 6668 accepted.\n"
     ]
    },
    {
     "name": "stderr",
     "output_type": "stream",
     "text": [
      "INFO:mcmc:Learn + convergence test @ 6720 samples accepted.\n"
     ]
    },
    {
     "name": "stdout",
     "output_type": "stream",
     "text": [
      "[mcmc] Learn + convergence test @ 6720 samples accepted.\n"
     ]
    },
    {
     "name": "stderr",
     "output_type": "stream",
     "text": [
      "INFO:mcmc: - Acceptance rate: 0.297\n"
     ]
    },
    {
     "name": "stdout",
     "output_type": "stream",
     "text": [
      "[mcmc]  - Acceptance rate: 0.297\n"
     ]
    },
    {
     "name": "stderr",
     "output_type": "stream",
     "text": [
      "INFO:mcmc: - Convergence of means: R-1 = 0.009166 after 5376 accepted steps\n"
     ]
    },
    {
     "name": "stdout",
     "output_type": "stream",
     "text": [
      "[mcmc]  - Convergence of means: R-1 = 0.009166 after 5376 accepted steps\n"
     ]
    },
    {
     "name": "stderr",
     "output_type": "stream",
     "text": [
      "INFO:mcmc: - Updated covariance matrix of proposal pdf.\n"
     ]
    },
    {
     "name": "stdout",
     "output_type": "stream",
     "text": [
      "[mcmc]  - Updated covariance matrix of proposal pdf.\n"
     ]
    },
    {
     "name": "stderr",
     "output_type": "stream",
     "text": [
      "INFO:mcmc:Progress @ 2022-11-22 16:49:30 : 21993 steps taken, and 6771 accepted.\n"
     ]
    },
    {
     "name": "stdout",
     "output_type": "stream",
     "text": [
      "[mcmc] Progress @ 2022-11-22 16:49:30 : 21993 steps taken, and 6771 accepted.\n"
     ]
    },
    {
     "name": "stderr",
     "output_type": "stream",
     "text": [
      "INFO:mcmc:Progress @ 2022-11-22 16:50:31 : 22351 steps taken, and 6872 accepted.\n"
     ]
    },
    {
     "name": "stdout",
     "output_type": "stream",
     "text": [
      "[mcmc] Progress @ 2022-11-22 16:50:31 : 22351 steps taken, and 6872 accepted.\n"
     ]
    },
    {
     "name": "stderr",
     "output_type": "stream",
     "text": [
      "INFO:mcmc:Learn + convergence test @ 6880 samples accepted.\n"
     ]
    },
    {
     "name": "stdout",
     "output_type": "stream",
     "text": [
      "[mcmc] Learn + convergence test @ 6880 samples accepted.\n"
     ]
    },
    {
     "name": "stderr",
     "output_type": "stream",
     "text": [
      "INFO:mcmc: - Acceptance rate: 0.297\n"
     ]
    },
    {
     "name": "stdout",
     "output_type": "stream",
     "text": [
      "[mcmc]  - Acceptance rate: 0.297\n"
     ]
    },
    {
     "name": "stderr",
     "output_type": "stream",
     "text": [
      "INFO:mcmc: - Convergence of means: R-1 = 0.011120 after 5504 accepted steps\n"
     ]
    },
    {
     "name": "stdout",
     "output_type": "stream",
     "text": [
      "[mcmc]  - Convergence of means: R-1 = 0.011120 after 5504 accepted steps\n"
     ]
    },
    {
     "name": "stderr",
     "output_type": "stream",
     "text": [
      "INFO:mcmc: - Updated covariance matrix of proposal pdf.\n"
     ]
    },
    {
     "name": "stdout",
     "output_type": "stream",
     "text": [
      "[mcmc]  - Updated covariance matrix of proposal pdf.\n"
     ]
    },
    {
     "name": "stderr",
     "output_type": "stream",
     "text": [
      "INFO:mcmc:Progress @ 2022-11-22 16:51:31 : 22703 steps taken, and 6981 accepted.\n"
     ]
    },
    {
     "name": "stdout",
     "output_type": "stream",
     "text": [
      "[mcmc] Progress @ 2022-11-22 16:51:31 : 22703 steps taken, and 6981 accepted.\n"
     ]
    },
    {
     "name": "stderr",
     "output_type": "stream",
     "text": [
      "INFO:mcmc:Learn + convergence test @ 7040 samples accepted.\n"
     ]
    },
    {
     "name": "stdout",
     "output_type": "stream",
     "text": [
      "[mcmc] Learn + convergence test @ 7040 samples accepted.\n"
     ]
    },
    {
     "name": "stderr",
     "output_type": "stream",
     "text": [
      "INFO:mcmc: - Acceptance rate: 0.297\n"
     ]
    },
    {
     "name": "stdout",
     "output_type": "stream",
     "text": [
      "[mcmc]  - Acceptance rate: 0.297\n"
     ]
    },
    {
     "name": "stderr",
     "output_type": "stream",
     "text": [
      "INFO:mcmc: - Convergence of means: R-1 = 0.013307 after 5632 accepted steps\n"
     ]
    },
    {
     "name": "stdout",
     "output_type": "stream",
     "text": [
      "[mcmc]  - Convergence of means: R-1 = 0.013307 after 5632 accepted steps\n"
     ]
    },
    {
     "name": "stderr",
     "output_type": "stream",
     "text": [
      "INFO:mcmc: - Updated covariance matrix of proposal pdf.\n"
     ]
    },
    {
     "name": "stdout",
     "output_type": "stream",
     "text": [
      "[mcmc]  - Updated covariance matrix of proposal pdf.\n"
     ]
    },
    {
     "name": "stderr",
     "output_type": "stream",
     "text": [
      "INFO:mcmc:Progress @ 2022-11-22 16:52:31 : 23052 steps taken, and 7083 accepted.\n"
     ]
    },
    {
     "name": "stdout",
     "output_type": "stream",
     "text": [
      "[mcmc] Progress @ 2022-11-22 16:52:31 : 23052 steps taken, and 7083 accepted.\n"
     ]
    },
    {
     "name": "stderr",
     "output_type": "stream",
     "text": [
      "INFO:mcmc:Learn + convergence test @ 7200 samples accepted.\n"
     ]
    },
    {
     "name": "stdout",
     "output_type": "stream",
     "text": [
      "[mcmc] Learn + convergence test @ 7200 samples accepted.\n"
     ]
    },
    {
     "name": "stderr",
     "output_type": "stream",
     "text": [
      "INFO:mcmc: - Acceptance rate: 0.297\n"
     ]
    },
    {
     "name": "stdout",
     "output_type": "stream",
     "text": [
      "[mcmc]  - Acceptance rate: 0.297\n"
     ]
    },
    {
     "name": "stderr",
     "output_type": "stream",
     "text": [
      "INFO:mcmc: - Convergence of means: R-1 = 0.013204 after 5760 accepted steps\n"
     ]
    },
    {
     "name": "stdout",
     "output_type": "stream",
     "text": [
      "[mcmc]  - Convergence of means: R-1 = 0.013204 after 5760 accepted steps\n"
     ]
    },
    {
     "name": "stderr",
     "output_type": "stream",
     "text": [
      "INFO:mcmc: - Updated covariance matrix of proposal pdf.\n"
     ]
    },
    {
     "name": "stdout",
     "output_type": "stream",
     "text": [
      "[mcmc]  - Updated covariance matrix of proposal pdf.\n"
     ]
    },
    {
     "name": "stderr",
     "output_type": "stream",
     "text": [
      "INFO:mcmc:Progress @ 2022-11-22 16:53:31 : 23409 steps taken, and 7202 accepted.\n"
     ]
    },
    {
     "name": "stdout",
     "output_type": "stream",
     "text": [
      "[mcmc] Progress @ 2022-11-22 16:53:31 : 23409 steps taken, and 7202 accepted.\n"
     ]
    },
    {
     "name": "stderr",
     "output_type": "stream",
     "text": [
      "INFO:mcmc:Progress @ 2022-11-22 16:54:31 : 23755 steps taken, and 7296 accepted.\n"
     ]
    },
    {
     "name": "stdout",
     "output_type": "stream",
     "text": [
      "[mcmc] Progress @ 2022-11-22 16:54:31 : 23755 steps taken, and 7296 accepted.\n"
     ]
    },
    {
     "name": "stderr",
     "output_type": "stream",
     "text": [
      "INFO:mcmc:Learn + convergence test @ 7360 samples accepted.\n"
     ]
    },
    {
     "name": "stdout",
     "output_type": "stream",
     "text": [
      "[mcmc] Learn + convergence test @ 7360 samples accepted.\n"
     ]
    },
    {
     "name": "stderr",
     "output_type": "stream",
     "text": [
      "INFO:mcmc: - Acceptance rate: 0.297\n"
     ]
    },
    {
     "name": "stdout",
     "output_type": "stream",
     "text": [
      "[mcmc]  - Acceptance rate: 0.297\n"
     ]
    },
    {
     "name": "stderr",
     "output_type": "stream",
     "text": [
      "INFO:mcmc: - Convergence of means: R-1 = 0.010263 after 5888 accepted steps\n"
     ]
    },
    {
     "name": "stdout",
     "output_type": "stream",
     "text": [
      "[mcmc]  - Convergence of means: R-1 = 0.010263 after 5888 accepted steps\n"
     ]
    },
    {
     "name": "stderr",
     "output_type": "stream",
     "text": [
      "INFO:mcmc: - Updated covariance matrix of proposal pdf.\n"
     ]
    },
    {
     "name": "stdout",
     "output_type": "stream",
     "text": [
      "[mcmc]  - Updated covariance matrix of proposal pdf.\n"
     ]
    },
    {
     "name": "stderr",
     "output_type": "stream",
     "text": [
      "INFO:mcmc:Progress @ 2022-11-22 16:55:31 : 24112 steps taken, and 7406 accepted.\n"
     ]
    },
    {
     "name": "stdout",
     "output_type": "stream",
     "text": [
      "[mcmc] Progress @ 2022-11-22 16:55:31 : 24112 steps taken, and 7406 accepted.\n"
     ]
    },
    {
     "name": "stderr",
     "output_type": "stream",
     "text": [
      "INFO:mcmc:Learn + convergence test @ 7520 samples accepted.\n"
     ]
    },
    {
     "name": "stdout",
     "output_type": "stream",
     "text": [
      "[mcmc] Learn + convergence test @ 7520 samples accepted.\n"
     ]
    },
    {
     "name": "stderr",
     "output_type": "stream",
     "text": [
      "INFO:mcmc: - Acceptance rate: 0.298\n"
     ]
    },
    {
     "name": "stdout",
     "output_type": "stream",
     "text": [
      "[mcmc]  - Acceptance rate: 0.298\n"
     ]
    },
    {
     "name": "stderr",
     "output_type": "stream",
     "text": [
      "INFO:mcmc: - Convergence of means: R-1 = 0.013145 after 6016 accepted steps\n"
     ]
    },
    {
     "name": "stdout",
     "output_type": "stream",
     "text": [
      "[mcmc]  - Convergence of means: R-1 = 0.013145 after 6016 accepted steps\n"
     ]
    },
    {
     "name": "stderr",
     "output_type": "stream",
     "text": [
      "INFO:mcmc: - Updated covariance matrix of proposal pdf.\n"
     ]
    },
    {
     "name": "stdout",
     "output_type": "stream",
     "text": [
      "[mcmc]  - Updated covariance matrix of proposal pdf.\n"
     ]
    },
    {
     "name": "stderr",
     "output_type": "stream",
     "text": [
      "INFO:mcmc:Progress @ 2022-11-22 16:56:31 : 24467 steps taken, and 7521 accepted.\n"
     ]
    },
    {
     "name": "stdout",
     "output_type": "stream",
     "text": [
      "[mcmc] Progress @ 2022-11-22 16:56:31 : 24467 steps taken, and 7521 accepted.\n"
     ]
    },
    {
     "name": "stderr",
     "output_type": "stream",
     "text": [
      "INFO:mcmc:Progress @ 2022-11-22 16:57:31 : 24822 steps taken, and 7611 accepted.\n"
     ]
    },
    {
     "name": "stdout",
     "output_type": "stream",
     "text": [
      "[mcmc] Progress @ 2022-11-22 16:57:31 : 24822 steps taken, and 7611 accepted.\n"
     ]
    },
    {
     "name": "stderr",
     "output_type": "stream",
     "text": [
      "INFO:mcmc:Learn + convergence test @ 7680 samples accepted.\n"
     ]
    },
    {
     "name": "stdout",
     "output_type": "stream",
     "text": [
      "[mcmc] Learn + convergence test @ 7680 samples accepted.\n"
     ]
    },
    {
     "name": "stderr",
     "output_type": "stream",
     "text": [
      "INFO:mcmc: - Acceptance rate: 0.297\n"
     ]
    },
    {
     "name": "stdout",
     "output_type": "stream",
     "text": [
      "[mcmc]  - Acceptance rate: 0.297\n"
     ]
    },
    {
     "name": "stderr",
     "output_type": "stream",
     "text": [
      "INFO:mcmc: - Convergence of means: R-1 = 0.011604 after 6144 accepted steps\n"
     ]
    },
    {
     "name": "stdout",
     "output_type": "stream",
     "text": [
      "[mcmc]  - Convergence of means: R-1 = 0.011604 after 6144 accepted steps\n"
     ]
    },
    {
     "name": "stderr",
     "output_type": "stream",
     "text": [
      "INFO:mcmc: - Updated covariance matrix of proposal pdf.\n"
     ]
    },
    {
     "name": "stdout",
     "output_type": "stream",
     "text": [
      "[mcmc]  - Updated covariance matrix of proposal pdf.\n"
     ]
    },
    {
     "name": "stderr",
     "output_type": "stream",
     "text": [
      "INFO:mcmc:Progress @ 2022-11-22 16:58:31 : 25180 steps taken, and 7701 accepted.\n"
     ]
    },
    {
     "name": "stdout",
     "output_type": "stream",
     "text": [
      "[mcmc] Progress @ 2022-11-22 16:58:31 : 25180 steps taken, and 7701 accepted.\n"
     ]
    },
    {
     "name": "stderr",
     "output_type": "stream",
     "text": [
      "INFO:mcmc:Progress @ 2022-11-22 16:59:31 : 25530 steps taken, and 7813 accepted.\n"
     ]
    },
    {
     "name": "stdout",
     "output_type": "stream",
     "text": [
      "[mcmc] Progress @ 2022-11-22 16:59:31 : 25530 steps taken, and 7813 accepted.\n"
     ]
    },
    {
     "name": "stderr",
     "output_type": "stream",
     "text": [
      "INFO:mcmc:Learn + convergence test @ 7840 samples accepted.\n"
     ]
    },
    {
     "name": "stdout",
     "output_type": "stream",
     "text": [
      "[mcmc] Learn + convergence test @ 7840 samples accepted.\n"
     ]
    },
    {
     "name": "stderr",
     "output_type": "stream",
     "text": [
      "INFO:mcmc: - Acceptance rate: 0.296\n"
     ]
    },
    {
     "name": "stdout",
     "output_type": "stream",
     "text": [
      "[mcmc]  - Acceptance rate: 0.296\n"
     ]
    },
    {
     "name": "stderr",
     "output_type": "stream",
     "text": [
      "INFO:mcmc: - Convergence of means: R-1 = 0.010489 after 6272 accepted steps\n"
     ]
    },
    {
     "name": "stdout",
     "output_type": "stream",
     "text": [
      "[mcmc]  - Convergence of means: R-1 = 0.010489 after 6272 accepted steps\n"
     ]
    },
    {
     "name": "stderr",
     "output_type": "stream",
     "text": [
      "INFO:mcmc: - Updated covariance matrix of proposal pdf.\n"
     ]
    },
    {
     "name": "stdout",
     "output_type": "stream",
     "text": [
      "[mcmc]  - Updated covariance matrix of proposal pdf.\n"
     ]
    },
    {
     "name": "stderr",
     "output_type": "stream",
     "text": [
      "INFO:mcmc:Progress @ 2022-11-22 17:00:31 : 25880 steps taken, and 7899 accepted.\n"
     ]
    },
    {
     "name": "stdout",
     "output_type": "stream",
     "text": [
      "[mcmc] Progress @ 2022-11-22 17:00:31 : 25880 steps taken, and 7899 accepted.\n"
     ]
    },
    {
     "name": "stderr",
     "output_type": "stream",
     "text": [
      "INFO:mcmc:Progress @ 2022-11-22 17:01:31 : 26231 steps taken, and 7998 accepted.\n"
     ]
    },
    {
     "name": "stdout",
     "output_type": "stream",
     "text": [
      "[mcmc] Progress @ 2022-11-22 17:01:31 : 26231 steps taken, and 7998 accepted.\n"
     ]
    },
    {
     "name": "stderr",
     "output_type": "stream",
     "text": [
      "INFO:mcmc:Learn + convergence test @ 8000 samples accepted.\n"
     ]
    },
    {
     "name": "stdout",
     "output_type": "stream",
     "text": [
      "[mcmc] Learn + convergence test @ 8000 samples accepted.\n"
     ]
    },
    {
     "name": "stderr",
     "output_type": "stream",
     "text": [
      "INFO:mcmc: - Acceptance rate: 0.295\n"
     ]
    },
    {
     "name": "stdout",
     "output_type": "stream",
     "text": [
      "[mcmc]  - Acceptance rate: 0.295\n"
     ]
    },
    {
     "name": "stderr",
     "output_type": "stream",
     "text": [
      "INFO:mcmc: - Convergence of means: R-1 = 0.012551 after 6400 accepted steps\n"
     ]
    },
    {
     "name": "stdout",
     "output_type": "stream",
     "text": [
      "[mcmc]  - Convergence of means: R-1 = 0.012551 after 6400 accepted steps\n"
     ]
    },
    {
     "name": "stderr",
     "output_type": "stream",
     "text": [
      "INFO:mcmc: - Updated covariance matrix of proposal pdf.\n"
     ]
    },
    {
     "name": "stdout",
     "output_type": "stream",
     "text": [
      "[mcmc]  - Updated covariance matrix of proposal pdf.\n"
     ]
    },
    {
     "name": "stderr",
     "output_type": "stream",
     "text": [
      "INFO:mcmc:Progress @ 2022-11-22 17:02:32 : 26595 steps taken, and 8092 accepted.\n"
     ]
    },
    {
     "name": "stdout",
     "output_type": "stream",
     "text": [
      "[mcmc] Progress @ 2022-11-22 17:02:32 : 26595 steps taken, and 8092 accepted.\n"
     ]
    },
    {
     "name": "stderr",
     "output_type": "stream",
     "text": [
      "INFO:mcmc:Learn + convergence test @ 8160 samples accepted.\n"
     ]
    },
    {
     "name": "stdout",
     "output_type": "stream",
     "text": [
      "[mcmc] Learn + convergence test @ 8160 samples accepted.\n"
     ]
    },
    {
     "name": "stderr",
     "output_type": "stream",
     "text": [
      "INFO:mcmc: - Acceptance rate: 0.294\n"
     ]
    },
    {
     "name": "stdout",
     "output_type": "stream",
     "text": [
      "[mcmc]  - Acceptance rate: 0.294\n"
     ]
    },
    {
     "name": "stderr",
     "output_type": "stream",
     "text": [
      "INFO:mcmc: - Convergence of means: R-1 = 0.010360 after 6528 accepted steps\n"
     ]
    },
    {
     "name": "stdout",
     "output_type": "stream",
     "text": [
      "[mcmc]  - Convergence of means: R-1 = 0.010360 after 6528 accepted steps\n"
     ]
    },
    {
     "name": "stderr",
     "output_type": "stream",
     "text": [
      "INFO:mcmc: - Updated covariance matrix of proposal pdf.\n"
     ]
    },
    {
     "name": "stdout",
     "output_type": "stream",
     "text": [
      "[mcmc]  - Updated covariance matrix of proposal pdf.\n"
     ]
    },
    {
     "name": "stderr",
     "output_type": "stream",
     "text": [
      "INFO:mcmc:Progress @ 2022-11-22 17:03:32 : 26960 steps taken, and 8193 accepted.\n"
     ]
    },
    {
     "name": "stdout",
     "output_type": "stream",
     "text": [
      "[mcmc] Progress @ 2022-11-22 17:03:32 : 26960 steps taken, and 8193 accepted.\n"
     ]
    },
    {
     "name": "stderr",
     "output_type": "stream",
     "text": [
      "INFO:mcmc:Progress @ 2022-11-22 17:04:32 : 27315 steps taken, and 8298 accepted.\n"
     ]
    },
    {
     "name": "stdout",
     "output_type": "stream",
     "text": [
      "[mcmc] Progress @ 2022-11-22 17:04:32 : 27315 steps taken, and 8298 accepted.\n"
     ]
    },
    {
     "name": "stderr",
     "output_type": "stream",
     "text": [
      "INFO:mcmc:Learn + convergence test @ 8320 samples accepted.\n"
     ]
    },
    {
     "name": "stdout",
     "output_type": "stream",
     "text": [
      "[mcmc] Learn + convergence test @ 8320 samples accepted.\n"
     ]
    },
    {
     "name": "stderr",
     "output_type": "stream",
     "text": [
      "INFO:mcmc: - Acceptance rate: 0.295\n"
     ]
    },
    {
     "name": "stdout",
     "output_type": "stream",
     "text": [
      "[mcmc]  - Acceptance rate: 0.295\n"
     ]
    },
    {
     "name": "stderr",
     "output_type": "stream",
     "text": [
      "INFO:mcmc: - Convergence of means: R-1 = 0.006372 after 6656 accepted steps\n"
     ]
    },
    {
     "name": "stdout",
     "output_type": "stream",
     "text": [
      "[mcmc]  - Convergence of means: R-1 = 0.006372 after 6656 accepted steps\n"
     ]
    },
    {
     "name": "stderr",
     "output_type": "stream",
     "text": [
      "INFO:mcmc: - Updated covariance matrix of proposal pdf.\n"
     ]
    },
    {
     "name": "stdout",
     "output_type": "stream",
     "text": [
      "[mcmc]  - Updated covariance matrix of proposal pdf.\n"
     ]
    },
    {
     "name": "stderr",
     "output_type": "stream",
     "text": [
      "INFO:mcmc:Progress @ 2022-11-22 17:05:32 : 27684 steps taken, and 8399 accepted.\n"
     ]
    },
    {
     "name": "stdout",
     "output_type": "stream",
     "text": [
      "[mcmc] Progress @ 2022-11-22 17:05:32 : 27684 steps taken, and 8399 accepted.\n"
     ]
    },
    {
     "name": "stderr",
     "output_type": "stream",
     "text": [
      "INFO:mcmc:Learn + convergence test @ 8480 samples accepted.\n"
     ]
    },
    {
     "name": "stdout",
     "output_type": "stream",
     "text": [
      "[mcmc] Learn + convergence test @ 8480 samples accepted.\n"
     ]
    },
    {
     "name": "stderr",
     "output_type": "stream",
     "text": [
      "INFO:mcmc: - Acceptance rate: 0.294\n"
     ]
    },
    {
     "name": "stdout",
     "output_type": "stream",
     "text": [
      "[mcmc]  - Acceptance rate: 0.294\n"
     ]
    },
    {
     "name": "stderr",
     "output_type": "stream",
     "text": [
      "INFO:mcmc: - Convergence of means: R-1 = 0.006132 after 6784 accepted steps\n"
     ]
    },
    {
     "name": "stdout",
     "output_type": "stream",
     "text": [
      "[mcmc]  - Convergence of means: R-1 = 0.006132 after 6784 accepted steps\n"
     ]
    },
    {
     "name": "stderr",
     "output_type": "stream",
     "text": [
      "INFO:mcmc: - Convergence of bounds: R-1 = 0.057229 after 8480 accepted steps\n"
     ]
    },
    {
     "name": "stdout",
     "output_type": "stream",
     "text": [
      "[mcmc]  - Convergence of bounds: R-1 = 0.057229 after 8480 accepted steps\n"
     ]
    },
    {
     "name": "stderr",
     "output_type": "stream",
     "text": [
      "INFO:mcmc:The run has converged!\n"
     ]
    },
    {
     "name": "stdout",
     "output_type": "stream",
     "text": [
      "[mcmc] The run has converged!\n"
     ]
    },
    {
     "name": "stderr",
     "output_type": "stream",
     "text": [
      "INFO:mcmc:Sampling complete after 8480 accepted steps.\n"
     ]
    },
    {
     "name": "stdout",
     "output_type": "stream",
     "text": [
      "[mcmc] Sampling complete after 8480 accepted steps.\n"
     ]
    }
   ],
   "source": [
    "info1 = {\"likelihood\": {\"loglikeSNIa\": loglikelihood}, \\\n",
    "         \"params\": {\"Om\": {\"prior\": {\"min\": 0.2, \"max\": 0.4}, \\\n",
    "                           \"ref\": {\"min\": 0.3, \"max\": 0.31}, \\\n",
    "                           \"proposal\": 0.005, \"latex\": r\"\\Omega_{m0}\"}, \\\n",
    "                    \"H0\": {\"prior\": {\"dist\": \"norm\", \"loc\": 67.4, \"scale\": 0.5}, \\\n",
    "                           \"ref\": 67.4, \"proposal\": 0.002, \"latex\": r\"H_0\"}, \\\n",
    "                    \"M\": {\"prior\": {\"min\": -19.5, \"max\": -19.0}, \\\n",
    "                          \"ref\": {\"min\": -19.3, \"max\": -19.2}, \\\n",
    "                          \"proposal\": 0.005, \"latex\": r'M'}, \\\n",
    "                    \"s80\": {\"prior\": {\"dist\": \"norm\", \"loc\": 0.1, \"scale\": 1.2}, \\\n",
    "                            \"ref\": 0.7, \"proposal\": 0.002, \"latex\": r'\\sigma_{8}'}}, \\\n",
    "         \"sampler\": {\"mcmc\": {\"Rminus1_stop\": 0.01, \"max_tries\": 10000}}}\n",
    "        \n",
    "info1[\"ouput\"] = \"chains/LCDMP18\"\n",
    "updated1_info, sampler1 = run(info1, force=True)       "
   ]
  },
  {
   "cell_type": "markdown",
   "metadata": {
    "id": "BuqfS3pUPyAt"
   },
   "source": [
    "After got the posteriors, we should import getdist to load the samples and help plotting the triangle contour plot toward parameters."
   ]
  },
  {
   "cell_type": "code",
   "execution_count": null,
   "metadata": {
    "colab": {
     "base_uri": "https://localhost:8080/"
    },
    "id": "hZRZVE9CM4yR",
    "outputId": "6c12fc88-9537-40f7-a935-c6d2840e89aa"
   },
   "outputs": [
    {
     "name": "stderr",
     "output_type": "stream",
     "text": [
      "WARNING:root:fine_bins not large enough to well sample smoothing scale - chi2\n"
     ]
    },
    {
     "name": "stdout",
     "output_type": "stream",
     "text": [
      "[root] *WARNING* fine_bins not large enough to well sample smoothing scale - chi2\n"
     ]
    },
    {
     "name": "stderr",
     "output_type": "stream",
     "text": [
      "WARNING:root:fine_bins not large enough to well sample smoothing scale - chi2__loglikeSNIa\n"
     ]
    },
    {
     "name": "stdout",
     "output_type": "stream",
     "text": [
      "[root] *WARNING* fine_bins not large enough to well sample smoothing scale - chi2__loglikeSNIa\n"
     ]
    },
    {
     "data": {
      "image/png": "[encoded data removed]",
      "text/plain": [
       "<Figure size 432x432 with 6 Axes>"
      ]
     },
     "metadata": {
      "needs_background": "light"
     },
     "output_type": "display_data"
    }
   ],
   "source": [
    "from getdist.mcsamples import MCSamplesFromCobaya\n",
    "import getdist.plots as gdplt   \n",
    "# import matplotlib.pyplot as plt \n",
    "\n",
    "samples1 = MCSamplesFromCobaya(updated1_info, sampler1.products()[\"sample\"])\n",
    "\n",
    "gdplot = gdplt.get_subplot_plotter()\n",
    "gdplot.triangle_plot([samples1], [\"Om\", \"H0\", \"s80\"], \\\n",
    "                     legend_labels=['Plank'], title_limit=1, filled=True)\n",
    "plt.show()"
   ]
  },
  {
   "cell_type": "markdown",
   "metadata": {
    "id": "RdTgchmko4Sr"
   },
   "source": [
    "Print likelihood-related statistic parameters, such as __mean__ for each parameters, __varians__ and __best-fit sample__..."
   ]
  },
  {
   "cell_type": "code",
   "execution_count": null,
   "metadata": {
    "colab": {
     "base_uri": "https://localhost:8080/"
    },
    "id": "oMpVnlnmOfoR",
    "outputId": "87be80a0-9e0d-4e44-e22b-c8b10c854a8b"
   },
   "outputs": [
    {
     "name": "stdout",
     "output_type": "stream",
     "text": [
      " marge stats \n",
      "Marginalized limits: 0.68; 0.95; 0.99\n",
      "\n",
      "parameter           mean           sddev          lower1         upper1         limit1 lower2         upper2         limit2 lower3         upper3         limit3 \n",
      "Om                  3.0692576E-01  9.2616971E-03  2.9767746E-01  3.1611014E-01  two    2.8939426E-01  3.2501866E-01  two    2.8460233E-01  3.3189096E-01  two     \\Omega_{m0}\n",
      "H0                  6.7615132E+01  4.2290877E-01  6.7184384E+01  6.8020733E+01  two    6.6796189E+01  6.8459267E+01  two    6.6537863E+01  6.8693622E+01  two     H_0\n",
      "M                  -1.9434238E+01  1.3070916E-02 -1.9446427E+01 -1.9421931E+01  two   -1.9458693E+01 -1.9408785E+01  two   -1.9467635E+01 -1.9401548E+01  two     M\n",
      "s80                 7.5986197E-01  1.5148643E-02  7.4510816E-01  7.7520289E-01  two    7.3067697E-01  7.8995610E-01  two    7.2098065E-01  7.9844809E-01  two     \\sigma_{8}\n",
      "minuslogprior*     -3.7399980E-01  6.2743845E-01 -8.8526247E-01 -3.2641416E-01  two   -9.3107978E-01  9.9020230E-01  two   -9.5948887E-01  2.4669828E+00  two     -\\log\\pi\n",
      "minuslogprior__0*  -3.7399980E-01  6.2743845E-01 -8.8526247E-01 -3.2641416E-01  two   -9.3107978E-01  9.9020230E-01  two   -9.5948887E-01  2.4669828E+00  two     -\\log\\pi_\\mathrm{0}\n",
      "chi2*               1.4785502E+03  3.9089836E+01  1.4744466E+03  1.4795706E+03  two    1.4723798E+03  1.4833015E+03  two    1.4712934E+03  1.4870431E+03  two     \\chi^2\n",
      "chi2__loglikeSNIa*  1.4785502E+03  3.9089836E+01  1.4744466E+03  1.4795706E+03  two    1.4723798E+03  1.4833015E+03  two    1.4712934E+03  1.4870431E+03  two     \\chi^2_\\mathrm{loglikeSNIa}\n",
      "\n",
      "\n",
      " like stats \n",
      "Best fit sample -log(Like) = 736.305986\n",
      "mean(-Ln(like)) = 738.901102\n",
      "-Ln(mean like)  = 737.732279\n",
      "\n",
      "parameter           bestfit        lower1         upper1         lower2         upper2\n",
      "Om                  3.0711101E-01  3.2585779E-01 -1.9408060E+01  3.3272479E-01 -1.9401153E+01   \\Omega_{m0}\n",
      "H0                  6.7639311E+01  6.8521160E+01  7.9075464E-01  6.8828899E+01  8.0167986E-01   H_0\n",
      "M                  -1.9433615E+01 -1.9407558E+01 6.9898558E-316 -1.9398949E+01 4.9406565E-324   M\n",
      "s80                 7.5919134E-01  7.9224630E-01 6.9901925E-316  8.0434535E-01  0.0000000E+00   \\sigma_{8}\n",
      "minuslogprior*     -7.1011477E-01  1.6916601E+00 6.9899048E-316  3.2640431E+00  1.9749209E-02   -\\log\\pi\n",
      "minuslogprior__0*  -7.1011477E-01  1.6916601E+00 6.9899854E-316  3.2640431E+00  4.3755290E-01   -\\log\\pi_\\mathrm{0}\n",
      "chi2*               1.4740322E+03  1.4791237E+03 6.9901325E-316  1.4837567E+03  1.6202033E-02   \\chi^2\n",
      "chi2__loglikeSNIa*  1.4740322E+03  1.4791237E+03 6.9898431E-316  1.4837567E+03  0.0000000E+00   \\chi^2_\\mathrm{loglikeSNIa}\n",
      "\n"
     ]
    }
   ],
   "source": [
    "print(' marge stats ')\n",
    "print(samples1.getMargeStats())\n",
    "print()\n",
    "print(' like stats ')\n",
    "print(samples1.getLikeStats())"
   ]
  },
  {
   "cell_type": "markdown",
   "metadata": {
    "id": "6txpfluhsEx1"
   },
   "source": [
    "Then we use AIC and BIC respectively to determine the quality of this model."
   ]
  },
  {
   "cell_type": "code",
   "execution_count": null,
   "metadata": {
    "colab": {
     "base_uri": "https://localhost:8080/"
    },
    "id": "at_wzS8tRiY-",
    "outputId": "d81387e1-c1fa-48ea-9b64-201d4908e374"
   },
   "outputs": [],
   "source": [
    "Llike_bfmodel1 = # input from samples\n",
    "p = 4 # number of sampled parameters\n",
    "n_data = 31 + 26 + 1701 + 63 # size of data\n",
    "\n",
    "chi2_best_model1 = -2*Llike_bfmodel1\n",
    "AIC_best_model1 = 2*p -2*Llike_bfmodel1\n",
    "BIC_best_model1 = p*np.log(n_data) -2*Llike_bfmodel1\n",
    "\n",
    "print('model 1: Planck 18')\n",
    "print('best chi2 = ', chi2_best_model1)\n",
    "print('best AIC = ', AIC_best_model1)\n",
    "print('best BIC = ', BIC_best_model1)"
   ]
  },
  {
   "cell_type": "markdown",
   "metadata": {
    "id": "JnluNHgOe9t5"
   },
   "source": [
    "The second one we use the SH0ES(R22) measurements as the priors.\n",
    "We follow the similar steps to finish this process."
   ]
  },
  {
   "cell_type": "code",
   "execution_count": null,
   "metadata": {
    "colab": {
     "base_uri": "https://localhost:8080/"
    },
    "collapsed": true,
    "id": "thyEyu635hmg",
    "jupyter": {
     "outputs_hidden": true
    },
    "outputId": "d2483446-678a-4347-d029-251d76abd03e",
    "tags": []
   },
   "outputs": [
    {
     "name": "stderr",
     "output_type": "stream",
     "text": [
      "INFO:loglikesnia:Initialized external likelihood.\n"
     ]
    },
    {
     "name": "stdout",
     "output_type": "stream",
     "text": [
      "[loglikesnia] Initialized external likelihood.\n"
     ]
    },
    {
     "name": "stderr",
     "output_type": "stream",
     "text": [
      "INFO:mcmc:Getting initial point... (this may take a few seconds)\n"
     ]
    },
    {
     "name": "stdout",
     "output_type": "stream",
     "text": [
      "[mcmc] Getting initial point... (this may take a few seconds)\n"
     ]
    },
    {
     "name": "stderr",
     "output_type": "stream",
     "text": [
      "INFO:model:Measuring speeds... (this may take a few seconds)\n"
     ]
    },
    {
     "name": "stdout",
     "output_type": "stream",
     "text": [
      "[model] Measuring speeds... (this may take a few seconds)\n"
     ]
    },
    {
     "name": "stderr",
     "output_type": "stream",
     "text": [
      "INFO:model:Setting measured speeds (per sec): {loglikeSNIa: 6.15}\n"
     ]
    },
    {
     "name": "stdout",
     "output_type": "stream",
     "text": [
      "[model] Setting measured speeds (per sec): {loglikeSNIa: 6.15}\n"
     ]
    },
    {
     "name": "stderr",
     "output_type": "stream",
     "text": [
      "INFO:mcmc:Covariance matrix not present. We will start learning the covariance of the proposal earlier: R-1 = 30 (would be 2 if all params loaded).\n"
     ]
    },
    {
     "name": "stdout",
     "output_type": "stream",
     "text": [
      "[mcmc] Covariance matrix not present. We will start learning the covariance of the proposal earlier: R-1 = 30 (would be 2 if all params loaded).\n"
     ]
    },
    {
     "name": "stderr",
     "output_type": "stream",
     "text": [
      "INFO:mcmc:Initial point: Om:0.3098029, H0:73.3, M:-19.27309, s80:0.7\n"
     ]
    },
    {
     "name": "stdout",
     "output_type": "stream",
     "text": [
      "[mcmc] Initial point: Om:0.3098029, H0:73.3, M:-19.27309, s80:0.7\n"
     ]
    },
    {
     "name": "stderr",
     "output_type": "stream",
     "text": [
      "INFO:mcmc:Sampling!\n"
     ]
    },
    {
     "name": "stdout",
     "output_type": "stream",
     "text": [
      "[mcmc] Sampling!\n"
     ]
    },
    {
     "name": "stderr",
     "output_type": "stream",
     "text": [
      "INFO:mcmc:Progress @ 2022-11-22 17:06:30 : 1 steps taken, and 0 accepted.\n"
     ]
    },
    {
     "name": "stdout",
     "output_type": "stream",
     "text": [
      "[mcmc] Progress @ 2022-11-22 17:06:30 : 1 steps taken, and 0 accepted.\n"
     ]
    },
    {
     "name": "stderr",
     "output_type": "stream",
     "text": [
      "INFO:mcmc:Progress @ 2022-11-22 17:07:30 : 355 steps taken, and 134 accepted.\n"
     ]
    },
    {
     "name": "stdout",
     "output_type": "stream",
     "text": [
      "[mcmc] Progress @ 2022-11-22 17:07:30 : 355 steps taken, and 134 accepted.\n"
     ]
    },
    {
     "name": "stderr",
     "output_type": "stream",
     "text": [
      "INFO:mcmc:Learn + convergence test @ 160 samples accepted.\n"
     ]
    },
    {
     "name": "stdout",
     "output_type": "stream",
     "text": [
      "[mcmc] Learn + convergence test @ 160 samples accepted.\n"
     ]
    },
    {
     "name": "stderr",
     "output_type": "stream",
     "text": [
      "INFO:mcmc: - Acceptance rate: 0.359\n"
     ]
    },
    {
     "name": "stdout",
     "output_type": "stream",
     "text": [
      "[mcmc]  - Acceptance rate: 0.359\n"
     ]
    },
    {
     "name": "stderr",
     "output_type": "stream",
     "text": [
      "INFO:mcmc: - Convergence of means: R-1 = 13.528108 after 128 accepted steps\n"
     ]
    },
    {
     "name": "stdout",
     "output_type": "stream",
     "text": [
      "[mcmc]  - Convergence of means: R-1 = 13.528108 after 128 accepted steps\n"
     ]
    },
    {
     "name": "stderr",
     "output_type": "stream",
     "text": [
      "INFO:mcmc: - Updated covariance matrix of proposal pdf.\n"
     ]
    },
    {
     "name": "stdout",
     "output_type": "stream",
     "text": [
      "[mcmc]  - Updated covariance matrix of proposal pdf.\n"
     ]
    },
    {
     "name": "stderr",
     "output_type": "stream",
     "text": [
      "INFO:mcmc:Progress @ 2022-11-22 17:08:31 : 707 steps taken, and 276 accepted.\n"
     ]
    },
    {
     "name": "stdout",
     "output_type": "stream",
     "text": [
      "[mcmc] Progress @ 2022-11-22 17:08:31 : 707 steps taken, and 276 accepted.\n"
     ]
    },
    {
     "name": "stderr",
     "output_type": "stream",
     "text": [
      "INFO:mcmc:Learn + convergence test @ 320 samples accepted.\n"
     ]
    },
    {
     "name": "stdout",
     "output_type": "stream",
     "text": [
      "[mcmc] Learn + convergence test @ 320 samples accepted.\n"
     ]
    },
    {
     "name": "stderr",
     "output_type": "stream",
     "text": [
      "INFO:mcmc: - Acceptance rate: 0.393\n"
     ]
    },
    {
     "name": "stdout",
     "output_type": "stream",
     "text": [
      "[mcmc]  - Acceptance rate: 0.393\n"
     ]
    },
    {
     "name": "stderr",
     "output_type": "stream",
     "text": [
      "INFO:mcmc: - Convergence of means: R-1 = 1.510142 after 256 accepted steps\n"
     ]
    },
    {
     "name": "stdout",
     "output_type": "stream",
     "text": [
      "[mcmc]  - Convergence of means: R-1 = 1.510142 after 256 accepted steps\n"
     ]
    },
    {
     "name": "stderr",
     "output_type": "stream",
     "text": [
      "INFO:mcmc: - Updated covariance matrix of proposal pdf.\n"
     ]
    },
    {
     "name": "stdout",
     "output_type": "stream",
     "text": [
      "[mcmc]  - Updated covariance matrix of proposal pdf.\n"
     ]
    },
    {
     "name": "stderr",
     "output_type": "stream",
     "text": [
      "INFO:mcmc:Progress @ 2022-11-22 17:09:31 : 1050 steps taken, and 412 accepted.\n"
     ]
    },
    {
     "name": "stdout",
     "output_type": "stream",
     "text": [
      "[mcmc] Progress @ 2022-11-22 17:09:31 : 1050 steps taken, and 412 accepted.\n"
     ]
    },
    {
     "name": "stderr",
     "output_type": "stream",
     "text": [
      "INFO:mcmc:Learn + convergence test @ 480 samples accepted.\n"
     ]
    },
    {
     "name": "stdout",
     "output_type": "stream",
     "text": [
      "[mcmc] Learn + convergence test @ 480 samples accepted.\n"
     ]
    },
    {
     "name": "stderr",
     "output_type": "stream",
     "text": [
      "INFO:mcmc: - Acceptance rate: 0.400\n"
     ]
    },
    {
     "name": "stdout",
     "output_type": "stream",
     "text": [
      "[mcmc]  - Acceptance rate: 0.400\n"
     ]
    },
    {
     "name": "stderr",
     "output_type": "stream",
     "text": [
      "INFO:mcmc: - Convergence of means: R-1 = 0.437916 after 384 accepted steps\n"
     ]
    },
    {
     "name": "stdout",
     "output_type": "stream",
     "text": [
      "[mcmc]  - Convergence of means: R-1 = 0.437916 after 384 accepted steps\n"
     ]
    },
    {
     "name": "stderr",
     "output_type": "stream",
     "text": [
      "INFO:mcmc: - Updated covariance matrix of proposal pdf.\n"
     ]
    },
    {
     "name": "stdout",
     "output_type": "stream",
     "text": [
      "[mcmc]  - Updated covariance matrix of proposal pdf.\n"
     ]
    },
    {
     "name": "stderr",
     "output_type": "stream",
     "text": [
      "INFO:mcmc:Progress @ 2022-11-22 17:10:31 : 1402 steps taken, and 557 accepted.\n"
     ]
    },
    {
     "name": "stdout",
     "output_type": "stream",
     "text": [
      "[mcmc] Progress @ 2022-11-22 17:10:31 : 1402 steps taken, and 557 accepted.\n"
     ]
    },
    {
     "name": "stderr",
     "output_type": "stream",
     "text": [
      "INFO:mcmc:Learn + convergence test @ 640 samples accepted.\n"
     ]
    },
    {
     "name": "stdout",
     "output_type": "stream",
     "text": [
      "[mcmc] Learn + convergence test @ 640 samples accepted.\n"
     ]
    },
    {
     "name": "stderr",
     "output_type": "stream",
     "text": [
      "INFO:mcmc: - Acceptance rate: 0.407\n"
     ]
    },
    {
     "name": "stdout",
     "output_type": "stream",
     "text": [
      "[mcmc]  - Acceptance rate: 0.407\n"
     ]
    },
    {
     "name": "stderr",
     "output_type": "stream",
     "text": [
      "INFO:mcmc: - Convergence of means: R-1 = 6.669821 after 512 accepted steps\n"
     ]
    },
    {
     "name": "stdout",
     "output_type": "stream",
     "text": [
      "[mcmc]  - Convergence of means: R-1 = 6.669821 after 512 accepted steps\n"
     ]
    },
    {
     "name": "stderr",
     "output_type": "stream",
     "text": [
      "INFO:mcmc: - Updated covariance matrix of proposal pdf.\n"
     ]
    },
    {
     "name": "stdout",
     "output_type": "stream",
     "text": [
      "[mcmc]  - Updated covariance matrix of proposal pdf.\n"
     ]
    },
    {
     "name": "stderr",
     "output_type": "stream",
     "text": [
      "INFO:mcmc:Progress @ 2022-11-22 17:11:31 : 1751 steps taken, and 703 accepted.\n"
     ]
    },
    {
     "name": "stdout",
     "output_type": "stream",
     "text": [
      "[mcmc] Progress @ 2022-11-22 17:11:31 : 1751 steps taken, and 703 accepted.\n"
     ]
    },
    {
     "name": "stderr",
     "output_type": "stream",
     "text": [
      "INFO:mcmc:Learn + convergence test @ 800 samples accepted.\n"
     ]
    },
    {
     "name": "stdout",
     "output_type": "stream",
     "text": [
      "[mcmc] Learn + convergence test @ 800 samples accepted.\n"
     ]
    },
    {
     "name": "stderr",
     "output_type": "stream",
     "text": [
      "INFO:mcmc: - Acceptance rate: 0.396\n"
     ]
    },
    {
     "name": "stdout",
     "output_type": "stream",
     "text": [
      "[mcmc]  - Acceptance rate: 0.396\n"
     ]
    },
    {
     "name": "stderr",
     "output_type": "stream",
     "text": [
      "INFO:mcmc: - Convergence of means: R-1 = 9.210787 after 640 accepted steps\n"
     ]
    },
    {
     "name": "stdout",
     "output_type": "stream",
     "text": [
      "[mcmc]  - Convergence of means: R-1 = 9.210787 after 640 accepted steps\n"
     ]
    },
    {
     "name": "stderr",
     "output_type": "stream",
     "text": [
      "INFO:mcmc: - Updated covariance matrix of proposal pdf.\n"
     ]
    },
    {
     "name": "stdout",
     "output_type": "stream",
     "text": [
      "[mcmc]  - Updated covariance matrix of proposal pdf.\n"
     ]
    },
    {
     "name": "stderr",
     "output_type": "stream",
     "text": [
      "INFO:mcmc:Progress @ 2022-11-22 17:12:31 : 2103 steps taken, and 820 accepted.\n"
     ]
    },
    {
     "name": "stdout",
     "output_type": "stream",
     "text": [
      "[mcmc] Progress @ 2022-11-22 17:12:31 : 2103 steps taken, and 820 accepted.\n"
     ]
    },
    {
     "name": "stderr",
     "output_type": "stream",
     "text": [
      "INFO:mcmc:Progress @ 2022-11-22 17:13:31 : 2445 steps taken, and 910 accepted.\n"
     ]
    },
    {
     "name": "stdout",
     "output_type": "stream",
     "text": [
      "[mcmc] Progress @ 2022-11-22 17:13:31 : 2445 steps taken, and 910 accepted.\n"
     ]
    },
    {
     "name": "stderr",
     "output_type": "stream",
     "text": [
      "INFO:mcmc:Learn + convergence test @ 960 samples accepted.\n"
     ]
    },
    {
     "name": "stdout",
     "output_type": "stream",
     "text": [
      "[mcmc] Learn + convergence test @ 960 samples accepted.\n"
     ]
    },
    {
     "name": "stderr",
     "output_type": "stream",
     "text": [
      "INFO:mcmc: - Acceptance rate: 0.369\n"
     ]
    },
    {
     "name": "stdout",
     "output_type": "stream",
     "text": [
      "[mcmc]  - Acceptance rate: 0.369\n"
     ]
    },
    {
     "name": "stderr",
     "output_type": "stream",
     "text": [
      "INFO:mcmc: - Convergence of means: R-1 = 9.449878 after 768 accepted steps\n"
     ]
    },
    {
     "name": "stdout",
     "output_type": "stream",
     "text": [
      "[mcmc]  - Convergence of means: R-1 = 9.449878 after 768 accepted steps\n"
     ]
    },
    {
     "name": "stderr",
     "output_type": "stream",
     "text": [
      "INFO:mcmc: - Updated covariance matrix of proposal pdf.\n"
     ]
    },
    {
     "name": "stdout",
     "output_type": "stream",
     "text": [
      "[mcmc]  - Updated covariance matrix of proposal pdf.\n"
     ]
    },
    {
     "name": "stderr",
     "output_type": "stream",
     "text": [
      "INFO:mcmc:Progress @ 2022-11-22 17:14:31 : 2802 steps taken, and 1034 accepted.\n"
     ]
    },
    {
     "name": "stdout",
     "output_type": "stream",
     "text": [
      "[mcmc] Progress @ 2022-11-22 17:14:31 : 2802 steps taken, and 1034 accepted.\n"
     ]
    },
    {
     "name": "stderr",
     "output_type": "stream",
     "text": [
      "INFO:mcmc:Learn + convergence test @ 1120 samples accepted.\n"
     ]
    },
    {
     "name": "stdout",
     "output_type": "stream",
     "text": [
      "[mcmc] Learn + convergence test @ 1120 samples accepted.\n"
     ]
    },
    {
     "name": "stderr",
     "output_type": "stream",
     "text": [
      "INFO:mcmc: - Acceptance rate: 0.358\n"
     ]
    },
    {
     "name": "stdout",
     "output_type": "stream",
     "text": [
      "[mcmc]  - Acceptance rate: 0.358\n"
     ]
    },
    {
     "name": "stderr",
     "output_type": "stream",
     "text": [
      "INFO:mcmc: - Convergence of means: R-1 = 5.952304 after 896 accepted steps\n"
     ]
    },
    {
     "name": "stdout",
     "output_type": "stream",
     "text": [
      "[mcmc]  - Convergence of means: R-1 = 5.952304 after 896 accepted steps\n"
     ]
    },
    {
     "name": "stderr",
     "output_type": "stream",
     "text": [
      "INFO:mcmc: - Updated covariance matrix of proposal pdf.\n"
     ]
    },
    {
     "name": "stdout",
     "output_type": "stream",
     "text": [
      "[mcmc]  - Updated covariance matrix of proposal pdf.\n"
     ]
    },
    {
     "name": "stderr",
     "output_type": "stream",
     "text": [
      "INFO:mcmc:Progress @ 2022-11-22 17:15:31 : 3158 steps taken, and 1143 accepted.\n"
     ]
    },
    {
     "name": "stdout",
     "output_type": "stream",
     "text": [
      "[mcmc] Progress @ 2022-11-22 17:15:31 : 3158 steps taken, and 1143 accepted.\n"
     ]
    },
    {
     "name": "stderr",
     "output_type": "stream",
     "text": [
      "INFO:mcmc:Progress @ 2022-11-22 17:16:31 : 3509 steps taken, and 1250 accepted.\n"
     ]
    },
    {
     "name": "stdout",
     "output_type": "stream",
     "text": [
      "[mcmc] Progress @ 2022-11-22 17:16:31 : 3509 steps taken, and 1250 accepted.\n"
     ]
    },
    {
     "name": "stderr",
     "output_type": "stream",
     "text": [
      "INFO:mcmc:Learn + convergence test @ 1280 samples accepted.\n"
     ]
    },
    {
     "name": "stdout",
     "output_type": "stream",
     "text": [
      "[mcmc] Learn + convergence test @ 1280 samples accepted.\n"
     ]
    },
    {
     "name": "stderr",
     "output_type": "stream",
     "text": [
      "INFO:mcmc: - Acceptance rate: 0.347\n"
     ]
    },
    {
     "name": "stdout",
     "output_type": "stream",
     "text": [
      "[mcmc]  - Acceptance rate: 0.347\n"
     ]
    },
    {
     "name": "stderr",
     "output_type": "stream",
     "text": [
      "INFO:mcmc: - Convergence of means: R-1 = 5.739488 after 1024 accepted steps\n"
     ]
    },
    {
     "name": "stdout",
     "output_type": "stream",
     "text": [
      "[mcmc]  - Convergence of means: R-1 = 5.739488 after 1024 accepted steps\n"
     ]
    },
    {
     "name": "stderr",
     "output_type": "stream",
     "text": [
      "INFO:mcmc: - Updated covariance matrix of proposal pdf.\n"
     ]
    },
    {
     "name": "stdout",
     "output_type": "stream",
     "text": [
      "[mcmc]  - Updated covariance matrix of proposal pdf.\n"
     ]
    },
    {
     "name": "stderr",
     "output_type": "stream",
     "text": [
      "INFO:mcmc:Progress @ 2022-11-22 17:17:32 : 3865 steps taken, and 1355 accepted.\n"
     ]
    },
    {
     "name": "stdout",
     "output_type": "stream",
     "text": [
      "[mcmc] Progress @ 2022-11-22 17:17:32 : 3865 steps taken, and 1355 accepted.\n"
     ]
    },
    {
     "name": "stderr",
     "output_type": "stream",
     "text": [
      "INFO:mcmc:Learn + convergence test @ 1440 samples accepted.\n"
     ]
    },
    {
     "name": "stdout",
     "output_type": "stream",
     "text": [
      "[mcmc] Learn + convergence test @ 1440 samples accepted.\n"
     ]
    },
    {
     "name": "stderr",
     "output_type": "stream",
     "text": [
      "INFO:mcmc: - Acceptance rate: 0.340\n"
     ]
    },
    {
     "name": "stdout",
     "output_type": "stream",
     "text": [
      "[mcmc]  - Acceptance rate: 0.340\n"
     ]
    },
    {
     "name": "stderr",
     "output_type": "stream",
     "text": [
      "INFO:mcmc: - Convergence of means: R-1 = 5.721788 after 1152 accepted steps\n"
     ]
    },
    {
     "name": "stdout",
     "output_type": "stream",
     "text": [
      "[mcmc]  - Convergence of means: R-1 = 5.721788 after 1152 accepted steps\n"
     ]
    },
    {
     "name": "stderr",
     "output_type": "stream",
     "text": [
      "INFO:mcmc: - Updated covariance matrix of proposal pdf.\n"
     ]
    },
    {
     "name": "stdout",
     "output_type": "stream",
     "text": [
      "[mcmc]  - Updated covariance matrix of proposal pdf.\n"
     ]
    },
    {
     "name": "stderr",
     "output_type": "stream",
     "text": [
      "INFO:mcmc:Progress @ 2022-11-22 17:18:32 : 4207 steps taken, and 1471 accepted.\n"
     ]
    },
    {
     "name": "stdout",
     "output_type": "stream",
     "text": [
      "[mcmc] Progress @ 2022-11-22 17:18:32 : 4207 steps taken, and 1471 accepted.\n"
     ]
    },
    {
     "name": "stderr",
     "output_type": "stream",
     "text": [
      "INFO:mcmc:Progress @ 2022-11-22 17:19:32 : 4560 steps taken, and 1573 accepted.\n"
     ]
    },
    {
     "name": "stdout",
     "output_type": "stream",
     "text": [
      "[mcmc] Progress @ 2022-11-22 17:19:32 : 4560 steps taken, and 1573 accepted.\n"
     ]
    },
    {
     "name": "stderr",
     "output_type": "stream",
     "text": [
      "INFO:mcmc:Learn + convergence test @ 1600 samples accepted.\n"
     ]
    },
    {
     "name": "stdout",
     "output_type": "stream",
     "text": [
      "[mcmc] Learn + convergence test @ 1600 samples accepted.\n"
     ]
    },
    {
     "name": "stderr",
     "output_type": "stream",
     "text": [
      "INFO:mcmc: - Acceptance rate: 0.333\n"
     ]
    },
    {
     "name": "stdout",
     "output_type": "stream",
     "text": [
      "[mcmc]  - Acceptance rate: 0.333\n"
     ]
    },
    {
     "name": "stderr",
     "output_type": "stream",
     "text": [
      "INFO:mcmc: - Convergence of means: R-1 = 3.605150 after 1280 accepted steps\n"
     ]
    },
    {
     "name": "stdout",
     "output_type": "stream",
     "text": [
      "[mcmc]  - Convergence of means: R-1 = 3.605150 after 1280 accepted steps\n"
     ]
    },
    {
     "name": "stderr",
     "output_type": "stream",
     "text": [
      "INFO:mcmc: - Updated covariance matrix of proposal pdf.\n"
     ]
    },
    {
     "name": "stdout",
     "output_type": "stream",
     "text": [
      "[mcmc]  - Updated covariance matrix of proposal pdf.\n"
     ]
    },
    {
     "name": "stderr",
     "output_type": "stream",
     "text": [
      "INFO:mcmc:Progress @ 2022-11-22 17:20:32 : 4916 steps taken, and 1679 accepted.\n"
     ]
    },
    {
     "name": "stdout",
     "output_type": "stream",
     "text": [
      "[mcmc] Progress @ 2022-11-22 17:20:32 : 4916 steps taken, and 1679 accepted.\n"
     ]
    },
    {
     "name": "stderr",
     "output_type": "stream",
     "text": [
      "INFO:mcmc:Learn + convergence test @ 1760 samples accepted.\n"
     ]
    },
    {
     "name": "stdout",
     "output_type": "stream",
     "text": [
      "[mcmc] Learn + convergence test @ 1760 samples accepted.\n"
     ]
    },
    {
     "name": "stderr",
     "output_type": "stream",
     "text": [
      "INFO:mcmc: - Acceptance rate: 0.327\n"
     ]
    },
    {
     "name": "stdout",
     "output_type": "stream",
     "text": [
      "[mcmc]  - Acceptance rate: 0.327\n"
     ]
    },
    {
     "name": "stderr",
     "output_type": "stream",
     "text": [
      "INFO:mcmc: - Convergence of means: R-1 = 2.128815 after 1408 accepted steps\n"
     ]
    },
    {
     "name": "stdout",
     "output_type": "stream",
     "text": [
      "[mcmc]  - Convergence of means: R-1 = 2.128815 after 1408 accepted steps\n"
     ]
    },
    {
     "name": "stderr",
     "output_type": "stream",
     "text": [
      "INFO:mcmc: - Updated covariance matrix of proposal pdf.\n"
     ]
    },
    {
     "name": "stdout",
     "output_type": "stream",
     "text": [
      "[mcmc]  - Updated covariance matrix of proposal pdf.\n"
     ]
    },
    {
     "name": "stderr",
     "output_type": "stream",
     "text": [
      "INFO:mcmc:Progress @ 2022-11-22 17:21:32 : 5271 steps taken, and 1777 accepted.\n"
     ]
    },
    {
     "name": "stdout",
     "output_type": "stream",
     "text": [
      "[mcmc] Progress @ 2022-11-22 17:21:32 : 5271 steps taken, and 1777 accepted.\n"
     ]
    },
    {
     "name": "stderr",
     "output_type": "stream",
     "text": [
      "INFO:mcmc:Progress @ 2022-11-22 17:22:32 : 5628 steps taken, and 1872 accepted.\n"
     ]
    },
    {
     "name": "stdout",
     "output_type": "stream",
     "text": [
      "[mcmc] Progress @ 2022-11-22 17:22:32 : 5628 steps taken, and 1872 accepted.\n"
     ]
    },
    {
     "name": "stderr",
     "output_type": "stream",
     "text": [
      "INFO:mcmc:Learn + convergence test @ 1920 samples accepted.\n"
     ]
    },
    {
     "name": "stdout",
     "output_type": "stream",
     "text": [
      "[mcmc] Learn + convergence test @ 1920 samples accepted.\n"
     ]
    },
    {
     "name": "stderr",
     "output_type": "stream",
     "text": [
      "INFO:mcmc: - Acceptance rate: 0.320\n"
     ]
    },
    {
     "name": "stdout",
     "output_type": "stream",
     "text": [
      "[mcmc]  - Acceptance rate: 0.320\n"
     ]
    },
    {
     "name": "stderr",
     "output_type": "stream",
     "text": [
      "INFO:mcmc: - Convergence of means: R-1 = 0.945490 after 1536 accepted steps\n"
     ]
    },
    {
     "name": "stdout",
     "output_type": "stream",
     "text": [
      "[mcmc]  - Convergence of means: R-1 = 0.945490 after 1536 accepted steps\n"
     ]
    },
    {
     "name": "stderr",
     "output_type": "stream",
     "text": [
      "INFO:mcmc: - Updated covariance matrix of proposal pdf.\n"
     ]
    },
    {
     "name": "stdout",
     "output_type": "stream",
     "text": [
      "[mcmc]  - Updated covariance matrix of proposal pdf.\n"
     ]
    },
    {
     "name": "stderr",
     "output_type": "stream",
     "text": [
      "INFO:mcmc:Progress @ 2022-11-22 17:23:32 : 5971 steps taken, and 1964 accepted.\n"
     ]
    },
    {
     "name": "stdout",
     "output_type": "stream",
     "text": [
      "[mcmc] Progress @ 2022-11-22 17:23:32 : 5971 steps taken, and 1964 accepted.\n"
     ]
    },
    {
     "name": "stderr",
     "output_type": "stream",
     "text": [
      "INFO:mcmc:Progress @ 2022-11-22 17:24:32 : 6326 steps taken, and 2063 accepted.\n"
     ]
    },
    {
     "name": "stdout",
     "output_type": "stream",
     "text": [
      "[mcmc] Progress @ 2022-11-22 17:24:32 : 6326 steps taken, and 2063 accepted.\n"
     ]
    },
    {
     "name": "stderr",
     "output_type": "stream",
     "text": [
      "INFO:mcmc:Learn + convergence test @ 2080 samples accepted.\n"
     ]
    },
    {
     "name": "stdout",
     "output_type": "stream",
     "text": [
      "[mcmc] Learn + convergence test @ 2080 samples accepted.\n"
     ]
    },
    {
     "name": "stderr",
     "output_type": "stream",
     "text": [
      "INFO:mcmc: - Acceptance rate: 0.313\n"
     ]
    },
    {
     "name": "stdout",
     "output_type": "stream",
     "text": [
      "[mcmc]  - Acceptance rate: 0.313\n"
     ]
    },
    {
     "name": "stderr",
     "output_type": "stream",
     "text": [
      "INFO:mcmc: - Convergence of means: R-1 = 0.613884 after 1664 accepted steps\n"
     ]
    },
    {
     "name": "stdout",
     "output_type": "stream",
     "text": [
      "[mcmc]  - Convergence of means: R-1 = 0.613884 after 1664 accepted steps\n"
     ]
    },
    {
     "name": "stderr",
     "output_type": "stream",
     "text": [
      "INFO:mcmc: - Updated covariance matrix of proposal pdf.\n"
     ]
    },
    {
     "name": "stdout",
     "output_type": "stream",
     "text": [
      "[mcmc]  - Updated covariance matrix of proposal pdf.\n"
     ]
    },
    {
     "name": "stderr",
     "output_type": "stream",
     "text": [
      "INFO:mcmc:Progress @ 2022-11-22 17:25:32 : 6693 steps taken, and 2180 accepted.\n"
     ]
    },
    {
     "name": "stdout",
     "output_type": "stream",
     "text": [
      "[mcmc] Progress @ 2022-11-22 17:25:32 : 6693 steps taken, and 2180 accepted.\n"
     ]
    },
    {
     "name": "stderr",
     "output_type": "stream",
     "text": [
      "INFO:mcmc:Learn + convergence test @ 2240 samples accepted.\n"
     ]
    },
    {
     "name": "stdout",
     "output_type": "stream",
     "text": [
      "[mcmc] Learn + convergence test @ 2240 samples accepted.\n"
     ]
    },
    {
     "name": "stderr",
     "output_type": "stream",
     "text": [
      "INFO:mcmc: - Acceptance rate: 0.308\n"
     ]
    },
    {
     "name": "stdout",
     "output_type": "stream",
     "text": [
      "[mcmc]  - Acceptance rate: 0.308\n"
     ]
    },
    {
     "name": "stderr",
     "output_type": "stream",
     "text": [
      "INFO:mcmc: - Convergence of means: R-1 = 0.310232 after 1792 accepted steps\n"
     ]
    },
    {
     "name": "stdout",
     "output_type": "stream",
     "text": [
      "[mcmc]  - Convergence of means: R-1 = 0.310232 after 1792 accepted steps\n"
     ]
    },
    {
     "name": "stderr",
     "output_type": "stream",
     "text": [
      "INFO:mcmc: - Updated covariance matrix of proposal pdf.\n"
     ]
    },
    {
     "name": "stdout",
     "output_type": "stream",
     "text": [
      "[mcmc]  - Updated covariance matrix of proposal pdf.\n"
     ]
    },
    {
     "name": "stderr",
     "output_type": "stream",
     "text": [
      "INFO:mcmc:Progress @ 2022-11-22 17:26:32 : 7052 steps taken, and 2269 accepted.\n"
     ]
    },
    {
     "name": "stdout",
     "output_type": "stream",
     "text": [
      "[mcmc] Progress @ 2022-11-22 17:26:32 : 7052 steps taken, and 2269 accepted.\n"
     ]
    },
    {
     "name": "stderr",
     "output_type": "stream",
     "text": [
      "INFO:mcmc:Progress @ 2022-11-22 17:27:32 : 7396 steps taken, and 2379 accepted.\n"
     ]
    },
    {
     "name": "stdout",
     "output_type": "stream",
     "text": [
      "[mcmc] Progress @ 2022-11-22 17:27:32 : 7396 steps taken, and 2379 accepted.\n"
     ]
    },
    {
     "name": "stderr",
     "output_type": "stream",
     "text": [
      "INFO:mcmc:Learn + convergence test @ 2400 samples accepted.\n"
     ]
    },
    {
     "name": "stdout",
     "output_type": "stream",
     "text": [
      "[mcmc] Learn + convergence test @ 2400 samples accepted.\n"
     ]
    },
    {
     "name": "stderr",
     "output_type": "stream",
     "text": [
      "INFO:mcmc: - Acceptance rate: 0.306\n"
     ]
    },
    {
     "name": "stdout",
     "output_type": "stream",
     "text": [
      "[mcmc]  - Acceptance rate: 0.306\n"
     ]
    },
    {
     "name": "stderr",
     "output_type": "stream",
     "text": [
      "INFO:mcmc: - Convergence of means: R-1 = 0.139686 after 1920 accepted steps\n"
     ]
    },
    {
     "name": "stdout",
     "output_type": "stream",
     "text": [
      "[mcmc]  - Convergence of means: R-1 = 0.139686 after 1920 accepted steps\n"
     ]
    },
    {
     "name": "stderr",
     "output_type": "stream",
     "text": [
      "INFO:mcmc: - Updated covariance matrix of proposal pdf.\n"
     ]
    },
    {
     "name": "stdout",
     "output_type": "stream",
     "text": [
      "[mcmc]  - Updated covariance matrix of proposal pdf.\n"
     ]
    },
    {
     "name": "stderr",
     "output_type": "stream",
     "text": [
      "INFO:mcmc:Progress @ 2022-11-22 17:28:32 : 7749 steps taken, and 2476 accepted.\n"
     ]
    },
    {
     "name": "stdout",
     "output_type": "stream",
     "text": [
      "[mcmc] Progress @ 2022-11-22 17:28:32 : 7749 steps taken, and 2476 accepted.\n"
     ]
    },
    {
     "name": "stderr",
     "output_type": "stream",
     "text": [
      "INFO:mcmc:Learn + convergence test @ 2560 samples accepted.\n"
     ]
    },
    {
     "name": "stdout",
     "output_type": "stream",
     "text": [
      "[mcmc] Learn + convergence test @ 2560 samples accepted.\n"
     ]
    },
    {
     "name": "stderr",
     "output_type": "stream",
     "text": [
      "INFO:mcmc: - Acceptance rate: 0.302\n"
     ]
    },
    {
     "name": "stdout",
     "output_type": "stream",
     "text": [
      "[mcmc]  - Acceptance rate: 0.302\n"
     ]
    },
    {
     "name": "stderr",
     "output_type": "stream",
     "text": [
      "INFO:mcmc: - Convergence of means: R-1 = 0.085116 after 2048 accepted steps\n"
     ]
    },
    {
     "name": "stdout",
     "output_type": "stream",
     "text": [
      "[mcmc]  - Convergence of means: R-1 = 0.085116 after 2048 accepted steps\n"
     ]
    },
    {
     "name": "stderr",
     "output_type": "stream",
     "text": [
      "INFO:mcmc: - Updated covariance matrix of proposal pdf.\n"
     ]
    },
    {
     "name": "stdout",
     "output_type": "stream",
     "text": [
      "[mcmc]  - Updated covariance matrix of proposal pdf.\n"
     ]
    },
    {
     "name": "stderr",
     "output_type": "stream",
     "text": [
      "INFO:mcmc:Progress @ 2022-11-22 17:29:33 : 8103 steps taken, and 2573 accepted.\n"
     ]
    },
    {
     "name": "stdout",
     "output_type": "stream",
     "text": [
      "[mcmc] Progress @ 2022-11-22 17:29:33 : 8103 steps taken, and 2573 accepted.\n"
     ]
    },
    {
     "name": "stderr",
     "output_type": "stream",
     "text": [
      "INFO:mcmc:Progress @ 2022-11-22 17:30:33 : 8455 steps taken, and 2690 accepted.\n"
     ]
    },
    {
     "name": "stdout",
     "output_type": "stream",
     "text": [
      "[mcmc] Progress @ 2022-11-22 17:30:33 : 8455 steps taken, and 2690 accepted.\n"
     ]
    },
    {
     "name": "stderr",
     "output_type": "stream",
     "text": [
      "INFO:mcmc:Learn + convergence test @ 2720 samples accepted.\n"
     ]
    },
    {
     "name": "stdout",
     "output_type": "stream",
     "text": [
      "[mcmc] Learn + convergence test @ 2720 samples accepted.\n"
     ]
    },
    {
     "name": "stderr",
     "output_type": "stream",
     "text": [
      "INFO:mcmc: - Acceptance rate: 0.304\n"
     ]
    },
    {
     "name": "stdout",
     "output_type": "stream",
     "text": [
      "[mcmc]  - Acceptance rate: 0.304\n"
     ]
    },
    {
     "name": "stderr",
     "output_type": "stream",
     "text": [
      "INFO:mcmc: - Convergence of means: R-1 = 0.028427 after 2176 accepted steps\n"
     ]
    },
    {
     "name": "stdout",
     "output_type": "stream",
     "text": [
      "[mcmc]  - Convergence of means: R-1 = 0.028427 after 2176 accepted steps\n"
     ]
    },
    {
     "name": "stderr",
     "output_type": "stream",
     "text": [
      "INFO:mcmc: - Updated covariance matrix of proposal pdf.\n"
     ]
    },
    {
     "name": "stdout",
     "output_type": "stream",
     "text": [
      "[mcmc]  - Updated covariance matrix of proposal pdf.\n"
     ]
    },
    {
     "name": "stderr",
     "output_type": "stream",
     "text": [
      "INFO:mcmc:Progress @ 2022-11-22 17:31:33 : 8806 steps taken, and 2786 accepted.\n"
     ]
    },
    {
     "name": "stdout",
     "output_type": "stream",
     "text": [
      "[mcmc] Progress @ 2022-11-22 17:31:33 : 8806 steps taken, and 2786 accepted.\n"
     ]
    },
    {
     "name": "stderr",
     "output_type": "stream",
     "text": [
      "INFO:mcmc:Learn + convergence test @ 2880 samples accepted.\n"
     ]
    },
    {
     "name": "stdout",
     "output_type": "stream",
     "text": [
      "[mcmc] Learn + convergence test @ 2880 samples accepted.\n"
     ]
    },
    {
     "name": "stderr",
     "output_type": "stream",
     "text": [
      "INFO:mcmc: - Acceptance rate: 0.299\n"
     ]
    },
    {
     "name": "stdout",
     "output_type": "stream",
     "text": [
      "[mcmc]  - Acceptance rate: 0.299\n"
     ]
    },
    {
     "name": "stderr",
     "output_type": "stream",
     "text": [
      "INFO:mcmc: - Convergence of means: R-1 = 0.016079 after 2304 accepted steps\n"
     ]
    },
    {
     "name": "stdout",
     "output_type": "stream",
     "text": [
      "[mcmc]  - Convergence of means: R-1 = 0.016079 after 2304 accepted steps\n"
     ]
    },
    {
     "name": "stderr",
     "output_type": "stream",
     "text": [
      "INFO:mcmc: - Updated covariance matrix of proposal pdf.\n"
     ]
    },
    {
     "name": "stdout",
     "output_type": "stream",
     "text": [
      "[mcmc]  - Updated covariance matrix of proposal pdf.\n"
     ]
    },
    {
     "name": "stderr",
     "output_type": "stream",
     "text": [
      "INFO:mcmc:Progress @ 2022-11-22 17:32:33 : 9159 steps taken, and 2884 accepted.\n"
     ]
    },
    {
     "name": "stdout",
     "output_type": "stream",
     "text": [
      "[mcmc] Progress @ 2022-11-22 17:32:33 : 9159 steps taken, and 2884 accepted.\n"
     ]
    },
    {
     "name": "stderr",
     "output_type": "stream",
     "text": [
      "INFO:mcmc:Progress @ 2022-11-22 17:33:33 : 9514 steps taken, and 2984 accepted.\n"
     ]
    },
    {
     "name": "stdout",
     "output_type": "stream",
     "text": [
      "[mcmc] Progress @ 2022-11-22 17:33:33 : 9514 steps taken, and 2984 accepted.\n"
     ]
    },
    {
     "name": "stderr",
     "output_type": "stream",
     "text": [
      "INFO:mcmc:Learn + convergence test @ 3040 samples accepted.\n"
     ]
    },
    {
     "name": "stdout",
     "output_type": "stream",
     "text": [
      "[mcmc] Learn + convergence test @ 3040 samples accepted.\n"
     ]
    },
    {
     "name": "stderr",
     "output_type": "stream",
     "text": [
      "INFO:mcmc: - Acceptance rate: 0.297\n"
     ]
    },
    {
     "name": "stdout",
     "output_type": "stream",
     "text": [
      "[mcmc]  - Acceptance rate: 0.297\n"
     ]
    },
    {
     "name": "stderr",
     "output_type": "stream",
     "text": [
      "INFO:mcmc: - Convergence of means: R-1 = 0.014883 after 2432 accepted steps\n"
     ]
    },
    {
     "name": "stdout",
     "output_type": "stream",
     "text": [
      "[mcmc]  - Convergence of means: R-1 = 0.014883 after 2432 accepted steps\n"
     ]
    },
    {
     "name": "stderr",
     "output_type": "stream",
     "text": [
      "INFO:mcmc: - Updated covariance matrix of proposal pdf.\n"
     ]
    },
    {
     "name": "stdout",
     "output_type": "stream",
     "text": [
      "[mcmc]  - Updated covariance matrix of proposal pdf.\n"
     ]
    },
    {
     "name": "stderr",
     "output_type": "stream",
     "text": [
      "INFO:mcmc:Progress @ 2022-11-22 17:34:33 : 9868 steps taken, and 3090 accepted.\n"
     ]
    },
    {
     "name": "stdout",
     "output_type": "stream",
     "text": [
      "[mcmc] Progress @ 2022-11-22 17:34:33 : 9868 steps taken, and 3090 accepted.\n"
     ]
    },
    {
     "name": "stderr",
     "output_type": "stream",
     "text": [
      "INFO:mcmc:Learn + convergence test @ 3200 samples accepted.\n"
     ]
    },
    {
     "name": "stdout",
     "output_type": "stream",
     "text": [
      "[mcmc] Learn + convergence test @ 3200 samples accepted.\n"
     ]
    },
    {
     "name": "stderr",
     "output_type": "stream",
     "text": [
      "INFO:mcmc: - Acceptance rate: 0.298\n"
     ]
    },
    {
     "name": "stdout",
     "output_type": "stream",
     "text": [
      "[mcmc]  - Acceptance rate: 0.298\n"
     ]
    },
    {
     "name": "stderr",
     "output_type": "stream",
     "text": [
      "INFO:mcmc: - Convergence of means: R-1 = 0.028114 after 2560 accepted steps\n"
     ]
    },
    {
     "name": "stdout",
     "output_type": "stream",
     "text": [
      "[mcmc]  - Convergence of means: R-1 = 0.028114 after 2560 accepted steps\n"
     ]
    },
    {
     "name": "stderr",
     "output_type": "stream",
     "text": [
      "INFO:mcmc: - Updated covariance matrix of proposal pdf.\n"
     ]
    },
    {
     "name": "stdout",
     "output_type": "stream",
     "text": [
      "[mcmc]  - Updated covariance matrix of proposal pdf.\n"
     ]
    },
    {
     "name": "stderr",
     "output_type": "stream",
     "text": [
      "INFO:mcmc:Progress @ 2022-11-22 17:35:33 : 10221 steps taken, and 3210 accepted.\n"
     ]
    },
    {
     "name": "stdout",
     "output_type": "stream",
     "text": [
      "[mcmc] Progress @ 2022-11-22 17:35:33 : 10221 steps taken, and 3210 accepted.\n"
     ]
    },
    {
     "name": "stderr",
     "output_type": "stream",
     "text": [
      "INFO:mcmc:Progress @ 2022-11-22 17:36:33 : 10563 steps taken, and 3310 accepted.\n"
     ]
    },
    {
     "name": "stdout",
     "output_type": "stream",
     "text": [
      "[mcmc] Progress @ 2022-11-22 17:36:33 : 10563 steps taken, and 3310 accepted.\n"
     ]
    },
    {
     "name": "stderr",
     "output_type": "stream",
     "text": [
      "INFO:mcmc:Learn + convergence test @ 3360 samples accepted.\n"
     ]
    },
    {
     "name": "stdout",
     "output_type": "stream",
     "text": [
      "[mcmc] Learn + convergence test @ 3360 samples accepted.\n"
     ]
    },
    {
     "name": "stderr",
     "output_type": "stream",
     "text": [
      "INFO:mcmc: - Acceptance rate: 0.296\n"
     ]
    },
    {
     "name": "stdout",
     "output_type": "stream",
     "text": [
      "[mcmc]  - Acceptance rate: 0.296\n"
     ]
    },
    {
     "name": "stderr",
     "output_type": "stream",
     "text": [
      "INFO:mcmc: - Convergence of means: R-1 = 0.029704 after 2688 accepted steps\n"
     ]
    },
    {
     "name": "stdout",
     "output_type": "stream",
     "text": [
      "[mcmc]  - Convergence of means: R-1 = 0.029704 after 2688 accepted steps\n"
     ]
    },
    {
     "name": "stderr",
     "output_type": "stream",
     "text": [
      "INFO:mcmc: - Updated covariance matrix of proposal pdf.\n"
     ]
    },
    {
     "name": "stdout",
     "output_type": "stream",
     "text": [
      "[mcmc]  - Updated covariance matrix of proposal pdf.\n"
     ]
    },
    {
     "name": "stderr",
     "output_type": "stream",
     "text": [
      "INFO:mcmc:Progress @ 2022-11-22 17:37:33 : 10916 steps taken, and 3420 accepted.\n"
     ]
    },
    {
     "name": "stdout",
     "output_type": "stream",
     "text": [
      "[mcmc] Progress @ 2022-11-22 17:37:33 : 10916 steps taken, and 3420 accepted.\n"
     ]
    },
    {
     "name": "stderr",
     "output_type": "stream",
     "text": [
      "INFO:mcmc:Learn + convergence test @ 3520 samples accepted.\n"
     ]
    },
    {
     "name": "stdout",
     "output_type": "stream",
     "text": [
      "[mcmc] Learn + convergence test @ 3520 samples accepted.\n"
     ]
    },
    {
     "name": "stderr",
     "output_type": "stream",
     "text": [
      "INFO:mcmc: - Acceptance rate: 0.296\n"
     ]
    },
    {
     "name": "stdout",
     "output_type": "stream",
     "text": [
      "[mcmc]  - Acceptance rate: 0.296\n"
     ]
    },
    {
     "name": "stderr",
     "output_type": "stream",
     "text": [
      "INFO:mcmc: - Convergence of means: R-1 = 0.029030 after 2816 accepted steps\n"
     ]
    },
    {
     "name": "stdout",
     "output_type": "stream",
     "text": [
      "[mcmc]  - Convergence of means: R-1 = 0.029030 after 2816 accepted steps\n"
     ]
    },
    {
     "name": "stderr",
     "output_type": "stream",
     "text": [
      "INFO:mcmc: - Updated covariance matrix of proposal pdf.\n"
     ]
    },
    {
     "name": "stdout",
     "output_type": "stream",
     "text": [
      "[mcmc]  - Updated covariance matrix of proposal pdf.\n"
     ]
    },
    {
     "name": "stderr",
     "output_type": "stream",
     "text": [
      "INFO:mcmc:Progress @ 2022-11-22 17:38:33 : 11268 steps taken, and 3523 accepted.\n"
     ]
    },
    {
     "name": "stdout",
     "output_type": "stream",
     "text": [
      "[mcmc] Progress @ 2022-11-22 17:38:33 : 11268 steps taken, and 3523 accepted.\n"
     ]
    },
    {
     "name": "stderr",
     "output_type": "stream",
     "text": [
      "INFO:mcmc:Progress @ 2022-11-22 17:39:33 : 11620 steps taken, and 3627 accepted.\n"
     ]
    },
    {
     "name": "stdout",
     "output_type": "stream",
     "text": [
      "[mcmc] Progress @ 2022-11-22 17:39:33 : 11620 steps taken, and 3627 accepted.\n"
     ]
    },
    {
     "name": "stderr",
     "output_type": "stream",
     "text": [
      "INFO:mcmc:Learn + convergence test @ 3680 samples accepted.\n"
     ]
    },
    {
     "name": "stdout",
     "output_type": "stream",
     "text": [
      "[mcmc] Learn + convergence test @ 3680 samples accepted.\n"
     ]
    },
    {
     "name": "stderr",
     "output_type": "stream",
     "text": [
      "INFO:mcmc: - Acceptance rate: 0.296\n"
     ]
    },
    {
     "name": "stdout",
     "output_type": "stream",
     "text": [
      "[mcmc]  - Acceptance rate: 0.296\n"
     ]
    },
    {
     "name": "stderr",
     "output_type": "stream",
     "text": [
      "INFO:mcmc: - Convergence of means: R-1 = 0.009689 after 2944 accepted steps\n"
     ]
    },
    {
     "name": "stdout",
     "output_type": "stream",
     "text": [
      "[mcmc]  - Convergence of means: R-1 = 0.009689 after 2944 accepted steps\n"
     ]
    },
    {
     "name": "stderr",
     "output_type": "stream",
     "text": [
      "INFO:mcmc: - Updated covariance matrix of proposal pdf.\n"
     ]
    },
    {
     "name": "stdout",
     "output_type": "stream",
     "text": [
      "[mcmc]  - Updated covariance matrix of proposal pdf.\n"
     ]
    },
    {
     "name": "stderr",
     "output_type": "stream",
     "text": [
      "INFO:mcmc:Progress @ 2022-11-22 17:40:33 : 11969 steps taken, and 3721 accepted.\n"
     ]
    },
    {
     "name": "stdout",
     "output_type": "stream",
     "text": [
      "[mcmc] Progress @ 2022-11-22 17:40:33 : 11969 steps taken, and 3721 accepted.\n"
     ]
    },
    {
     "name": "stderr",
     "output_type": "stream",
     "text": [
      "INFO:mcmc:Progress @ 2022-11-22 17:41:33 : 12320 steps taken, and 3822 accepted.\n"
     ]
    },
    {
     "name": "stdout",
     "output_type": "stream",
     "text": [
      "[mcmc] Progress @ 2022-11-22 17:41:33 : 12320 steps taken, and 3822 accepted.\n"
     ]
    },
    {
     "name": "stderr",
     "output_type": "stream",
     "text": [
      "INFO:mcmc:Learn + convergence test @ 3840 samples accepted.\n"
     ]
    },
    {
     "name": "stdout",
     "output_type": "stream",
     "text": [
      "[mcmc] Learn + convergence test @ 3840 samples accepted.\n"
     ]
    },
    {
     "name": "stderr",
     "output_type": "stream",
     "text": [
      "INFO:mcmc: - Acceptance rate: 0.295\n"
     ]
    },
    {
     "name": "stdout",
     "output_type": "stream",
     "text": [
      "[mcmc]  - Acceptance rate: 0.295\n"
     ]
    },
    {
     "name": "stderr",
     "output_type": "stream",
     "text": [
      "INFO:mcmc: - Convergence of means: R-1 = 0.006122 after 3072 accepted steps\n"
     ]
    },
    {
     "name": "stdout",
     "output_type": "stream",
     "text": [
      "[mcmc]  - Convergence of means: R-1 = 0.006122 after 3072 accepted steps\n"
     ]
    },
    {
     "name": "stderr",
     "output_type": "stream",
     "text": [
      "INFO:mcmc: - Convergence of bounds: R-1 = 0.076180 after 3840 accepted steps\n"
     ]
    },
    {
     "name": "stdout",
     "output_type": "stream",
     "text": [
      "[mcmc]  - Convergence of bounds: R-1 = 0.076180 after 3840 accepted steps\n"
     ]
    },
    {
     "name": "stderr",
     "output_type": "stream",
     "text": [
      "INFO:mcmc:The run has converged!\n"
     ]
    },
    {
     "name": "stdout",
     "output_type": "stream",
     "text": [
      "[mcmc] The run has converged!\n"
     ]
    },
    {
     "name": "stderr",
     "output_type": "stream",
     "text": [
      "INFO:mcmc:Sampling complete after 3840 accepted steps.\n"
     ]
    },
    {
     "name": "stdout",
     "output_type": "stream",
     "text": [
      "[mcmc] Sampling complete after 3840 accepted steps.\n"
     ]
    }
   ],
   "source": [
    "info2 = {\"likelihood\": {\"loglikeSNIa\": loglikelihood},\n",
    "         \"params\": {\"Om\": {\"prior\": {\"min\": 0.2, \"max\": 0.4}, \\\n",
    "                           \"ref\": {\"min\": 0.3, \"max\": 0.31}, \\\n",
    "                           \"proposal\": 0.005, \"latex\": r\"\\Omega_{m0}\"}, \\\n",
    "                    \"H0\": {\"prior\": {\"dist\": \"norm\", \"loc\": 73.30, \"scale\": 1.04}, \\\n",
    "                           \"ref\": 73.30, \"proposal\": 0.002, \"latex\": r\"H_0\"}, \\\n",
    "                    \"M\": {\"prior\": {\"min\": -19.5, \"max\": -19.0}, \\\n",
    "                          \"ref\": {\"min\": -19.3, \"max\": -19.2}, \\\n",
    "                          \"proposal\": 0.005, \"latex\": r'M'}, \\\n",
    "                    \"s80\": {\"prior\":{\"dist\": \"norm\", \"loc\": 0.1, \"scale\": 1.2}, \\\n",
    "                            \"ref\": 0.7, \"proposal\": 0.002, \"latex\": r'\\sigma_{8}'}}, \\\n",
    "         \"sampler\" : {\"mcmc\": {\"Rminus1_stop\": 0.01, \"max_tries\": 1000}}}  \n",
    "\n",
    "info2[\"ouput\"] = \"chains/LCDMR22\"\n",
    "updated2_info, sampler2 = run(info2, force=True)  "
   ]
  },
  {
   "cell_type": "markdown",
   "metadata": {
    "id": "xvuK0GHVfx6V"
   },
   "source": [
    "After got the posteriors, we could load the samples and plot the triangle contour plot toward each parameters."
   ]
  },
  {
   "cell_type": "code",
   "execution_count": null,
   "metadata": {
    "colab": {
     "base_uri": "https://localhost:8080/"
    },
    "id": "M_CkE4j2NZ5f",
    "outputId": "f281ee29-280d-4e36-e84c-bb52a6c9446c"
   },
   "outputs": [
    {
     "data": {
      "image/png": "[encoded data removed]",
      "text/plain": [
       "<Figure size 432x432 with 6 Axes>"
      ]
     },
     "metadata": {
      "needs_background": "light"
     },
     "output_type": "display_data"
    }
   ],
   "source": [
    "samples2 = MCSamplesFromCobaya(updated2_info, sampler2.products()[\"sample\"])\n",
    "\n",
    "gdplot = gdplt.get_subplot_plotter()\n",
    "gdplot.triangle_plot([samples2], [\"Om\", \"H0\", \"s80\"], \\\n",
    "                     legend_labels=['SHOES'], title_limit=1, filled=True)\n",
    "plt.show()"
   ]
  },
  {
   "cell_type": "markdown",
   "metadata": {
    "id": "UshvmtJwngTT"
   },
   "source": [
    "Print likelihood-related statistic parameters, such as __mean__ for each parameters, __varians__ and __best-fit sample__..."
   ]
  },
  {
   "cell_type": "code",
   "execution_count": null,
   "metadata": {
    "colab": {
     "base_uri": "https://localhost:8080/"
    },
    "id": "UnylAB3fO59V",
    "outputId": "a4f543e6-7fc8-4164-f9fc-0d2a8cb3beb3"
   },
   "outputs": [
    {
     "name": "stdout",
     "output_type": "stream",
     "text": [
      " marge stats \n",
      "Marginalized limits: 0.68; 0.95; 0.99\n",
      "\n",
      "parameter           mean           sddev          lower1         upper1         limit1 lower2         upper2         limit2 lower3         upper3         limit3 \n",
      "Om                  2.7139898E-01  1.5122029E-02  2.6303915E-01  2.8813581E-01  two    2.3448347E-01  2.9465094E-01  two    2.3056270E-01  3.0237536E-01  two     \\Omega_{m0}\n",
      "H0                  7.0371806E+01  1.1836248E+00  6.9198028E+01  7.0751111E+01  two    6.8603627E+01  7.3480786E+01  two    6.8302283E+01  7.3541538E+01  two     H_0\n",
      "M                  -1.9359691E+01  3.1942017E-02 -1.9392098E+01 -1.9348066E+01  two   -1.9402767E+01 -1.9279633E+01  two   -1.9414222E+01 -1.9267857E+01  two     M\n",
      "s80                 7.8400934E-01  1.8934707E-02  7.6377439E-01  8.0096626E-01  two    7.5028507E-01  8.2273536E-01  two    7.3335621E-01  8.3422957E-01  two     \\sigma_{8}\n",
      "minuslogprior*      4.5307700E+00  2.5159199E+00  2.2290635E+00  7.2999986E+00  two   -6.6967732E-01  9.2572656E+00  two   -1.8426311E+00  1.0812918E+01  two     -\\log\\pi\n",
      "minuslogprior__0*   4.5307700E+00  2.5159199E+00  2.2290635E+00  7.2999986E+00  two   -6.6967732E-01  9.2572656E+00  two   -1.8426311E+00  1.0812918E+01  two     -\\log\\pi_\\mathrm{0}\n",
      "chi2*               1.4870557E+03  1.3437918E+01  1.4765901E+03  1.4873823E+03  two    1.4736589E+03  1.5214483E+03  two    1.4723894E+03  1.5336384E+03  two     \\chi^2\n",
      "chi2__loglikeSNIa*  1.4870557E+03  1.3437918E+01  1.4765901E+03  1.4873823E+03  two    1.4736589E+03  1.5214483E+03  two    1.4723894E+03  1.5336384E+03  two     \\chi^2_\\mathrm{loglikeSNIa}\n",
      "\n",
      "\n",
      " like stats \n",
      "Best fit sample -log(Like) = 744.546077\n",
      "mean(-Ln(like)) = 748.058640\n",
      "-Ln(mean like)  = 746.067081\n",
      "\n",
      "parameter           bestfit        lower1         upper1         lower2         upper2\n",
      "Om                  2.7248333E-01  2.9846791E-01 -1.9333348E+01  3.1393839E-01 -1.9322294E+01   \\Omega_{m0}\n",
      "H0                  7.0075758E+01  7.1363111E+01  8.1407973E-01  7.3360306E+01  8.2252208E-01   H_0\n",
      "M                  -1.9367401E+01 -1.9329858E+01 7.2952342E-316 -1.9277619E+01 4.9406565E-324   M\n",
      "s80                 7.8370430E-01  8.1876930E-01 5.5111197E-316  8.3654150E-01  2.9869119E-01   \\sigma_{8}\n",
      "minuslogprior*      4.7248650E+00  1.0373689E+01 7.3461127E-316  1.2971834E+01  7.1716509E+01   -\\log\\pi\n",
      "minuslogprior__0*   4.7248650E+00  1.0373689E+01 7.3461269E-316  1.2971834E+01 -1.9325093E+01   -\\log\\pi_\\mathrm{0}\n",
      "chi2*               1.4796424E+03  1.4912932E+03 7.2950698E-316  1.5174632E+03  8.2469545E-01   \\chi^2\n",
      "chi2__loglikeSNIa*  1.4796424E+03  1.4912932E+03 7.1315949E-316  1.5174632E+03  5.9767560E-01   \\chi^2_\\mathrm{loglikeSNIa}\n",
      "\n"
     ]
    }
   ],
   "source": [
    "print(' marge stats ')\n",
    "print(samples2.getMargeStats())\n",
    "print()\n",
    "print(' like stats ')\n",
    "print(samples2.getLikeStats())"
   ]
  },
  {
   "cell_type": "markdown",
   "metadata": {
    "id": "B0TixZdps9wV"
   },
   "source": [
    "Then we use AIC and BIC respectively to determine the quality of this model."
   ]
  },
  {
   "cell_type": "code",
   "execution_count": null,
   "metadata": {
    "colab": {
     "base_uri": "https://localhost:8080/"
    },
    "id": "g90CMpjjVN4t",
    "outputId": "caa32163-a9a4-4e3d-df42-767866645994"
   },
   "outputs": [],
   "source": [
    "Llike_bfmodel2 = # input from samples\n",
    "p = 4 # number of sampled parameters\n",
    "n_data = 31 + 26 + 1701 + 63 # size of data\n",
    "\n",
    "chi2_best_model2 = -2*Llike_bfmodel2\n",
    "AIC_best_model2 = 2*p -2*Llike_bfmodel2\n",
    "BIC_best_model2 = p*np.log(n_data) -2*Llike_bfmodel2\n",
    "\n",
    "print('model 2: SH0ES')\n",
    "print('best chi2 = ', chi2_best_model2)\n",
    "print('best AIC = ', AIC_best_model2)\n",
    "print('best BIC = ', BIC_best_model2)"
   ]
  },
  {
   "cell_type": "markdown",
   "metadata": {
    "id": "krsbQaGzhh1T"
   },
   "source": [
    "Finally, we plot the results used __P18__ and __R22__ as the priors together, then we can have a triangle contour plot respected to $H_0$, $\\Omega_{m0}$ and $\\sigma_8$."
   ]
  },
  {
   "cell_type": "code",
   "execution_count": null,
   "metadata": {
    "colab": {
     "base_uri": "https://localhost:8080/"
    },
    "id": "awi8e23F9S7z",
    "outputId": "edac45de-5b9b-4964-dc7a-a502d723d0fb"
   },
   "outputs": [
    {
     "data": {
      "image/png": "[encoded data removed]",
      "text/plain": [
       "<Figure size 432x432 with 6 Axes>"
      ]
     },
     "metadata": {
      "needs_background": "light"
     },
     "output_type": "display_data"
    }
   ],
   "source": [
    "gdplot = gdplt.get_subplot_plotter()\n",
    "gdplot.triangle_plot([samples1, samples2], [\"Om\", \"H0\", \"s80\"], \\\n",
    "                     legend_labels=['P18','R22'], ls=['--', ':'], filled=True)\n",
    "plt.show()"
   ]
  },
  {
   "cell_type": "markdown",
   "metadata": {},
   "source": [
    "End of notebook"
   ]
  }
 ],
 "metadata": {
  "accelerator": "GPU",
  "colab": {
   "provenance": []
  },
  "gpuClass": "standard",
  "kernelspec": {
   "display_name": "Python 3 (ipykernel)",
   "language": "python",
   "name": "python3"
  },
  "language_info": {
   "codemirror_mode": {
    "name": "ipython",
    "version": 3
   },
   "file_extension": ".py",
   "mimetype": "text/x-python",
   "name": "python",
   "nbconvert_exporter": "python",
   "pygments_lexer": "ipython3",
   "version": "3.9.12"
  }
 },
 "nbformat": 4,
 "nbformat_minor": 4
}
